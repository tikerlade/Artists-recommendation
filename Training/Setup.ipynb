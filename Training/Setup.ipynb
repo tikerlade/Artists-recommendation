{
 "cells": [
  {
   "cell_type": "markdown",
   "metadata": {},
   "source": [
    "# Setup ipynb\n",
    "IPython notebook that imports everything that we need and provide some functions that we'll use later in other notebooks which I don't want to litter."
   ]
  },
  {
   "cell_type": "code",
   "execution_count": 3,
   "metadata": {
    "ExecuteTime": {
     "end_time": "2020-06-23T05:34:10.876125Z",
     "start_time": "2020-06-23T05:34:10.855931Z"
    }
   },
   "outputs": [],
   "source": [
    "# Import warnings first to suppress import logs.\n",
    "import warnings\n",
    "warnings.resetwarnings()\n",
    "warnings.filterwarnings('ignore')"
   ]
  },
  {
   "cell_type": "markdown",
   "metadata": {},
   "source": [
    "## Imports"
   ]
  },
  {
   "cell_type": "code",
   "execution_count": 4,
   "metadata": {
    "ExecuteTime": {
     "end_time": "2020-06-22T18:15:17.947807Z",
     "start_time": "2020-06-22T18:15:13.514605Z"
    }
   },
   "outputs": [
    {
     "ename": "ModuleNotFoundError",
     "evalue": "No module named 'faiss'",
     "output_type": "error",
     "traceback": [
      "\u001b[0;31m---------------------------------------------------------------------------\u001b[0m",
      "\u001b[0;31mModuleNotFoundError\u001b[0m                       Traceback (most recent call last)",
      "\u001b[0;32m<ipython-input-4-44b813834726>\u001b[0m in \u001b[0;36m<module>\u001b[0;34m\u001b[0m\n\u001b[1;32m     15\u001b[0m \u001b[0;32mfrom\u001b[0m \u001b[0msklearn\u001b[0m\u001b[0;34m.\u001b[0m\u001b[0mpreprocessing\u001b[0m \u001b[0;32mimport\u001b[0m \u001b[0mLabelEncoder\u001b[0m\u001b[0;34m\u001b[0m\u001b[0;34m\u001b[0m\u001b[0m\n\u001b[1;32m     16\u001b[0m \u001b[0;34m\u001b[0m\u001b[0m\n\u001b[0;32m---> 17\u001b[0;31m \u001b[0;32mimport\u001b[0m \u001b[0mfaiss\u001b[0m\u001b[0;34m\u001b[0m\u001b[0;34m\u001b[0m\u001b[0m\n\u001b[0m\u001b[1;32m     18\u001b[0m \u001b[0;32mimport\u001b[0m \u001b[0mmatplotlib\u001b[0m\u001b[0;34m.\u001b[0m\u001b[0mpyplot\u001b[0m \u001b[0;32mas\u001b[0m \u001b[0mplt\u001b[0m\u001b[0;34m\u001b[0m\u001b[0;34m\u001b[0m\u001b[0m\n\u001b[1;32m     19\u001b[0m \u001b[0;32mimport\u001b[0m \u001b[0mpandas\u001b[0m \u001b[0;32mas\u001b[0m \u001b[0mpd\u001b[0m\u001b[0;34m\u001b[0m\u001b[0;34m\u001b[0m\u001b[0m\n",
      "\u001b[0;31mModuleNotFoundError\u001b[0m: No module named 'faiss'"
     ]
    }
   ],
   "source": [
    "import gc\n",
    "import json\n",
    "import os\n",
    "import pickle\n",
    "import random\n",
    "import re\n",
    "import string\n",
    "from collections import defaultdict, Counter\n",
    "from itertools import combinations\n",
    "from urllib.parse import unquote\n",
    "\n",
    "import numpy as np\n",
    "from sklearn.metrics.pairwise import cosine_similarity\n",
    "from sklearn.model_selection import train_test_split\n",
    "from sklearn.preprocessing import LabelEncoder\n",
    "\n",
    "import faiss\n",
    "import matplotlib.pyplot as plt\n",
    "import pandas as pd\n",
    "import seaborn as sns\n",
    "import sentencepiece as spm\n",
    "from keras import backend as K\n",
    "from keras.callbacks import EarlyStopping\n",
    "from keras.layers import (Activation, Dense, Embedding, GlobalAveragePooling1D,\n",
    "                          Input, Lambda)\n",
    "from keras.models import Model\n",
    "from keras.optimizers import Adam\n",
    "from keras.utils import to_categorical\n",
    "from tensorflow import keras\n",
    "from tensorflow.keras.callbacks import ModelCheckpoint\n",
    "from tqdm import tqdm_notebook\n",
    "\n",
    "%matplotlib inline\n",
    "\n",
    "print('Imports done!')"
   ]
  },
  {
   "cell_type": "markdown",
   "metadata": {},
   "source": [
    "## Tools"
   ]
  },
  {
   "cell_type": "code",
   "execution_count": 1,
   "metadata": {
    "ExecuteTime": {
     "end_time": "2020-06-22T22:14:43.636377Z",
     "start_time": "2020-06-22T22:14:43.474429Z"
    }
   },
   "outputs": [],
   "source": [
    "def get_attr(obj, attr):\n",
    "    '''From data string for a given object retrieves attribute.'''\n",
    "    return json.loads(obj)[attr]\n",
    "\n",
    "\n",
    "def get_array_attr(obj, attr, id_='id'):\n",
    "    '''From data string for a given object retrieves id_ from each item of attr array.'''\n",
    "    array = []\n",
    "    \n",
    "    for piece in json.loads(obj)[attr]:\n",
    "        if id_ in piece:\n",
    "            array.append(piece[id_])\n",
    "    \n",
    "    return array\n",
    "\n",
    "\n",
    "def get_artist_of_track(track):\n",
    "    '''Get artists id of given track'''\n",
    "    if track in track_to_artist:\n",
    "        return track_to_artist[track]\n",
    "    else:\n",
    "        return -1\n",
    "\n",
    "\n",
    "def track_array_to_artists(array):\n",
    "    '''Migrate from array of tracks ids to array of artists ids'''\n",
    "    artists = list(set(map(get_artist_of_track, array)))\n",
    "    \n",
    "    if -1 in artists:\n",
    "        artists.remove(-1)\n",
    "    \n",
    "    return artists\n",
    "\n",
    "\n",
    "def get_artist_name(id_, df):\n",
    "    '''Get name of artist with artist_id = id_ from df DataFrame.'''\n",
    "    data = df[df['artist_id'] == id_]\n",
    "    \n",
    "    if len(data) > 0:\n",
    "        return data.iloc[0]['artist_name'].replace('+', ' ')\n",
    "    return 'Unknown'\n",
    "\n",
    "def find_artist(name, df):\n",
    "    '''In a given Dataframe search all occurrences of artist with a given name.'''\n",
    "    temp_df = df[df.artist_name.fillna('').str.contains(name)]\n",
    "\n",
    "    for idx in temp_df['artist_id']:\n",
    "        try:\n",
    "            print(df[df.artist_id == idx].\n",
    "                  iloc[0]['artist_name'].replace('+', ' '), idx)\n",
    "        except:\n",
    "            continue\n",
    "    \n",
    "    return list(set(temp_df['artist_id']))\n",
    "\n",
    "def replace_none(array, replacer):\n",
    "    '''Replace None values in array with replacer value.'''\n",
    "    \n",
    "    return [item if item else replacer for item in array]"
   ]
  }
 ],
 "metadata": {
  "kernelspec": {
   "display_name": "Python 3",
   "language": "python",
   "name": "python3"
  },
  "language_info": {
   "codemirror_mode": {
    "name": "ipython",
    "version": 3
   },
   "file_extension": ".py",
   "mimetype": "text/x-python",
   "name": "python",
   "nbconvert_exporter": "python",
   "pygments_lexer": "ipython3",
   "version": "3.6.12"
  }
 },
 "nbformat": 4,
 "nbformat_minor": 2
}
