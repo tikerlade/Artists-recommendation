{
 "cells": [
  {
   "cell_type": "markdown",
   "metadata": {},
   "source": [
    "# Preprocessing data"
   ]
  },
  {
   "cell_type": "markdown",
   "metadata": {},
   "source": [
    "## Setup\n",
    "\n",
    "Проводим все нужные import'ы и объявления вспомогательных функций, запустив код из `Setup.ipynb`.\n",
    "\n",
    "Код объемный и не хочется засорять основные IPython-ноутбуки ячейками, которые будут замыливать глаз и мешать. Будем соблюдать модульность. Тем более IPython-ноутбук с настройками можно дополнять по мере необходимости, а также использовать в других проектах."
   ]
  },
  {
   "cell_type": "code",
   "execution_count": 1,
   "metadata": {
    "ExecuteTime": {
     "end_time": "2020-06-23T06:20:42.531588Z",
     "start_time": "2020-06-23T06:20:38.903051Z"
    },
    "scrolled": false
   },
   "outputs": [
    {
     "name": "stdout",
     "output_type": "stream",
     "text": [
      "Imports done!\n"
     ]
    }
   ],
   "source": [
    "run Setup.ipynb"
   ]
  },
  {
   "cell_type": "markdown",
   "metadata": {},
   "source": [
    "## Persons\n",
    "\n",
    "Считаем данные об артистах(авторах). В этих данных у нас имеется 5 столбцов."
   ]
  },
  {
   "cell_type": "code",
   "execution_count": 2,
   "metadata": {
    "ExecuteTime": {
     "end_time": "2020-06-23T06:20:47.440881Z",
     "start_time": "2020-06-23T06:20:46.385469Z"
    },
    "scrolled": true
   },
   "outputs": [
    {
     "name": "stdout",
     "output_type": "stream",
     "text": [
      "(595049, 5)\n"
     ]
    },
    {
     "data": {
      "text/html": [
       "<div>\n",
       "<style scoped>\n",
       "    .dataframe tbody tr th:only-of-type {\n",
       "        vertical-align: middle;\n",
       "    }\n",
       "\n",
       "    .dataframe tbody tr th {\n",
       "        vertical-align: top;\n",
       "    }\n",
       "\n",
       "    .dataframe thead th {\n",
       "        text-align: right;\n",
       "    }\n",
       "</style>\n",
       "<table border=\"1\" class=\"dataframe\">\n",
       "  <thead>\n",
       "    <tr style=\"text-align: right;\">\n",
       "      <th></th>\n",
       "      <th>0</th>\n",
       "      <th>1</th>\n",
       "      <th>2</th>\n",
       "      <th>3</th>\n",
       "      <th>4</th>\n",
       "    </tr>\n",
       "  </thead>\n",
       "  <tbody>\n",
       "    <tr>\n",
       "      <th>0</th>\n",
       "      <td>person</td>\n",
       "      <td>145148</td>\n",
       "      <td>-1</td>\n",
       "      <td>{\"MBID\":null, \"name\":\"Everything+Is+Illuminated\"}</td>\n",
       "      <td>{}</td>\n",
       "    </tr>\n",
       "    <tr>\n",
       "      <th>1</th>\n",
       "      <td>person</td>\n",
       "      <td>297899</td>\n",
       "      <td>-1</td>\n",
       "      <td>{\"MBID\":null, \"name\":\"Robin+O%27Brien\"}</td>\n",
       "      <td>{}</td>\n",
       "    </tr>\n",
       "    <tr>\n",
       "      <th>2</th>\n",
       "      <td>person</td>\n",
       "      <td>250429</td>\n",
       "      <td>-1</td>\n",
       "      <td>{\"MBID\":null, \"name\":\"Nicholas+Gunn++(2012)\"}</td>\n",
       "      <td>{}</td>\n",
       "    </tr>\n",
       "    <tr>\n",
       "      <th>3</th>\n",
       "      <td>person</td>\n",
       "      <td>32765</td>\n",
       "      <td>-1</td>\n",
       "      <td>{\"MBID\":null, \"name\":\"Aspasia+Stratigou\"}</td>\n",
       "      <td>{}</td>\n",
       "    </tr>\n",
       "    <tr>\n",
       "      <th>4</th>\n",
       "      <td>person</td>\n",
       "      <td>18689</td>\n",
       "      <td>-1</td>\n",
       "      <td>{\"MBID\":null, \"name\":\"Allison+Veltz\"}</td>\n",
       "      <td>{}</td>\n",
       "    </tr>\n",
       "  </tbody>\n",
       "</table>\n",
       "</div>"
      ],
      "text/plain": [
       "        0       1  2                                                  3   4\n",
       "0  person  145148 -1  {\"MBID\":null, \"name\":\"Everything+Is+Illuminated\"}  {}\n",
       "1  person  297899 -1            {\"MBID\":null, \"name\":\"Robin+O%27Brien\"}  {}\n",
       "2  person  250429 -1      {\"MBID\":null, \"name\":\"Nicholas+Gunn++(2012)\"}  {}\n",
       "3  person   32765 -1          {\"MBID\":null, \"name\":\"Aspasia+Stratigou\"}  {}\n",
       "4  person   18689 -1              {\"MBID\":null, \"name\":\"Allison+Veltz\"}  {}"
      ]
     },
     "execution_count": 2,
     "metadata": {},
     "output_type": "execute_result"
    }
   ],
   "source": [
    "persons_path = '../Data/entities/persons.idomaar'\n",
    "persons_df = pd.read_csv(persons_path, sep='\\t', header=None)\n",
    "\n",
    "print(persons_df.shape)\n",
    "persons_df.head()"
   ]
  },
  {
   "cell_type": "code",
   "execution_count": 4,
   "metadata": {
    "ExecuteTime": {
     "end_time": "2020-06-23T06:21:05.006239Z",
     "start_time": "2020-06-23T06:21:04.871584Z"
    }
   },
   "outputs": [
    {
     "name": "stdout",
     "output_type": "stream",
     "text": [
      "['person']\n",
      "[-1]\n",
      "['{}']\n"
     ]
    }
   ],
   "source": [
    "print(persons_df[0].unique())\n",
    "print(persons_df[2].unique())\n",
    "print(persons_df[4].unique())"
   ]
  },
  {
   "cell_type": "markdown",
   "metadata": {},
   "source": [
    "Столбцы `0`, `2`, `4` не несут полезной информации, т.к. для всех записей таблицы они имеют одно и тоже значение. Поэтому от них мы сможем избавиться.\n",
    "\n",
    "Столбец `1` является полем `id`, т.е. уникальным номером исполнителя\n",
    "\n",
    "Столбец `3` представляет наибольшую ценность, в нем содержится информация об `MBID` и `name` данного автора. Этот столбец мы и разберем, создав новые колонки. "
   ]
  },
  {
   "cell_type": "code",
   "execution_count": 8,
   "metadata": {
    "ExecuteTime": {
     "end_time": "2020-06-23T06:22:12.808650Z",
     "start_time": "2020-06-23T06:22:06.834430Z"
    },
    "scrolled": true
   },
   "outputs": [
    {
     "name": "stdout",
     "output_type": "stream",
     "text": [
      "(595049, 3)\n"
     ]
    },
    {
     "data": {
      "text/html": [
       "<div>\n",
       "<style scoped>\n",
       "    .dataframe tbody tr th:only-of-type {\n",
       "        vertical-align: middle;\n",
       "    }\n",
       "\n",
       "    .dataframe tbody tr th {\n",
       "        vertical-align: top;\n",
       "    }\n",
       "\n",
       "    .dataframe thead th {\n",
       "        text-align: right;\n",
       "    }\n",
       "</style>\n",
       "<table border=\"1\" class=\"dataframe\">\n",
       "  <thead>\n",
       "    <tr style=\"text-align: right;\">\n",
       "      <th></th>\n",
       "      <th>artist_id</th>\n",
       "      <th>MBID</th>\n",
       "      <th>artist_name</th>\n",
       "    </tr>\n",
       "  </thead>\n",
       "  <tbody>\n",
       "    <tr>\n",
       "      <th>0</th>\n",
       "      <td>208236</td>\n",
       "      <td>d61e77cc-80b3-4586-bf4e-91fe7f13165e</td>\n",
       "      <td>Luciano+Berio</td>\n",
       "    </tr>\n",
       "    <tr>\n",
       "      <th>1</th>\n",
       "      <td>332384</td>\n",
       "      <td>None</td>\n",
       "      <td>Starpool</td>\n",
       "    </tr>\n",
       "    <tr>\n",
       "      <th>2</th>\n",
       "      <td>50834</td>\n",
       "      <td>None</td>\n",
       "      <td>Black+Salvation</td>\n",
       "    </tr>\n",
       "    <tr>\n",
       "      <th>3</th>\n",
       "      <td>383635</td>\n",
       "      <td>None</td>\n",
       "      <td>Tross</td>\n",
       "    </tr>\n",
       "    <tr>\n",
       "      <th>4</th>\n",
       "      <td>404407</td>\n",
       "      <td>a0813d18-e89f-48b5-a9d7-2315d59917c2</td>\n",
       "      <td>Wooh+Da+Kid</td>\n",
       "    </tr>\n",
       "  </tbody>\n",
       "</table>\n",
       "</div>"
      ],
      "text/plain": [
       "   artist_id                                  MBID      artist_name\n",
       "0     208236  d61e77cc-80b3-4586-bf4e-91fe7f13165e    Luciano+Berio\n",
       "1     332384                                  None         Starpool\n",
       "2      50834                                  None  Black+Salvation\n",
       "3     383635                                  None            Tross\n",
       "4     404407  a0813d18-e89f-48b5-a9d7-2315d59917c2      Wooh+Da+Kid"
      ]
     },
     "execution_count": 8,
     "metadata": {},
     "output_type": "execute_result"
    }
   ],
   "source": [
    "persons_df['MBID'] = persons_df[3].apply(get_attr, attr='MBID')\n",
    "\n",
    "persons_df['artist_name'] = persons_df[3].apply(get_attr, attr='name')\n",
    "persons_df['artist_name'] = persons_df['artist_name'].apply(unquote)\n",
    "\n",
    "persons_df.rename({1:'artist_id'}, axis=1, inplace=True)\n",
    "\n",
    "persons_df.drop([0, 2, 3, 4], axis=1, inplace=True)\n",
    "persons_df = persons_df.sample(frac=1.0).reset_index(drop=True)\n",
    "\n",
    "print(persons_df.shape)\n",
    "persons_df.head()"
   ]
  },
  {
   "cell_type": "markdown",
   "metadata": {},
   "source": [
    "В итоге получаем датасет из более чем 500 тысяч исполнителей"
   ]
  },
  {
   "cell_type": "markdown",
   "metadata": {},
   "source": [
    "## Tracks"
   ]
  },
  {
   "cell_type": "code",
   "execution_count": 4,
   "metadata": {
    "ExecuteTime": {
     "end_time": "2020-06-23T00:15:33.601424Z",
     "start_time": "2020-06-23T00:14:58.038055Z"
    }
   },
   "outputs": [
    {
     "name": "stdout",
     "output_type": "stream",
     "text": [
      "DataFrame shape: (4544646, 4)\n"
     ]
    },
    {
     "data": {
      "text/html": [
       "<div>\n",
       "<style scoped>\n",
       "    .dataframe tbody tr th:only-of-type {\n",
       "        vertical-align: middle;\n",
       "    }\n",
       "\n",
       "    .dataframe tbody tr th {\n",
       "        vertical-align: top;\n",
       "    }\n",
       "\n",
       "    .dataframe thead th {\n",
       "        text-align: right;\n",
       "    }\n",
       "</style>\n",
       "<table border=\"1\" class=\"dataframe\">\n",
       "  <thead>\n",
       "    <tr style=\"text-align: right;\">\n",
       "      <th></th>\n",
       "      <th>1</th>\n",
       "      <th>2</th>\n",
       "      <th>3</th>\n",
       "      <th>4</th>\n",
       "    </tr>\n",
       "  </thead>\n",
       "  <tbody>\n",
       "    <tr>\n",
       "      <th>0</th>\n",
       "      <td>0</td>\n",
       "      <td>-1</td>\n",
       "      <td>{\"duration\":-1,\"playcount\":4,\"MBID\":null,\"name...</td>\n",
       "      <td>{\"artists\":[{\"type\":\"person\",\"id\":0}],\"albums\"...</td>\n",
       "    </tr>\n",
       "    <tr>\n",
       "      <th>1</th>\n",
       "      <td>1</td>\n",
       "      <td>-1</td>\n",
       "      <td>{\"duration\":-1,\"playcount\":495,\"MBID\":null,\"na...</td>\n",
       "      <td>{\"artists\":[{\"type\":\"person\",\"id\":1}],\"albums\"...</td>\n",
       "    </tr>\n",
       "    <tr>\n",
       "      <th>2</th>\n",
       "      <td>2</td>\n",
       "      <td>-1</td>\n",
       "      <td>{\"duration\":-1,\"playcount\":2,\"MBID\":null,\"name...</td>\n",
       "      <td>{\"artists\":[{\"type\":\"person\",\"id\":2}],\"albums\"...</td>\n",
       "    </tr>\n",
       "    <tr>\n",
       "      <th>3</th>\n",
       "      <td>3</td>\n",
       "      <td>-1</td>\n",
       "      <td>{\"duration\":-1,\"playcount\":2,\"MBID\":null,\"name...</td>\n",
       "      <td>{\"artists\":[{\"type\":\"person\",\"id\":3}],\"albums\"...</td>\n",
       "    </tr>\n",
       "    <tr>\n",
       "      <th>4</th>\n",
       "      <td>4</td>\n",
       "      <td>-1</td>\n",
       "      <td>{\"duration\":-1,\"playcount\":1,\"MBID\":null,\"name...</td>\n",
       "      <td>{\"artists\":[{\"type\":\"person\",\"id\":4}],\"albums\"...</td>\n",
       "    </tr>\n",
       "  </tbody>\n",
       "</table>\n",
       "</div>"
      ],
      "text/plain": [
       "   1  2                                                  3  \\\n",
       "0  0 -1  {\"duration\":-1,\"playcount\":4,\"MBID\":null,\"name...   \n",
       "1  1 -1  {\"duration\":-1,\"playcount\":495,\"MBID\":null,\"na...   \n",
       "2  2 -1  {\"duration\":-1,\"playcount\":2,\"MBID\":null,\"name...   \n",
       "3  3 -1  {\"duration\":-1,\"playcount\":2,\"MBID\":null,\"name...   \n",
       "4  4 -1  {\"duration\":-1,\"playcount\":1,\"MBID\":null,\"name...   \n",
       "\n",
       "                                                   4  \n",
       "0  {\"artists\":[{\"type\":\"person\",\"id\":0}],\"albums\"...  \n",
       "1  {\"artists\":[{\"type\":\"person\",\"id\":1}],\"albums\"...  \n",
       "2  {\"artists\":[{\"type\":\"person\",\"id\":2}],\"albums\"...  \n",
       "3  {\"artists\":[{\"type\":\"person\",\"id\":3}],\"albums\"...  \n",
       "4  {\"artists\":[{\"type\":\"person\",\"id\":4}],\"albums\"...  "
      ]
     },
     "execution_count": 4,
     "metadata": {},
     "output_type": "execute_result"
    }
   ],
   "source": [
    "# Reading raw tracks data from 30Music\n",
    "\n",
    "tracks_path = '../Data/entities/tracks.idomaar'\n",
    "tracks_df = pd.read_csv(tracks_path, sep='\\t', header=None)\n",
    "tracks_df = tracks_df.iloc[:, 1:].drop_duplicates() # Removing duplicates (1.1 million)\n",
    "\n",
    "print(f'DataFrame shape: {tracks_df.shape}')\n",
    "tracks_df.head()"
   ]
  },
  {
   "cell_type": "markdown",
   "metadata": {},
   "source": [
    "Convert the rubbish above from `3` and `4` columns using json to some Python-like data"
   ]
  },
  {
   "cell_type": "code",
   "execution_count": 4,
   "metadata": {
    "ExecuteTime": {
     "end_time": "2020-06-23T00:16:35.626941Z",
     "start_time": "2020-06-23T00:15:33.605499Z"
    },
    "scrolled": true
   },
   "outputs": [
    {
     "ename": "NameError",
     "evalue": "name 'tracks_df' is not defined",
     "output_type": "error",
     "traceback": [
      "\u001b[0;31m---------------------------------------------------------------------------\u001b[0m",
      "\u001b[0;31mNameError\u001b[0m                                 Traceback (most recent call last)",
      "\u001b[0;32m<ipython-input-4-036d14db18e3>\u001b[0m in \u001b[0;36m<module>\u001b[0;34m\u001b[0m\n\u001b[0;32m----> 1\u001b[0;31m \u001b[0mtracks_df\u001b[0m\u001b[0;34m[\u001b[0m\u001b[0;34m'playcount'\u001b[0m\u001b[0;34m]\u001b[0m \u001b[0;34m=\u001b[0m \u001b[0mtracks_df\u001b[0m\u001b[0;34m[\u001b[0m\u001b[0;36m3\u001b[0m\u001b[0;34m]\u001b[0m\u001b[0;34m.\u001b[0m\u001b[0mapply\u001b[0m\u001b[0;34m(\u001b[0m\u001b[0mget_attr\u001b[0m\u001b[0;34m,\u001b[0m \u001b[0mattr\u001b[0m\u001b[0;34m=\u001b[0m\u001b[0;34m'playcount'\u001b[0m\u001b[0;34m)\u001b[0m\u001b[0;34m.\u001b[0m\u001b[0mfillna\u001b[0m\u001b[0;34m(\u001b[0m\u001b[0;36m0\u001b[0m\u001b[0;34m)\u001b[0m\u001b[0;34m\u001b[0m\u001b[0;34m\u001b[0m\u001b[0m\n\u001b[0m\u001b[1;32m      2\u001b[0m \u001b[0mtracks_df\u001b[0m\u001b[0;34m[\u001b[0m\u001b[0;34m'MBID'\u001b[0m\u001b[0;34m]\u001b[0m \u001b[0;34m=\u001b[0m \u001b[0mtracks_df\u001b[0m\u001b[0;34m[\u001b[0m\u001b[0;36m3\u001b[0m\u001b[0;34m]\u001b[0m\u001b[0;34m.\u001b[0m\u001b[0mapply\u001b[0m\u001b[0;34m(\u001b[0m\u001b[0mget_attr\u001b[0m\u001b[0;34m,\u001b[0m \u001b[0mattr\u001b[0m\u001b[0;34m=\u001b[0m\u001b[0;34m'MBID'\u001b[0m\u001b[0;34m)\u001b[0m\u001b[0;34m\u001b[0m\u001b[0;34m\u001b[0m\u001b[0m\n\u001b[1;32m      3\u001b[0m \u001b[0mtracks_df\u001b[0m\u001b[0;34m[\u001b[0m\u001b[0;34m'artist'\u001b[0m\u001b[0;34m]\u001b[0m \u001b[0;34m=\u001b[0m \u001b[0mtracks_df\u001b[0m\u001b[0;34m[\u001b[0m\u001b[0;36m4\u001b[0m\u001b[0;34m]\u001b[0m\u001b[0;34m.\u001b[0m\u001b[0mapply\u001b[0m\u001b[0;34m(\u001b[0m\u001b[0mget_array_attr\u001b[0m\u001b[0;34m,\u001b[0m \u001b[0mattr\u001b[0m\u001b[0;34m=\u001b[0m\u001b[0;34m'artists'\u001b[0m\u001b[0;34m)\u001b[0m\u001b[0;34m\u001b[0m\u001b[0;34m\u001b[0m\u001b[0m\n\u001b[1;32m      4\u001b[0m \u001b[0mtracks_df\u001b[0m\u001b[0;34m[\u001b[0m\u001b[0;34m'artist'\u001b[0m\u001b[0;34m]\u001b[0m \u001b[0;34m=\u001b[0m \u001b[0mtracks_df\u001b[0m\u001b[0;34m[\u001b[0m\u001b[0;34m'artist'\u001b[0m\u001b[0;34m]\u001b[0m\u001b[0;34m.\u001b[0m\u001b[0mapply\u001b[0m\u001b[0;34m(\u001b[0m\u001b[0;32mlambda\u001b[0m \u001b[0ma\u001b[0m\u001b[0;34m:\u001b[0m \u001b[0ma\u001b[0m\u001b[0;34m[\u001b[0m\u001b[0;36m0\u001b[0m\u001b[0;34m]\u001b[0m\u001b[0;34m)\u001b[0m\u001b[0;34m\u001b[0m\u001b[0;34m\u001b[0m\u001b[0m\n\u001b[1;32m      5\u001b[0m \u001b[0mtracks_df\u001b[0m\u001b[0;34m.\u001b[0m\u001b[0mrename\u001b[0m\u001b[0;34m(\u001b[0m\u001b[0;34m{\u001b[0m\u001b[0;36m1\u001b[0m\u001b[0;34m:\u001b[0m \u001b[0;34m'track_id'\u001b[0m\u001b[0;34m}\u001b[0m\u001b[0;34m,\u001b[0m \u001b[0maxis\u001b[0m\u001b[0;34m=\u001b[0m\u001b[0;36m1\u001b[0m\u001b[0;34m,\u001b[0m\u001b[0minplace\u001b[0m\u001b[0;34m=\u001b[0m\u001b[0;32mTrue\u001b[0m\u001b[0;34m)\u001b[0m\u001b[0;34m\u001b[0m\u001b[0;34m\u001b[0m\u001b[0m\n",
      "\u001b[0;31mNameError\u001b[0m: name 'tracks_df' is not defined"
     ]
    }
   ],
   "source": [
    "tracks_df['playcount'] = tracks_df[3].apply(get_attr, attr='playcount').fillna(0)\n",
    "tracks_df['MBID'] = tracks_df[3].apply(get_attr, attr='MBID')\n",
    "tracks_df['artist'] = tracks_df[4].apply(get_array_attr, attr='artists')\n",
    "tracks_df['artist'] = tracks_df['artist'].apply(lambda a: a[0])\n",
    "tracks_df.rename({1: 'track_id'}, axis=1,inplace=True)\n",
    "\n",
    "tracks_df.drop([2, 3, 4], axis=1, inplace=True) # remove redundant columns\n",
    "tracks_df = tracks_df.sample(frac=1.0).reset_index(drop=True)\n",
    "\n",
    "print(tracks_df.shape)\n",
    "tracks_df.head()"
   ]
  },
  {
   "cell_type": "markdown",
   "metadata": {},
   "source": [
    "Let's see what happens with artists distribution"
   ]
  },
  {
   "cell_type": "code",
   "execution_count": 3,
   "metadata": {
    "ExecuteTime": {
     "end_time": "2020-06-23T00:32:04.978769Z",
     "start_time": "2020-06-23T00:32:04.862624Z"
    }
   },
   "outputs": [
    {
     "ename": "NameError",
     "evalue": "name 'tracks_df' is not defined",
     "output_type": "error",
     "traceback": [
      "\u001b[0;31m---------------------------------------------------------------------------\u001b[0m",
      "\u001b[0;31mNameError\u001b[0m                                 Traceback (most recent call last)",
      "\u001b[0;32m<ipython-input-3-eaa3ae6aa910>\u001b[0m in \u001b[0;36m<module>\u001b[0;34m\u001b[0m\n\u001b[0;32m----> 1\u001b[0;31m \u001b[0martists_counts\u001b[0m \u001b[0;34m=\u001b[0m \u001b[0mtracks_df\u001b[0m\u001b[0;34m[\u001b[0m\u001b[0;34m'artist'\u001b[0m\u001b[0;34m]\u001b[0m\u001b[0;34m.\u001b[0m\u001b[0mvalue_counts\u001b[0m\u001b[0;34m(\u001b[0m\u001b[0;34m)\u001b[0m\u001b[0;34m\u001b[0m\u001b[0;34m\u001b[0m\u001b[0m\n\u001b[0m\u001b[1;32m      2\u001b[0m artists_counts_names = [get_artist_name(id_, persons_df)\n\u001b[1;32m      3\u001b[0m                         for id_ in artists_counts.index[:10]]\n\u001b[1;32m      4\u001b[0m \u001b[0;34m\u001b[0m\u001b[0m\n\u001b[1;32m      5\u001b[0m \u001b[0mprint\u001b[0m\u001b[0;34m(\u001b[0m\u001b[0;34m'№'\u001b[0m\u001b[0;34m,\u001b[0m \u001b[0;34m'Artist'\u001b[0m\u001b[0;34m,\u001b[0m \u001b[0;34m'Count'\u001b[0m\u001b[0;34m,\u001b[0m \u001b[0msep\u001b[0m\u001b[0;34m=\u001b[0m\u001b[0;34m'\\t'\u001b[0m\u001b[0;34m)\u001b[0m\u001b[0;34m\u001b[0m\u001b[0;34m\u001b[0m\u001b[0m\n",
      "\u001b[0;31mNameError\u001b[0m: name 'tracks_df' is not defined"
     ]
    }
   ],
   "source": [
    "artists_counts = tracks_df['artist'].value_counts()\n",
    "artists_counts_names = [get_artist_name(id_, persons_df)\n",
    "                        for id_ in artists_counts.index[:10]]\n",
    "\n",
    "print('№', 'Artist', 'Count', sep='\\t')\n",
    "print(*zip(artists_counts.index[:10], artists_counts_names, artists_counts[:10]), sep='\\n')"
   ]
  },
  {
   "cell_type": "code",
   "execution_count": 2,
   "metadata": {},
   "outputs": [],
   "source": [
    "import pprint"
   ]
  },
  {
   "cell_type": "markdown",
   "metadata": {},
   "source": [
    "<div class=\"alert alert-warning\">\n",
    "\n",
    "As we can see, `129` is just a `Original Soundtrack` we can treat it as a placeholder, it means that we can just pop it, because it tells us nothing about track.\n",
    "\n",
    "</div>"
   ]
  },
  {
   "cell_type": "code",
   "execution_count": 7,
   "metadata": {
    "ExecuteTime": {
     "end_time": "2020-06-23T00:32:43.475287Z",
     "start_time": "2020-06-23T00:32:43.391200Z"
    },
    "scrolled": true
   },
   "outputs": [
    {
     "name": "stdout",
     "output_type": "stream",
     "text": [
      "Number of unique authors: 1999\n",
      "Shape of track DataFrame: (899799, 4)\n",
      "\n",
      "37589     7109\n",
      "240350    5397\n",
      "76474     4033\n",
      "276125    3402\n",
      "43125     3384\n",
      "56683     3357\n",
      "140693    2949\n",
      "42398     2939\n",
      "110337    2909\n",
      "27650     2596\n",
      "Name: artist, dtype: int64\n"
     ]
    }
   ],
   "source": [
    "artists_ids_to_stay = artists_counts[artists_counts >= 100].index[:1999]\n",
    "tracks_df = tracks_df[tracks_df['artist'].isin(artists_ids_to_stay)]\n",
    "\n",
    "persons_df = persons_df[persons_df['artist_id'].isin(artists_ids_to_stay)]\n",
    "\n",
    "new_artists_counts = tracks_df['artist'].value_counts()\n",
    "\n",
    "print(f'Number of unique authors: {tracks_df.artist.nunique()}')\n",
    "print(f'Shape of track DataFrame: {tracks_df.shape}\\n')\n",
    "print(new_artists_counts[:10])"
   ]
  },
  {
   "cell_type": "code",
   "execution_count": null,
   "metadata": {
    "ExecuteTime": {
     "start_time": "2020-06-23T00:32:52.262Z"
    }
   },
   "outputs": [
    {
     "data": {
      "application/vnd.jupyter.widget-view+json": {
       "model_id": "667eb3950fd041f39b48de4482ffcc3f",
       "version_major": 2,
       "version_minor": 0
      },
      "text/plain": [
       "HBox(children=(IntProgress(value=0, max=899799), HTML(value='')))"
      ]
     },
     "metadata": {},
     "output_type": "display_data"
    }
   ],
   "source": [
    "track_to_artist = {tracks_df.iloc[i, 0]: tracks_df.iloc[i, 3]\n",
    "                   for i in tqdm_notebook(range(len(tracks_df)))}\n",
    "\n",
    "with open('data/track_to_artist.pickle', 'wb') as f:\n",
    "    pickle.dump(track_to_artist, f)"
   ]
  },
  {
   "cell_type": "code",
   "execution_count": null,
   "metadata": {
    "ExecuteTime": {
     "start_time": "2020-06-23T00:32:54.438Z"
    }
   },
   "outputs": [],
   "source": [
    "tracks_df.to_csv('data/tracks.csv')\n",
    "persons_df.to_csv('data/persons.csv')\n",
    "\n",
    "del tracks_df\n",
    "del persons_df\n",
    "\n",
    "\n",
    "print('File persons.idomaar processed successfully!')\n",
    "print('File tracks.idomaar processed successfully!')"
   ]
  },
  {
   "cell_type": "markdown",
   "metadata": {},
   "source": [
    "## Playlists"
   ]
  },
  {
   "cell_type": "code",
   "execution_count": 22,
   "metadata": {
    "ExecuteTime": {
     "end_time": "2020-06-22T19:55:07.261451Z",
     "start_time": "2020-06-22T19:55:06.530564Z"
    },
    "scrolled": false
   },
   "outputs": [
    {
     "name": "stdout",
     "output_type": "stream",
     "text": [
      "(57561, 5)\n"
     ]
    },
    {
     "data": {
      "text/html": [
       "<div>\n",
       "<style scoped>\n",
       "    .dataframe tbody tr th:only-of-type {\n",
       "        vertical-align: middle;\n",
       "    }\n",
       "\n",
       "    .dataframe tbody tr th {\n",
       "        vertical-align: top;\n",
       "    }\n",
       "\n",
       "    .dataframe thead th {\n",
       "        text-align: right;\n",
       "    }\n",
       "</style>\n",
       "<table border=\"1\" class=\"dataframe\">\n",
       "  <thead>\n",
       "    <tr style=\"text-align: right;\">\n",
       "      <th></th>\n",
       "      <th>0</th>\n",
       "      <th>1</th>\n",
       "      <th>2</th>\n",
       "      <th>3</th>\n",
       "      <th>4</th>\n",
       "    </tr>\n",
       "  </thead>\n",
       "  <tbody>\n",
       "    <tr>\n",
       "      <th>0</th>\n",
       "      <td>playlist</td>\n",
       "      <td>0</td>\n",
       "      <td>1216545588</td>\n",
       "      <td>{\"ID\":2973549,\"Title\":\"my_favorites\",\"numtrack...</td>\n",
       "      <td>{\"subjects\":[{\"type\":\"user\",\"id\":41504}],\"obje...</td>\n",
       "    </tr>\n",
       "    <tr>\n",
       "      <th>1</th>\n",
       "      <td>playlist</td>\n",
       "      <td>1</td>\n",
       "      <td>1249326867</td>\n",
       "      <td>{\"ID\":5429703,\"Title\":\"\",\"numtracks\":9,\"durati...</td>\n",
       "      <td>{\"subjects\":[{\"type\":\"user\",\"id\":41504}],\"obje...</td>\n",
       "    </tr>\n",
       "    <tr>\n",
       "      <th>2</th>\n",
       "      <td>playlist</td>\n",
       "      <td>2</td>\n",
       "      <td>1257766688</td>\n",
       "      <td>{\"ID\":5926742,\"Title\":\"1989\",\"numtracks\":16,\"d...</td>\n",
       "      <td>{\"subjects\":[{\"type\":\"user\",\"id\":44542}],\"obje...</td>\n",
       "    </tr>\n",
       "    <tr>\n",
       "      <th>3</th>\n",
       "      <td>playlist</td>\n",
       "      <td>3</td>\n",
       "      <td>1248079275</td>\n",
       "      <td>{\"ID\":5353183,\"Title\":\"Fly me to the moon...\",...</td>\n",
       "      <td>{\"subjects\":[{\"type\":\"user\",\"id\":44542}],\"obje...</td>\n",
       "    </tr>\n",
       "    <tr>\n",
       "      <th>4</th>\n",
       "      <td>playlist</td>\n",
       "      <td>4</td>\n",
       "      <td>1175201268</td>\n",
       "      <td>{\"ID\":330569,\"Title\":\"The playlist who must no...</td>\n",
       "      <td>{\"subjects\":[{\"type\":\"user\",\"id\":44542}],\"obje...</td>\n",
       "    </tr>\n",
       "  </tbody>\n",
       "</table>\n",
       "</div>"
      ],
      "text/plain": [
       "          0  1           2                                                  3  \\\n",
       "0  playlist  0  1216545588  {\"ID\":2973549,\"Title\":\"my_favorites\",\"numtrack...   \n",
       "1  playlist  1  1249326867  {\"ID\":5429703,\"Title\":\"\",\"numtracks\":9,\"durati...   \n",
       "2  playlist  2  1257766688  {\"ID\":5926742,\"Title\":\"1989\",\"numtracks\":16,\"d...   \n",
       "3  playlist  3  1248079275  {\"ID\":5353183,\"Title\":\"Fly me to the moon...\",...   \n",
       "4  playlist  4  1175201268  {\"ID\":330569,\"Title\":\"The playlist who must no...   \n",
       "\n",
       "                                                   4  \n",
       "0  {\"subjects\":[{\"type\":\"user\",\"id\":41504}],\"obje...  \n",
       "1  {\"subjects\":[{\"type\":\"user\",\"id\":41504}],\"obje...  \n",
       "2  {\"subjects\":[{\"type\":\"user\",\"id\":44542}],\"obje...  \n",
       "3  {\"subjects\":[{\"type\":\"user\",\"id\":44542}],\"obje...  \n",
       "4  {\"subjects\":[{\"type\":\"user\",\"id\":44542}],\"obje...  "
      ]
     },
     "execution_count": 22,
     "metadata": {},
     "output_type": "execute_result"
    }
   ],
   "source": [
    "playlist_path = '../Data/entities/playlist.idomaar'\n",
    "playlist_df = pd.read_csv(playlist_path, sep='\\t', header=None)\n",
    "\n",
    "print(playlist_df.shape)\n",
    "playlist_df.head()"
   ]
  },
  {
   "cell_type": "code",
   "execution_count": 23,
   "metadata": {
    "ExecuteTime": {
     "end_time": "2020-06-22T19:55:07.270271Z",
     "start_time": "2020-06-22T19:55:07.264228Z"
    },
    "scrolled": false
   },
   "outputs": [
    {
     "name": "stdout",
     "output_type": "stream",
     "text": [
      "{\"ID\":2973549,\"Title\":\"my_favorites\",\"numtracks\":27,\"duration\":6522}\n",
      "\n",
      "{'subjects': [{'type': 'user', 'id': 41504}], 'objects': [{'type': 'track', 'id': 3006631}, {'type': 'track', 'id': 1885124}, {'type': 'track', 'id': 2548942}, {'type': 'track', 'id': 1350486}, {'type': 'track', 'id': 3734368}, {'type': 'track', 'id': 3559010}, {'type': 'track', 'id': 1843196}, {'type': 'track', 'id': 1480428}, {'type': 'track', 'id': 3287322}, {'type': 'track', 'id': 2289919}, {'type': 'track', 'id': 2279338}, {'type': 'track', 'id': 2279191}, {'type': 'track', 'id': 341161}, {'type': 'track', 'id': 2949622}, {'type': 'track', 'id': 1210794}, {'type': 'track', 'id': 3221713}, {'type': 'track', 'id': 2288588}, {'type': 'track', 'id': 2983307}, {'type': 'track', 'id': 3579068}, {'type': 'track', 'id': 228904}, {'type': 'track', 'id': 3427000}, {'type': 'track', 'id': 1854456}, {'type': 'track', 'id': 2522599}, {'type': 'track', 'id': 2805550}, {'type': 'track', 'id': 2949054}, {'type': 'track', 'id': 2866266}, {'type': 'track', 'id': 3156469}]}\n"
     ]
    }
   ],
   "source": [
    "print(playlist_df.iloc[0, 3], end='\\n\\n')\n",
    "print(json.loads(playlist_df.iloc[0, 4]))"
   ]
  },
  {
   "cell_type": "code",
   "execution_count": 24,
   "metadata": {
    "ExecuteTime": {
     "end_time": "2020-06-22T19:55:11.452539Z",
     "start_time": "2020-06-22T19:55:09.399099Z"
    },
    "scrolled": true
   },
   "outputs": [
    {
     "name": "stdout",
     "output_type": "stream",
     "text": [
      "(39527, 1)\n"
     ]
    },
    {
     "data": {
      "text/html": [
       "<div>\n",
       "<style scoped>\n",
       "    .dataframe tbody tr th:only-of-type {\n",
       "        vertical-align: middle;\n",
       "    }\n",
       "\n",
       "    .dataframe tbody tr th {\n",
       "        vertical-align: top;\n",
       "    }\n",
       "\n",
       "    .dataframe thead th {\n",
       "        text-align: right;\n",
       "    }\n",
       "</style>\n",
       "<table border=\"1\" class=\"dataframe\">\n",
       "  <thead>\n",
       "    <tr style=\"text-align: right;\">\n",
       "      <th></th>\n",
       "      <th>tracks_ids</th>\n",
       "    </tr>\n",
       "  </thead>\n",
       "  <tbody>\n",
       "    <tr>\n",
       "      <th>0</th>\n",
       "      <td>[392743, 1367698, 3842061, 3738843, 429299, 17...</td>\n",
       "    </tr>\n",
       "    <tr>\n",
       "      <th>1</th>\n",
       "      <td>[1545373, 3674231, 4653038, 164951, 1931409, 4...</td>\n",
       "    </tr>\n",
       "    <tr>\n",
       "      <th>2</th>\n",
       "      <td>[1455561, 2991484, 1688389, 2448002, 412025, 3...</td>\n",
       "    </tr>\n",
       "    <tr>\n",
       "      <th>3</th>\n",
       "      <td>[3245000, 2182616, 1444718, 901521, 2698372, 6...</td>\n",
       "    </tr>\n",
       "    <tr>\n",
       "      <th>4</th>\n",
       "      <td>[2410569, 826164, 976247, 825195, 1074887, 239...</td>\n",
       "    </tr>\n",
       "  </tbody>\n",
       "</table>\n",
       "</div>"
      ],
      "text/plain": [
       "                                          tracks_ids\n",
       "0  [392743, 1367698, 3842061, 3738843, 429299, 17...\n",
       "1  [1545373, 3674231, 4653038, 164951, 1931409, 4...\n",
       "2  [1455561, 2991484, 1688389, 2448002, 412025, 3...\n",
       "3  [3245000, 2182616, 1444718, 901521, 2698372, 6...\n",
       "4  [2410569, 826164, 976247, 825195, 1074887, 239..."
      ]
     },
     "execution_count": 24,
     "metadata": {},
     "output_type": "execute_result"
    }
   ],
   "source": [
    "playlist_df['tracks_ids'] = playlist_df[4].apply(get_array_attr, attr='objects')\n",
    "playlist_df = playlist_df.where(playlist_df['tracks_ids'].apply(len) > 4).dropna()\n",
    "\n",
    "playlist_df.drop([0, 1, 2, 3, 4], axis=1, inplace=True)\n",
    "playlist_df = playlist_df.sample(frac=1.0).reset_index(drop=True)\n",
    "\n",
    "print(playlist_df.shape)\n",
    "playlist_df.head()"
   ]
  },
  {
   "cell_type": "markdown",
   "metadata": {},
   "source": [
    "**Move to author**"
   ]
  },
  {
   "cell_type": "code",
   "execution_count": 30,
   "metadata": {
    "ExecuteTime": {
     "end_time": "2020-06-22T20:01:36.273333Z",
     "start_time": "2020-06-22T20:01:34.267988Z"
    }
   },
   "outputs": [
    {
     "name": "stdout",
     "output_type": "stream",
     "text": [
      "(39527, 1)\n"
     ]
    },
    {
     "data": {
      "text/html": [
       "<div>\n",
       "<style scoped>\n",
       "    .dataframe tbody tr th:only-of-type {\n",
       "        vertical-align: middle;\n",
       "    }\n",
       "\n",
       "    .dataframe tbody tr th {\n",
       "        vertical-align: top;\n",
       "    }\n",
       "\n",
       "    .dataframe thead th {\n",
       "        text-align: right;\n",
       "    }\n",
       "</style>\n",
       "<table border=\"1\" class=\"dataframe\">\n",
       "  <thead>\n",
       "    <tr style=\"text-align: right;\">\n",
       "      <th></th>\n",
       "      <th>artists_ids</th>\n",
       "    </tr>\n",
       "  </thead>\n",
       "  <tbody>\n",
       "    <tr>\n",
       "      <th>0</th>\n",
       "      <td>[48160, 309884, 156962, 237219, 84804, 255908,...</td>\n",
       "    </tr>\n",
       "    <tr>\n",
       "      <th>1</th>\n",
       "      <td>[257088, 31010, 165764, 223368, 345801, 21612,...</td>\n",
       "    </tr>\n",
       "    <tr>\n",
       "      <th>2</th>\n",
       "      <td>[447521, 306507, 50476, 86738, 211702, 370170]</td>\n",
       "    </tr>\n",
       "    <tr>\n",
       "      <th>3</th>\n",
       "      <td>[278529, 457347, 170245, 122374, 82955, 196876...</td>\n",
       "    </tr>\n",
       "    <tr>\n",
       "      <th>4</th>\n",
       "      <td>[53987, 188004, 292676, 31464, 227530, 56683, ...</td>\n",
       "    </tr>\n",
       "  </tbody>\n",
       "</table>\n",
       "</div>"
      ],
      "text/plain": [
       "                                         artists_ids\n",
       "0  [48160, 309884, 156962, 237219, 84804, 255908,...\n",
       "1  [257088, 31010, 165764, 223368, 345801, 21612,...\n",
       "2     [447521, 306507, 50476, 86738, 211702, 370170]\n",
       "3  [278529, 457347, 170245, 122374, 82955, 196876...\n",
       "4  [53987, 188004, 292676, 31464, 227530, 56683, ..."
      ]
     },
     "execution_count": 30,
     "metadata": {},
     "output_type": "execute_result"
    }
   ],
   "source": [
    "playlist_df['artists_ids'] = playlist_df['tracks_ids'].apply(track_array_to_artists)\n",
    "playlist_df.drop(['tracks_ids'], axis=1, inplace=True)\n",
    "\n",
    "print(playlist_df.shape)\n",
    "playlist_df.head()"
   ]
  },
  {
   "cell_type": "code",
   "execution_count": 30,
   "metadata": {
    "ExecuteTime": {
     "end_time": "2020-06-22T15:20:46.776848Z",
     "start_time": "2020-06-22T15:20:45.983236Z"
    }
   },
   "outputs": [],
   "source": [
    "playlist_df.to_csv('playlist.csv')\n",
    "del playlist_df\n",
    "\n",
    "print('File playlist.idomaar processed successfully!')"
   ]
  },
  {
   "cell_type": "markdown",
   "metadata": {},
   "source": [
    "## Sessions"
   ]
  },
  {
   "cell_type": "code",
   "execution_count": 69,
   "metadata": {
    "ExecuteTime": {
     "end_time": "2020-06-22T20:20:40.219623Z",
     "start_time": "2020-06-22T20:19:41.110243Z"
    },
    "scrolled": true
   },
   "outputs": [
    {
     "name": "stdout",
     "output_type": "stream",
     "text": [
      "(2764474, 4)\n"
     ]
    },
    {
     "data": {
      "text/html": [
       "<div>\n",
       "<style scoped>\n",
       "    .dataframe tbody tr th:only-of-type {\n",
       "        vertical-align: middle;\n",
       "    }\n",
       "\n",
       "    .dataframe tbody tr th {\n",
       "        vertical-align: top;\n",
       "    }\n",
       "\n",
       "    .dataframe thead th {\n",
       "        text-align: right;\n",
       "    }\n",
       "</style>\n",
       "<table border=\"1\" class=\"dataframe\">\n",
       "  <thead>\n",
       "    <tr style=\"text-align: right;\">\n",
       "      <th></th>\n",
       "      <th>0</th>\n",
       "      <th>1</th>\n",
       "      <th>2</th>\n",
       "      <th>3</th>\n",
       "    </tr>\n",
       "  </thead>\n",
       "  <tbody>\n",
       "    <tr>\n",
       "      <th>0</th>\n",
       "      <td>event.session</td>\n",
       "      <td>287144</td>\n",
       "      <td>1390231051</td>\n",
       "      <td>{\"numtracks\":23,\"playtime\":4547} {\"subjects\":[...</td>\n",
       "    </tr>\n",
       "    <tr>\n",
       "      <th>1</th>\n",
       "      <td>event.session</td>\n",
       "      <td>287145</td>\n",
       "      <td>1390241844</td>\n",
       "      <td>{\"numtracks\":11,\"playtime\":2907} {\"subjects\":[...</td>\n",
       "    </tr>\n",
       "    <tr>\n",
       "      <th>2</th>\n",
       "      <td>event.session</td>\n",
       "      <td>287146</td>\n",
       "      <td>1390303249</td>\n",
       "      <td>{\"numtracks\":16,\"playtime\":3191} {\"subjects\":[...</td>\n",
       "    </tr>\n",
       "    <tr>\n",
       "      <th>3</th>\n",
       "      <td>event.session</td>\n",
       "      <td>287147</td>\n",
       "      <td>1390481828</td>\n",
       "      <td>{\"numtracks\":5,\"playtime\":1162} {\"subjects\":[{...</td>\n",
       "    </tr>\n",
       "    <tr>\n",
       "      <th>4</th>\n",
       "      <td>event.session</td>\n",
       "      <td>287140</td>\n",
       "      <td>1421443687</td>\n",
       "      <td>{\"numtracks\":2,\"playtime\":250} {\"subjects\":[{\"...</td>\n",
       "    </tr>\n",
       "  </tbody>\n",
       "</table>\n",
       "</div>"
      ],
      "text/plain": [
       "               0       1           2  \\\n",
       "0  event.session  287144  1390231051   \n",
       "1  event.session  287145  1390241844   \n",
       "2  event.session  287146  1390303249   \n",
       "3  event.session  287147  1390481828   \n",
       "4  event.session  287140  1421443687   \n",
       "\n",
       "                                                   3  \n",
       "0  {\"numtracks\":23,\"playtime\":4547} {\"subjects\":[...  \n",
       "1  {\"numtracks\":11,\"playtime\":2907} {\"subjects\":[...  \n",
       "2  {\"numtracks\":16,\"playtime\":3191} {\"subjects\":[...  \n",
       "3  {\"numtracks\":5,\"playtime\":1162} {\"subjects\":[{...  \n",
       "4  {\"numtracks\":2,\"playtime\":250} {\"subjects\":[{\"...  "
      ]
     },
     "execution_count": 69,
     "metadata": {},
     "output_type": "execute_result"
    }
   ],
   "source": [
    "sessions_path = '../Data/relations/sessions.idomaar'\n",
    "sessions_df = pd.read_csv(sessions_path, sep='\\t', header=None)\n",
    "\n",
    "print(sessions_df.shape)\n",
    "sessions_df.head()"
   ]
  },
  {
   "cell_type": "code",
   "execution_count": null,
   "metadata": {
    "ExecuteTime": {
     "start_time": "2020-06-22T20:19:41.352Z"
    },
    "scrolled": false
   },
   "outputs": [],
   "source": [
    "sessions_df[3] = sessions_df[3].apply(lambda s: s.split())\n",
    "\n",
    "sessions_df['meta'] = sessions_df[3].apply(lambda x: x[0])\n",
    "sessions_df['subjects'] = sessions_df[3].apply(lambda x: x[1])\n",
    "\n",
    "print(sessions_df.shape)\n",
    "sessions_df.head()"
   ]
  },
  {
   "cell_type": "code",
   "execution_count": null,
   "metadata": {
    "ExecuteTime": {
     "start_time": "2020-06-22T20:19:42.023Z"
    },
    "scrolled": true
   },
   "outputs": [],
   "source": [
    "sessions_df['tracks_ids'] = sessions_df['subjects'].apply(get_array_attr, attr='objects')\n",
    "sessions_df['play_ratios'] = sessions_df['subjects'].apply(get_array_attr,\n",
    "                                                           attr='objects', id_='playratio')\n",
    "sessions_df['play_ratios'] = sessions_df['play_ratios'].apply(replace_none, replacer=1.0)\n",
    "sessions_df['artists_ids'] = sessions_df['tracks_ids'].apply(track_array_to_artists)\n",
    "sessions_df['user'] = sessions_df['subjects'].apply(get_array_attr, attr='subjects')\n",
    "sessions_df['user'] = sessions_df['user'].apply(lambda x: x[0])\n",
    "\n",
    "sessions_df['numtracks'] = sessions_df['meta'].apply(get_attr, attr='numtracks')\n",
    "sessions_df['playtime'] = sessions_df['meta'].apply(get_attr, attr='playtime')\n",
    "\n",
    "sessions_df = sessions_df.where(sessions_df['numtracks'] > 4).dropna()\n",
    "\n",
    "sessions_df.drop([0, 1, 2, 3, 'meta', 'subjects'], axis=1, inplace=True)\n",
    "sessions_df = sessions_df.sample(frac=1.0).reset_index(drop=True)\n",
    "\n",
    "print(sessions_df.shape)\n",
    "sessions_df.head()"
   ]
  },
  {
   "cell_type": "code",
   "execution_count": 10,
   "metadata": {
    "ExecuteTime": {
     "end_time": "2020-06-22T20:34:31.879366Z",
     "start_time": "2020-06-22T20:34:00.911864Z"
    }
   },
   "outputs": [
    {
     "name": "stdout",
     "output_type": "stream",
     "text": [
      "File sessions.idomaar processed successfully!\n"
     ]
    }
   ],
   "source": [
    "sessions_df.to_csv('sessions.csv')\n",
    "del sessions_df\n",
    "\n",
    "print('File sessions.idomaar processed successfully!')"
   ]
  }
 ],
 "metadata": {
  "kernelspec": {
   "display_name": "Python 3",
   "language": "python",
   "name": "python3"
  },
  "language_info": {
   "codemirror_mode": {
    "name": "ipython",
    "version": 3
   },
   "file_extension": ".py",
   "mimetype": "text/x-python",
   "name": "python",
   "nbconvert_exporter": "python",
   "pygments_lexer": "ipython3",
   "version": "3.6.12"
  }
 },
 "nbformat": 4,
 "nbformat_minor": 2
}
