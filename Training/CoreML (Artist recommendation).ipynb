{
 "cells": [
  {
   "cell_type": "markdown",
   "metadata": {},
   "source": [
    "# CoreML (Artist recommendation)\n",
    "\n",
    "### Table of contents\n",
    "\n",
    "- <a href='#setup'>Setup</a>\n",
    "- <a href='#metric'>Metric</a>\n",
    "- <a href='#preprocessing'>Data Preprocessing</a>\n",
    "- <a href='#training_data'>Training Data Generating</a>\n",
    "- <a href='#model'>Model (initialization & train)</a>\n",
    "- <a href='#model_interpretation'>Model Interpretation</a>\n",
    "- <a href='#indexing'>Indexing</a>\n",
    "- <a href='#recommendation'>Recommendation</a>\n",
    "- <a href='#metric_eval'>Metric Evaluation</a>\n",
    "- <a href='#conclusion'>Conclusion</a>\n",
    "\n",
    "### Задача\n",
    "Передо мной была поставлена задача научиться искать похожих музыкальных исполнителей. В терминах машинного обучения это означает, что для каждого исполнителя нужно построить векторное представление таким образом, чтобы похожие исполнители оказались близко в векторном пространстве, тогда задача поиска похожих исполнителей сведётся к задаче поиска ближайших соседей.\n",
    "\n",
    "Оценивать качество полученных векторных представлений будем на задаче *Artist Recommendation* — рекомендация исполнителя для пользователя.\n",
    "\n",
    "\n",
    "### Как решалось ?\n",
    "\n",
    "#### Метрика\n",
    "В качестве метрики будем использовать следующее. Разобьем сессию треков на две части: первую, по котрой будем предсказывать новых авторов и вторую, по которой будем сверять количество совпавших авторов. Результатом будем считать число: $\\frac{количество-совпавших-авторов}{количество-рекомендованных-авторов}$. Эту метрику можно считать accuracy-подобной.\n",
    "\n",
    "При такой оценке метрики мы немного отходим от задачи рекомендации исполнителя для пользователя, и рекомендуем исполнителя для плейлиста, однако у пользователей можно собирать их плейлисты и на их основе выдавать рекомендации. Но для оценки качества было решено, что проще работать с плейлистами, а не с пользователями.\n",
    "\n",
    "\n",
    "#### Методы\n",
    "\n",
    "Главным способом построения векторных представлений для артистов будем использовать **CBOW/skip-gram**. То есть будем по контексту авторов угадывать еще одного автора. При решении такой задачи нейронная сеть будет иметь внутри себя таблицу весов, которая по своей сути и будет давать нам векторные представления для артистов.\n",
    "\n",
    "Векторы являются 128-размерными.\n",
    "\n",
    "#### Обучение\n",
    "\n",
    "Для обучения были взяты сессии прослушиваний, у которых количество прослушанных композиций не меньше 4. После чего разбиты на тренировочные данные, оставив только тех авторов, кто входил в топ-2000 самых публикующих (наибольшее количество треков). Это позволяет оставить в датасете треков наибольшее количество примеров и при этом задать словарь для модели из 2000 элементов, что хорошо при использовании малого количества оперативной памяти.\n",
    "\n",
    "#### Качество методов\n",
    "\n",
    "Качество векторного представления было оценено как визуально, так и измерив метрику, которая дала резльтат в *0.016*. Замер метрики производился на данных из датасета `playlists`, который модель прежде не видела.\n"
   ]
  },
  {
   "cell_type": "markdown",
   "metadata": {},
   "source": [
    "<a id='setup'></a>"
   ]
  },
  {
   "cell_type": "markdown",
   "metadata": {},
   "source": [
    "## Setup\n",
    "В `Setup.ipynb` содержатся различные import'ы, которые захламляют основной файл, поэтому они вынесены. Также там содержатся полезные функции, которые делают разработку внутри данного файла более удобной и быстрой."
   ]
  },
  {
   "cell_type": "code",
   "execution_count": 1,
   "metadata": {
    "ExecuteTime": {
     "end_time": "2020-06-23T08:32:08.207097Z",
     "start_time": "2020-06-23T08:32:08.190082Z"
    },
    "scrolled": false
   },
   "outputs": [
    {
     "name": "stdout",
     "output_type": "stream",
     "text": [
      "Imports done!\n"
     ]
    }
   ],
   "source": [
    "run Setup.ipynb"
   ]
  },
  {
   "cell_type": "markdown",
   "metadata": {},
   "source": [
    "<a id='metric'></a>"
   ]
  },
  {
   "cell_type": "markdown",
   "metadata": {},
   "source": [
    "## Metric\n",
    "\n",
    "Запишем функцию, которая будет вычислять качество наших рекомендаций, т.е. метрику"
   ]
  },
  {
   "cell_type": "code",
   "execution_count": 2,
   "metadata": {
    "ExecuteTime": {
     "end_time": "2020-06-23T09:23:03.906222Z",
     "start_time": "2020-06-23T09:23:03.900409Z"
    }
   },
   "outputs": [],
   "source": [
    "def metric(playlist, index, embeddings, k=5):\n",
    "    \"\"\"Metric evaluates how good the algorithm recommends data.\"\"\"\n",
    "    \n",
    "    # Filter repeats in playlist\n",
    "    playlist = set(playlist)\n",
    "    \n",
    "    try:\n",
    "        # Split data into 2 parts: to feed to the model & to evaluate metric.\n",
    "        train_artists, test_artists = train_test_split(playlist, train_size=0.4)\n",
    "\n",
    "        # Suggest new artists based on \"training\" data\n",
    "        suggested = np.array()\n",
    "        for artist in train_artists:\n",
    "            artist_vector = embeddings[[artist], :]\n",
    "            \n",
    "            D, I = index.search(artist_vector, k+1)\n",
    "            suggested_ids = I[0][1:]\n",
    "            \n",
    "            suggested = np.concatenate([suggested, suggested_ids])\n",
    "\n",
    "        # Get top-k most commonly suggested artists\n",
    "        suggested = list(map(lambda x: x[0], Counter(suggested).most_common(k)))\n",
    "        \n",
    "        # Evaluate metric\n",
    "        summ = sum([int(s) in test_artists for s in suggested])\n",
    "        metric = summ / k or 0\n",
    "        \n",
    "        return metric\n",
    "    \n",
    "    except ValueError:\n",
    "        return 0"
   ]
  },
  {
   "cell_type": "markdown",
   "metadata": {},
   "source": [
    "<a id='preprocessing'></a>"
   ]
  },
  {
   "cell_type": "markdown",
   "metadata": {},
   "source": [
    "## Data Preprocessing\n",
    "\n",
    "Вся предварительная обработка данных ведется в файле `Preprocessing.ipynb`. На данный момент данные предобработаны, но при наличие новых идей по обработке данных, а также при отсутствии исходных данных следует запустить следующий код:\n",
    "\n",
    "`run Preprocessing.ipynb`"
   ]
  },
  {
   "cell_type": "code",
   "execution_count": 3,
   "metadata": {
    "ExecuteTime": {
     "end_time": "2020-06-23T07:23:11.713768Z",
     "start_time": "2020-06-23T07:23:10.603329Z"
    },
    "scrolled": false
   },
   "outputs": [],
   "source": [
    "with open('data/track_to_artist.pickle', 'rb') as f:\n",
    "    track_to_artist = pickle.load(f)"
   ]
  },
  {
   "cell_type": "code",
   "execution_count": 5,
   "metadata": {
    "ExecuteTime": {
     "end_time": "2020-06-23T07:23:11.879481Z",
     "start_time": "2020-06-23T07:23:11.843105Z"
    },
    "scrolled": true
   },
   "outputs": [
    {
     "name": "stdout",
     "output_type": "stream",
     "text": [
      "(9136, 4)\n"
     ]
    },
    {
     "data": {
      "text/html": [
       "<div>\n",
       "<style scoped>\n",
       "    .dataframe tbody tr th:only-of-type {\n",
       "        vertical-align: middle;\n",
       "    }\n",
       "\n",
       "    .dataframe tbody tr th {\n",
       "        vertical-align: top;\n",
       "    }\n",
       "\n",
       "    .dataframe thead th {\n",
       "        text-align: right;\n",
       "    }\n",
       "</style>\n",
       "<table border=\"1\" class=\"dataframe\">\n",
       "  <thead>\n",
       "    <tr style=\"text-align: right;\">\n",
       "      <th></th>\n",
       "      <th>artist_id</th>\n",
       "      <th>MBID</th>\n",
       "      <th>artist_name</th>\n",
       "      <th>encoded_artist_id</th>\n",
       "    </tr>\n",
       "  </thead>\n",
       "  <tbody>\n",
       "    <tr>\n",
       "      <th>99</th>\n",
       "      <td>109097</td>\n",
       "      <td>4279aba0-1bde-40a9-8fb2-c63d165dc554</td>\n",
       "      <td>Delerium</td>\n",
       "      <td>553</td>\n",
       "    </tr>\n",
       "    <tr>\n",
       "      <th>178</th>\n",
       "      <td>66552</td>\n",
       "      <td>NaN</td>\n",
       "      <td>Camille Saint-Saëns</td>\n",
       "      <td>378</td>\n",
       "    </tr>\n",
       "    <tr>\n",
       "      <th>260</th>\n",
       "      <td>396749</td>\n",
       "      <td>NaN</td>\n",
       "      <td>W &amp; Whale</td>\n",
       "      <td>1754</td>\n",
       "    </tr>\n",
       "    <tr>\n",
       "      <th>329</th>\n",
       "      <td>229444</td>\n",
       "      <td>NaN</td>\n",
       "      <td>M. Jackson &amp; Minnie Ripperton</td>\n",
       "      <td>1113</td>\n",
       "    </tr>\n",
       "    <tr>\n",
       "      <th>367</th>\n",
       "      <td>26802</td>\n",
       "      <td>NaN</td>\n",
       "      <td>Antonio Carlos Jobim &amp; Vinicius De Moraes</td>\n",
       "      <td>128</td>\n",
       "    </tr>\n",
       "  </tbody>\n",
       "</table>\n",
       "</div>"
      ],
      "text/plain": [
       "     artist_id                                  MBID  \\\n",
       "99      109097  4279aba0-1bde-40a9-8fb2-c63d165dc554   \n",
       "178      66552                                   NaN   \n",
       "260     396749                                   NaN   \n",
       "329     229444                                   NaN   \n",
       "367      26802                                   NaN   \n",
       "\n",
       "                                   artist_name  encoded_artist_id  \n",
       "99                                    Delerium                553  \n",
       "178                        Camille Saint-Saëns                378  \n",
       "260                                  W & Whale               1754  \n",
       "329              M. Jackson & Minnie Ripperton               1113  \n",
       "367  Antonio Carlos Jobim & Vinicius De Moraes                128  "
      ]
     },
     "execution_count": 5,
     "metadata": {},
     "output_type": "execute_result"
    }
   ],
   "source": [
    "persons_df = pd.read_csv('data/persons.csv', index_col=0)\n",
    "\n",
    "print(persons_df.shape)\n",
    "persons_df.head()"
   ]
  },
  {
   "cell_type": "code",
   "execution_count": 6,
   "metadata": {
    "ExecuteTime": {
     "end_time": "2020-06-23T07:23:13.111717Z",
     "start_time": "2020-06-23T07:23:12.228843Z"
    },
    "scrolled": true
   },
   "outputs": [
    {
     "name": "stdout",
     "output_type": "stream",
     "text": [
      "(899799, 4)\n"
     ]
    },
    {
     "data": {
      "text/html": [
       "<div>\n",
       "<style scoped>\n",
       "    .dataframe tbody tr th:only-of-type {\n",
       "        vertical-align: middle;\n",
       "    }\n",
       "\n",
       "    .dataframe tbody tr th {\n",
       "        vertical-align: top;\n",
       "    }\n",
       "\n",
       "    .dataframe thead th {\n",
       "        text-align: right;\n",
       "    }\n",
       "</style>\n",
       "<table border=\"1\" class=\"dataframe\">\n",
       "  <thead>\n",
       "    <tr style=\"text-align: right;\">\n",
       "      <th></th>\n",
       "      <th>track_id</th>\n",
       "      <th>playcount</th>\n",
       "      <th>MBID</th>\n",
       "      <th>artist</th>\n",
       "    </tr>\n",
       "  </thead>\n",
       "  <tbody>\n",
       "    <tr>\n",
       "      <th>4</th>\n",
       "      <td>2247780</td>\n",
       "      <td>35.0</td>\n",
       "      <td>3b3faa59-e657-4127-b886-d344d0655b67</td>\n",
       "      <td>31464</td>\n",
       "    </tr>\n",
       "    <tr>\n",
       "      <th>7</th>\n",
       "      <td>1611689</td>\n",
       "      <td>124.0</td>\n",
       "      <td>70f2a497-98f3-468d-a749-1d761161338b</td>\n",
       "      <td>202442</td>\n",
       "    </tr>\n",
       "    <tr>\n",
       "      <th>13</th>\n",
       "      <td>1231115</td>\n",
       "      <td>304.0</td>\n",
       "      <td>NaN</td>\n",
       "      <td>48929</td>\n",
       "    </tr>\n",
       "    <tr>\n",
       "      <th>17</th>\n",
       "      <td>3583293</td>\n",
       "      <td>139.0</td>\n",
       "      <td>NaN</td>\n",
       "      <td>447579</td>\n",
       "    </tr>\n",
       "    <tr>\n",
       "      <th>20</th>\n",
       "      <td>4933896</td>\n",
       "      <td>0.0</td>\n",
       "      <td>NaN</td>\n",
       "      <td>175645</td>\n",
       "    </tr>\n",
       "  </tbody>\n",
       "</table>\n",
       "</div>"
      ],
      "text/plain": [
       "    track_id  playcount                                  MBID  artist\n",
       "4    2247780       35.0  3b3faa59-e657-4127-b886-d344d0655b67   31464\n",
       "7    1611689      124.0  70f2a497-98f3-468d-a749-1d761161338b  202442\n",
       "13   1231115      304.0                                   NaN   48929\n",
       "17   3583293      139.0                                   NaN  447579\n",
       "20   4933896        0.0                                   NaN  175645"
      ]
     },
     "execution_count": 6,
     "metadata": {},
     "output_type": "execute_result"
    }
   ],
   "source": [
    "tracks_df = pd.read_csv('data/tracks.csv', index_col=0)\n",
    "\n",
    "print(tracks_df.shape)\n",
    "tracks_df.head()"
   ]
  },
  {
   "cell_type": "code",
   "execution_count": 8,
   "metadata": {
    "ExecuteTime": {
     "end_time": "2020-06-23T07:24:16.080139Z",
     "start_time": "2020-06-23T07:23:13.114336Z"
    },
    "scrolled": false
   },
   "outputs": [
    {
     "name": "stdout",
     "output_type": "stream",
     "text": [
      "(1544641, 6)\n"
     ]
    },
    {
     "data": {
      "text/html": [
       "<div>\n",
       "<style scoped>\n",
       "    .dataframe tbody tr th:only-of-type {\n",
       "        vertical-align: middle;\n",
       "    }\n",
       "\n",
       "    .dataframe tbody tr th {\n",
       "        vertical-align: top;\n",
       "    }\n",
       "\n",
       "    .dataframe thead th {\n",
       "        text-align: right;\n",
       "    }\n",
       "</style>\n",
       "<table border=\"1\" class=\"dataframe\">\n",
       "  <thead>\n",
       "    <tr style=\"text-align: right;\">\n",
       "      <th></th>\n",
       "      <th>tracks_ids</th>\n",
       "      <th>play_ratios</th>\n",
       "      <th>artists_ids</th>\n",
       "      <th>user</th>\n",
       "      <th>numtracks</th>\n",
       "      <th>playtime</th>\n",
       "    </tr>\n",
       "  </thead>\n",
       "  <tbody>\n",
       "    <tr>\n",
       "      <th>2164574</th>\n",
       "      <td>[1206710, 1206686, 1206289, 1206399, 1206537, ...</td>\n",
       "      <td>[1.01, 1.0, 1.01, 1.03, 1.0, 1.01, 1.0, 0.11, ...</td>\n",
       "      <td>[153765, 153765, 153765, 153765, 153765, 15376...</td>\n",
       "      <td>37290.0</td>\n",
       "      <td>24.0</td>\n",
       "      <td>3199.0</td>\n",
       "    </tr>\n",
       "    <tr>\n",
       "      <th>2151015</th>\n",
       "      <td>[4656566, 2415002, 2415009, 3106947, 359911, 2...</td>\n",
       "      <td>[1.0, 1.58, 1.16, 1.03, 1.08, 1.08, 1.0]</td>\n",
       "      <td>[43890, 301991, 301991, 384006, 44427, 290454,...</td>\n",
       "      <td>41595.0</td>\n",
       "      <td>7.0</td>\n",
       "      <td>2981.0</td>\n",
       "    </tr>\n",
       "    <tr>\n",
       "      <th>843397</th>\n",
       "      <td>[331230, 381382, 1700783, 331233, 2819796, 903...</td>\n",
       "      <td>[1.01, 1.0, 1.0, 1.0, 1.07, 1.01, 1.0, 1.0, 1....</td>\n",
       "      <td>[41369, 47099, 213316, 41369, 352463, 12304, 2...</td>\n",
       "      <td>35556.0</td>\n",
       "      <td>17.0</td>\n",
       "      <td>4348.0</td>\n",
       "    </tr>\n",
       "    <tr>\n",
       "      <th>1089073</th>\n",
       "      <td>[3013401, 467264, 3550790, 341591, 1980238, 71...</td>\n",
       "      <td>[1.0, 1.0, 1.0, 1.23, 1.0, 1.0, 1.0, 1.0, 1.0,...</td>\n",
       "      <td>[372487, 55663, 443910, 42218, 248180, 87066, ...</td>\n",
       "      <td>7295.0</td>\n",
       "      <td>82.0</td>\n",
       "      <td>20364.0</td>\n",
       "    </tr>\n",
       "    <tr>\n",
       "      <th>2363704</th>\n",
       "      <td>[3864784, 2130363, 2130558, 2130117, 2130548, ...</td>\n",
       "      <td>[1.23, 0.53, 1.14, 1.06, 1.0, 1.0, 1.0]</td>\n",
       "      <td>[267416, 267416, 267416, 267416, 267416, 26741...</td>\n",
       "      <td>12949.0</td>\n",
       "      <td>7.0</td>\n",
       "      <td>1693.0</td>\n",
       "    </tr>\n",
       "  </tbody>\n",
       "</table>\n",
       "</div>"
      ],
      "text/plain": [
       "                                                tracks_ids  \\\n",
       "2164574  [1206710, 1206686, 1206289, 1206399, 1206537, ...   \n",
       "2151015  [4656566, 2415002, 2415009, 3106947, 359911, 2...   \n",
       "843397   [331230, 381382, 1700783, 331233, 2819796, 903...   \n",
       "1089073  [3013401, 467264, 3550790, 341591, 1980238, 71...   \n",
       "2363704  [3864784, 2130363, 2130558, 2130117, 2130548, ...   \n",
       "\n",
       "                                               play_ratios  \\\n",
       "2164574  [1.01, 1.0, 1.01, 1.03, 1.0, 1.01, 1.0, 0.11, ...   \n",
       "2151015           [1.0, 1.58, 1.16, 1.03, 1.08, 1.08, 1.0]   \n",
       "843397   [1.01, 1.0, 1.0, 1.0, 1.07, 1.01, 1.0, 1.0, 1....   \n",
       "1089073  [1.0, 1.0, 1.0, 1.23, 1.0, 1.0, 1.0, 1.0, 1.0,...   \n",
       "2363704            [1.23, 0.53, 1.14, 1.06, 1.0, 1.0, 1.0]   \n",
       "\n",
       "                                               artists_ids     user  \\\n",
       "2164574  [153765, 153765, 153765, 153765, 153765, 15376...  37290.0   \n",
       "2151015  [43890, 301991, 301991, 384006, 44427, 290454,...  41595.0   \n",
       "843397   [41369, 47099, 213316, 41369, 352463, 12304, 2...  35556.0   \n",
       "1089073  [372487, 55663, 443910, 42218, 248180, 87066, ...   7295.0   \n",
       "2363704  [267416, 267416, 267416, 267416, 267416, 26741...  12949.0   \n",
       "\n",
       "         numtracks  playtime  \n",
       "2164574       24.0    3199.0  \n",
       "2151015        7.0    2981.0  \n",
       "843397        17.0    4348.0  \n",
       "1089073       82.0   20364.0  \n",
       "2363704        7.0    1693.0  "
      ]
     },
     "execution_count": 8,
     "metadata": {},
     "output_type": "execute_result"
    }
   ],
   "source": [
    "# Read information about sessions and shuffle it\n",
    "sessions_df = pd.read_csv('data/sessions.csv', index_col=0)\n",
    "sessions_df = sessions_df.sample(frac=1.0)\n",
    "\n",
    "# Load information stored in json formats (lists)\n",
    "for column in sessions_df.columns[:3]:\n",
    "    sessions_df[column] = sessions_df[column].apply(json.loads)\n",
    "\n",
    "# Show basic information about dataset\n",
    "print(sessions_df.shape)\n",
    "sessions_df.head()"
   ]
  },
  {
   "cell_type": "markdown",
   "metadata": {},
   "source": [
    "Далее мы закодируем `id` авторов, чтобы нумерация начиналась с 0 и мы могли бы легко представить автора как вектор, у которого 1 стоит на компоненте, номер которой равен `id`. Для этого воспользуемся LabelEnocder'ом."
   ]
  },
  {
   "cell_type": "code",
   "execution_count": 9,
   "metadata": {
    "ExecuteTime": {
     "end_time": "2020-06-23T07:24:16.370693Z",
     "start_time": "2020-06-23T07:24:16.085110Z"
    },
    "scrolled": true
   },
   "outputs": [
    {
     "data": {
      "text/html": [
       "<div>\n",
       "<style scoped>\n",
       "    .dataframe tbody tr th:only-of-type {\n",
       "        vertical-align: middle;\n",
       "    }\n",
       "\n",
       "    .dataframe tbody tr th {\n",
       "        vertical-align: top;\n",
       "    }\n",
       "\n",
       "    .dataframe thead th {\n",
       "        text-align: right;\n",
       "    }\n",
       "</style>\n",
       "<table border=\"1\" class=\"dataframe\">\n",
       "  <thead>\n",
       "    <tr style=\"text-align: right;\">\n",
       "      <th></th>\n",
       "      <th>track_id</th>\n",
       "      <th>playcount</th>\n",
       "      <th>MBID</th>\n",
       "      <th>artist</th>\n",
       "    </tr>\n",
       "  </thead>\n",
       "  <tbody>\n",
       "    <tr>\n",
       "      <th>4</th>\n",
       "      <td>2247780</td>\n",
       "      <td>35.0</td>\n",
       "      <td>3b3faa59-e657-4127-b886-d344d0655b67</td>\n",
       "      <td>157</td>\n",
       "    </tr>\n",
       "    <tr>\n",
       "      <th>7</th>\n",
       "      <td>1611689</td>\n",
       "      <td>124.0</td>\n",
       "      <td>70f2a497-98f3-468d-a749-1d761161338b</td>\n",
       "      <td>992</td>\n",
       "    </tr>\n",
       "    <tr>\n",
       "      <th>13</th>\n",
       "      <td>1231115</td>\n",
       "      <td>304.0</td>\n",
       "      <td>NaN</td>\n",
       "      <td>262</td>\n",
       "    </tr>\n",
       "    <tr>\n",
       "      <th>17</th>\n",
       "      <td>3583293</td>\n",
       "      <td>139.0</td>\n",
       "      <td>NaN</td>\n",
       "      <td>1919</td>\n",
       "    </tr>\n",
       "    <tr>\n",
       "      <th>20</th>\n",
       "      <td>4933896</td>\n",
       "      <td>0.0</td>\n",
       "      <td>NaN</td>\n",
       "      <td>873</td>\n",
       "    </tr>\n",
       "  </tbody>\n",
       "</table>\n",
       "</div>"
      ],
      "text/plain": [
       "    track_id  playcount                                  MBID  artist\n",
       "4    2247780       35.0  3b3faa59-e657-4127-b886-d344d0655b67     157\n",
       "7    1611689      124.0  70f2a497-98f3-468d-a749-1d761161338b     992\n",
       "13   1231115      304.0                                   NaN     262\n",
       "17   3583293      139.0                                   NaN    1919\n",
       "20   4933896        0.0                                   NaN     873"
      ]
     },
     "execution_count": 9,
     "metadata": {},
     "output_type": "execute_result"
    }
   ],
   "source": [
    "artist_encoder = LabelEncoder()\n",
    "\n",
    "tracks_df['artist'] = artist_encoder.fit_transform(tracks_df['artist'])\n",
    "tracks_df.head()"
   ]
  },
  {
   "cell_type": "code",
   "execution_count": 10,
   "metadata": {},
   "outputs": [
    {
     "data": {
      "text/html": [
       "<div>\n",
       "<style scoped>\n",
       "    .dataframe tbody tr th:only-of-type {\n",
       "        vertical-align: middle;\n",
       "    }\n",
       "\n",
       "    .dataframe tbody tr th {\n",
       "        vertical-align: top;\n",
       "    }\n",
       "\n",
       "    .dataframe thead th {\n",
       "        text-align: right;\n",
       "    }\n",
       "</style>\n",
       "<table border=\"1\" class=\"dataframe\">\n",
       "  <thead>\n",
       "    <tr style=\"text-align: right;\">\n",
       "      <th></th>\n",
       "      <th>tracks_ids</th>\n",
       "      <th>play_ratios</th>\n",
       "      <th>artists_ids</th>\n",
       "      <th>user</th>\n",
       "      <th>numtracks</th>\n",
       "      <th>playtime</th>\n",
       "    </tr>\n",
       "  </thead>\n",
       "  <tbody>\n",
       "    <tr>\n",
       "      <th>2164574</th>\n",
       "      <td>[1206710, 1206686, 1206289, 1206399, 1206537, ...</td>\n",
       "      <td>[1.01, 1.0, 1.01, 1.03, 1.0, 1.01, 1.0, 0.11, ...</td>\n",
       "      <td>[153765, 153765, 153765, 153765, 153765, 15376...</td>\n",
       "      <td>37290.0</td>\n",
       "      <td>24.0</td>\n",
       "      <td>3199.0</td>\n",
       "    </tr>\n",
       "    <tr>\n",
       "      <th>2151015</th>\n",
       "      <td>[4656566, 2415002, 2415009, 3106947, 359911, 2...</td>\n",
       "      <td>[1.0, 1.58, 1.16, 1.03, 1.08, 1.08, 1.0]</td>\n",
       "      <td>[43890, 301991, 301991, 384006, 44427, 290454,...</td>\n",
       "      <td>41595.0</td>\n",
       "      <td>7.0</td>\n",
       "      <td>2981.0</td>\n",
       "    </tr>\n",
       "    <tr>\n",
       "      <th>843397</th>\n",
       "      <td>[331230, 381382, 1700783, 331233, 2819796, 903...</td>\n",
       "      <td>[1.01, 1.0, 1.0, 1.0, 1.07, 1.01, 1.0, 1.0, 1....</td>\n",
       "      <td>[41369, 47099, 213316, 41369, 352463, 12304, 2...</td>\n",
       "      <td>35556.0</td>\n",
       "      <td>17.0</td>\n",
       "      <td>4348.0</td>\n",
       "    </tr>\n",
       "    <tr>\n",
       "      <th>1089073</th>\n",
       "      <td>[3013401, 467264, 3550790, 341591, 1980238, 71...</td>\n",
       "      <td>[1.0, 1.0, 1.0, 1.23, 1.0, 1.0, 1.0, 1.0, 1.0,...</td>\n",
       "      <td>[372487, 55663, 443910, 42218, 248180, 87066, ...</td>\n",
       "      <td>7295.0</td>\n",
       "      <td>82.0</td>\n",
       "      <td>20364.0</td>\n",
       "    </tr>\n",
       "    <tr>\n",
       "      <th>2363704</th>\n",
       "      <td>[3864784, 2130363, 2130558, 2130117, 2130548, ...</td>\n",
       "      <td>[1.23, 0.53, 1.14, 1.06, 1.0, 1.0, 1.0]</td>\n",
       "      <td>[267416, 267416, 267416, 267416, 267416, 26741...</td>\n",
       "      <td>12949.0</td>\n",
       "      <td>7.0</td>\n",
       "      <td>1693.0</td>\n",
       "    </tr>\n",
       "  </tbody>\n",
       "</table>\n",
       "</div>"
      ],
      "text/plain": [
       "                                                tracks_ids  \\\n",
       "2164574  [1206710, 1206686, 1206289, 1206399, 1206537, ...   \n",
       "2151015  [4656566, 2415002, 2415009, 3106947, 359911, 2...   \n",
       "843397   [331230, 381382, 1700783, 331233, 2819796, 903...   \n",
       "1089073  [3013401, 467264, 3550790, 341591, 1980238, 71...   \n",
       "2363704  [3864784, 2130363, 2130558, 2130117, 2130548, ...   \n",
       "\n",
       "                                               play_ratios  \\\n",
       "2164574  [1.01, 1.0, 1.01, 1.03, 1.0, 1.01, 1.0, 0.11, ...   \n",
       "2151015           [1.0, 1.58, 1.16, 1.03, 1.08, 1.08, 1.0]   \n",
       "843397   [1.01, 1.0, 1.0, 1.0, 1.07, 1.01, 1.0, 1.0, 1....   \n",
       "1089073  [1.0, 1.0, 1.0, 1.23, 1.0, 1.0, 1.0, 1.0, 1.0,...   \n",
       "2363704            [1.23, 0.53, 1.14, 1.06, 1.0, 1.0, 1.0]   \n",
       "\n",
       "                                               artists_ids     user  \\\n",
       "2164574  [153765, 153765, 153765, 153765, 153765, 15376...  37290.0   \n",
       "2151015  [43890, 301991, 301991, 384006, 44427, 290454,...  41595.0   \n",
       "843397   [41369, 47099, 213316, 41369, 352463, 12304, 2...  35556.0   \n",
       "1089073  [372487, 55663, 443910, 42218, 248180, 87066, ...   7295.0   \n",
       "2363704  [267416, 267416, 267416, 267416, 267416, 26741...  12949.0   \n",
       "\n",
       "         numtracks  playtime  \n",
       "2164574       24.0    3199.0  \n",
       "2151015        7.0    2981.0  \n",
       "843397        17.0    4348.0  \n",
       "1089073       82.0   20364.0  \n",
       "2363704        7.0    1693.0  "
      ]
     },
     "execution_count": 10,
     "metadata": {},
     "output_type": "execute_result"
    }
   ],
   "source": [
    "sessions_df.head()"
   ]
  },
  {
   "cell_type": "code",
   "execution_count": 12,
   "metadata": {
    "ExecuteTime": {
     "end_time": "2020-06-23T07:24:16.383568Z",
     "start_time": "2020-06-23T07:24:16.374072Z"
    }
   },
   "outputs": [],
   "source": [
    "def old_to_new_artist(old_artists):\n",
    "    new_artists = []\n",
    "\n",
    "    for artist in old_artists:\n",
    "        new_artists.append(ae_dict.get(artist, len(artist_encoder.classes_)))\n",
    "    \n",
    "    return new_artists\n",
    "\n",
    "ae_dict = dict(zip(artist_encoder.classes_, artist_encoder.transform(artist_encoder.classes_)))"
   ]
  },
  {
   "cell_type": "code",
   "execution_count": 13,
   "metadata": {
    "ExecuteTime": {
     "end_time": "2020-06-23T07:24:33.792900Z",
     "start_time": "2020-06-23T07:24:16.387075Z"
    },
    "scrolled": false
   },
   "outputs": [
    {
     "data": {
      "text/html": [
       "<div>\n",
       "<style scoped>\n",
       "    .dataframe tbody tr th:only-of-type {\n",
       "        vertical-align: middle;\n",
       "    }\n",
       "\n",
       "    .dataframe tbody tr th {\n",
       "        vertical-align: top;\n",
       "    }\n",
       "\n",
       "    .dataframe thead th {\n",
       "        text-align: right;\n",
       "    }\n",
       "</style>\n",
       "<table border=\"1\" class=\"dataframe\">\n",
       "  <thead>\n",
       "    <tr style=\"text-align: right;\">\n",
       "      <th></th>\n",
       "      <th>tracks_ids</th>\n",
       "      <th>play_ratios</th>\n",
       "      <th>artists_ids</th>\n",
       "      <th>user</th>\n",
       "      <th>numtracks</th>\n",
       "      <th>playtime</th>\n",
       "      <th>new_artists_ids</th>\n",
       "    </tr>\n",
       "  </thead>\n",
       "  <tbody>\n",
       "    <tr>\n",
       "      <th>2164574</th>\n",
       "      <td>[1206710, 1206686, 1206289, 1206399, 1206537, ...</td>\n",
       "      <td>[1.01, 1.0, 1.01, 1.03, 1.0, 1.01, 1.0, 0.11, ...</td>\n",
       "      <td>[153765, 153765, 153765, 153765, 153765, 15376...</td>\n",
       "      <td>37290.0</td>\n",
       "      <td>24.0</td>\n",
       "      <td>3199.0</td>\n",
       "      <td>[754, 754, 754, 754, 754, 754, 754, 754, 754, ...</td>\n",
       "    </tr>\n",
       "    <tr>\n",
       "      <th>2151015</th>\n",
       "      <td>[4656566, 2415002, 2415009, 3106947, 359911, 2...</td>\n",
       "      <td>[1.0, 1.58, 1.16, 1.03, 1.08, 1.08, 1.0]</td>\n",
       "      <td>[43890, 301991, 301991, 384006, 44427, 290454,...</td>\n",
       "      <td>41595.0</td>\n",
       "      <td>7.0</td>\n",
       "      <td>2981.0</td>\n",
       "      <td>[1999, 1999, 1999, 1999, 1999, 1999, 1999]</td>\n",
       "    </tr>\n",
       "    <tr>\n",
       "      <th>843397</th>\n",
       "      <td>[331230, 381382, 1700783, 331233, 2819796, 903...</td>\n",
       "      <td>[1.01, 1.0, 1.0, 1.0, 1.07, 1.01, 1.0, 1.0, 1....</td>\n",
       "      <td>[41369, 47099, 213316, 41369, 352463, 12304, 2...</td>\n",
       "      <td>35556.0</td>\n",
       "      <td>17.0</td>\n",
       "      <td>4348.0</td>\n",
       "      <td>[1999, 1999, 1999, 1999, 1999, 1999, 1999, 199...</td>\n",
       "    </tr>\n",
       "    <tr>\n",
       "      <th>1089073</th>\n",
       "      <td>[3013401, 467264, 3550790, 341591, 1980238, 71...</td>\n",
       "      <td>[1.0, 1.0, 1.0, 1.23, 1.0, 1.0, 1.0, 1.0, 1.0,...</td>\n",
       "      <td>[372487, 55663, 443910, 42218, 248180, 87066, ...</td>\n",
       "      <td>7295.0</td>\n",
       "      <td>82.0</td>\n",
       "      <td>20364.0</td>\n",
       "      <td>[1674, 1999, 1901, 217, 1999, 1999, 1999, 672,...</td>\n",
       "    </tr>\n",
       "    <tr>\n",
       "      <th>2363704</th>\n",
       "      <td>[3864784, 2130363, 2130558, 2130117, 2130548, ...</td>\n",
       "      <td>[1.23, 0.53, 1.14, 1.06, 1.0, 1.0, 1.0]</td>\n",
       "      <td>[267416, 267416, 267416, 267416, 267416, 26741...</td>\n",
       "      <td>12949.0</td>\n",
       "      <td>7.0</td>\n",
       "      <td>1693.0</td>\n",
       "      <td>[1277, 1277, 1277, 1277, 1277, 1277, 1277]</td>\n",
       "    </tr>\n",
       "    <tr>\n",
       "      <th>2060379</th>\n",
       "      <td>[394737, 533644, 1075996, 1056176, 2585391, 28...</td>\n",
       "      <td>[1.01, 1.0, 0.77, 1.0, 1.02, 0.99, 1.01, 0.77,...</td>\n",
       "      <td>[48442, 64117, 124041, 136301, 324002, 80485, ...</td>\n",
       "      <td>14317.0</td>\n",
       "      <td>21.0</td>\n",
       "      <td>3883.0</td>\n",
       "      <td>[257, 363, 624, 686, 1518, 454, 387, 624, 588,...</td>\n",
       "    </tr>\n",
       "    <tr>\n",
       "      <th>1929797</th>\n",
       "      <td>[2773681, 2773631, 2773659, 2773641, 2773672, ...</td>\n",
       "      <td>[0.99, 1.01, 1.0, 0.99, 1.24, 1.0, 1.23, 1.0, ...</td>\n",
       "      <td>[347953, 347953, 347953, 347953, 347953, 34795...</td>\n",
       "      <td>39975.0</td>\n",
       "      <td>10.0</td>\n",
       "      <td>3090.0</td>\n",
       "      <td>[1999, 1999, 1999, 1999, 1999, 1999, 1999, 199...</td>\n",
       "    </tr>\n",
       "    <tr>\n",
       "      <th>548777</th>\n",
       "      <td>[3673140, 2899009, 2983355, 826821, 826821, 22...</td>\n",
       "      <td>[1.01, 0.96, 0.94, 0.01, 0.92, 0.01, 0.01, 1.4...</td>\n",
       "      <td>[455930, 360406, 336778, 56683, 56683, 124222,...</td>\n",
       "      <td>42036.0</td>\n",
       "      <td>9.0</td>\n",
       "      <td>1259.0</td>\n",
       "      <td>[1951, 1646, 1574, 316, 316, 627, 627, 627, 981]</td>\n",
       "    </tr>\n",
       "    <tr>\n",
       "      <th>1590941</th>\n",
       "      <td>[3821593, 1691144, 1170343, 1250890, 3822618, ...</td>\n",
       "      <td>[1.02, 1.0, 1.07, 0.62, 1.0, 1.0, 1.0, 1.0, 1....</td>\n",
       "      <td>[137192, 211810, 149038, 158438, 140710, 34818...</td>\n",
       "      <td>33229.0</td>\n",
       "      <td>76.0</td>\n",
       "      <td>17005.0</td>\n",
       "      <td>[1999, 1999, 1999, 1999, 1999, 1999, 1999, 199...</td>\n",
       "    </tr>\n",
       "    <tr>\n",
       "      <th>142881</th>\n",
       "      <td>[3027994, 487862, 2685276, 1174086, 4463527, 3...</td>\n",
       "      <td>[0.99, 1.0, 0.99, 1.19, 1.0, 0.99, 1.0, 0.75, ...</td>\n",
       "      <td>[374038, 58199, 336585, 149534, 266688, 374038...</td>\n",
       "      <td>39975.0</td>\n",
       "      <td>264.0</td>\n",
       "      <td>6105.0</td>\n",
       "      <td>[1999, 1999, 1999, 1999, 1999, 1999, 1999, 199...</td>\n",
       "    </tr>\n",
       "  </tbody>\n",
       "</table>\n",
       "</div>"
      ],
      "text/plain": [
       "                                                tracks_ids  \\\n",
       "2164574  [1206710, 1206686, 1206289, 1206399, 1206537, ...   \n",
       "2151015  [4656566, 2415002, 2415009, 3106947, 359911, 2...   \n",
       "843397   [331230, 381382, 1700783, 331233, 2819796, 903...   \n",
       "1089073  [3013401, 467264, 3550790, 341591, 1980238, 71...   \n",
       "2363704  [3864784, 2130363, 2130558, 2130117, 2130548, ...   \n",
       "2060379  [394737, 533644, 1075996, 1056176, 2585391, 28...   \n",
       "1929797  [2773681, 2773631, 2773659, 2773641, 2773672, ...   \n",
       "548777   [3673140, 2899009, 2983355, 826821, 826821, 22...   \n",
       "1590941  [3821593, 1691144, 1170343, 1250890, 3822618, ...   \n",
       "142881   [3027994, 487862, 2685276, 1174086, 4463527, 3...   \n",
       "\n",
       "                                               play_ratios  \\\n",
       "2164574  [1.01, 1.0, 1.01, 1.03, 1.0, 1.01, 1.0, 0.11, ...   \n",
       "2151015           [1.0, 1.58, 1.16, 1.03, 1.08, 1.08, 1.0]   \n",
       "843397   [1.01, 1.0, 1.0, 1.0, 1.07, 1.01, 1.0, 1.0, 1....   \n",
       "1089073  [1.0, 1.0, 1.0, 1.23, 1.0, 1.0, 1.0, 1.0, 1.0,...   \n",
       "2363704            [1.23, 0.53, 1.14, 1.06, 1.0, 1.0, 1.0]   \n",
       "2060379  [1.01, 1.0, 0.77, 1.0, 1.02, 0.99, 1.01, 0.77,...   \n",
       "1929797  [0.99, 1.01, 1.0, 0.99, 1.24, 1.0, 1.23, 1.0, ...   \n",
       "548777   [1.01, 0.96, 0.94, 0.01, 0.92, 0.01, 0.01, 1.4...   \n",
       "1590941  [1.02, 1.0, 1.07, 0.62, 1.0, 1.0, 1.0, 1.0, 1....   \n",
       "142881   [0.99, 1.0, 0.99, 1.19, 1.0, 0.99, 1.0, 0.75, ...   \n",
       "\n",
       "                                               artists_ids     user  \\\n",
       "2164574  [153765, 153765, 153765, 153765, 153765, 15376...  37290.0   \n",
       "2151015  [43890, 301991, 301991, 384006, 44427, 290454,...  41595.0   \n",
       "843397   [41369, 47099, 213316, 41369, 352463, 12304, 2...  35556.0   \n",
       "1089073  [372487, 55663, 443910, 42218, 248180, 87066, ...   7295.0   \n",
       "2363704  [267416, 267416, 267416, 267416, 267416, 26741...  12949.0   \n",
       "2060379  [48442, 64117, 124041, 136301, 324002, 80485, ...  14317.0   \n",
       "1929797  [347953, 347953, 347953, 347953, 347953, 34795...  39975.0   \n",
       "548777   [455930, 360406, 336778, 56683, 56683, 124222,...  42036.0   \n",
       "1590941  [137192, 211810, 149038, 158438, 140710, 34818...  33229.0   \n",
       "142881   [374038, 58199, 336585, 149534, 266688, 374038...  39975.0   \n",
       "\n",
       "         numtracks  playtime  \\\n",
       "2164574       24.0    3199.0   \n",
       "2151015        7.0    2981.0   \n",
       "843397        17.0    4348.0   \n",
       "1089073       82.0   20364.0   \n",
       "2363704        7.0    1693.0   \n",
       "2060379       21.0    3883.0   \n",
       "1929797       10.0    3090.0   \n",
       "548777         9.0    1259.0   \n",
       "1590941       76.0   17005.0   \n",
       "142881       264.0    6105.0   \n",
       "\n",
       "                                           new_artists_ids  \n",
       "2164574  [754, 754, 754, 754, 754, 754, 754, 754, 754, ...  \n",
       "2151015         [1999, 1999, 1999, 1999, 1999, 1999, 1999]  \n",
       "843397   [1999, 1999, 1999, 1999, 1999, 1999, 1999, 199...  \n",
       "1089073  [1674, 1999, 1901, 217, 1999, 1999, 1999, 672,...  \n",
       "2363704         [1277, 1277, 1277, 1277, 1277, 1277, 1277]  \n",
       "2060379  [257, 363, 624, 686, 1518, 454, 387, 624, 588,...  \n",
       "1929797  [1999, 1999, 1999, 1999, 1999, 1999, 1999, 199...  \n",
       "548777    [1951, 1646, 1574, 316, 316, 627, 627, 627, 981]  \n",
       "1590941  [1999, 1999, 1999, 1999, 1999, 1999, 1999, 199...  \n",
       "142881   [1999, 1999, 1999, 1999, 1999, 1999, 1999, 199...  "
      ]
     },
     "execution_count": 13,
     "metadata": {},
     "output_type": "execute_result"
    }
   ],
   "source": [
    "sessions_df['new_artists_ids'] = sessions_df['artists_ids'].apply(old_to_new_artist)\n",
    "sessions_df.head(10)"
   ]
  },
  {
   "cell_type": "code",
   "execution_count": 14,
   "metadata": {
    "ExecuteTime": {
     "end_time": "2020-06-23T07:24:35.176115Z",
     "start_time": "2020-06-23T07:24:33.796536Z"
    }
   },
   "outputs": [
    {
     "data": {
      "text/html": [
       "<div>\n",
       "<style scoped>\n",
       "    .dataframe tbody tr th:only-of-type {\n",
       "        vertical-align: middle;\n",
       "    }\n",
       "\n",
       "    .dataframe tbody tr th {\n",
       "        vertical-align: top;\n",
       "    }\n",
       "\n",
       "    .dataframe thead th {\n",
       "        text-align: right;\n",
       "    }\n",
       "</style>\n",
       "<table border=\"1\" class=\"dataframe\">\n",
       "  <thead>\n",
       "    <tr style=\"text-align: right;\">\n",
       "      <th></th>\n",
       "      <th>authors_ids</th>\n",
       "      <th>new_artists_ids</th>\n",
       "    </tr>\n",
       "  </thead>\n",
       "  <tbody>\n",
       "    <tr>\n",
       "      <th>0</th>\n",
       "      <td>[283322, 338265, 409167, 460940, 80485, 320708...</td>\n",
       "      <td>[1355, 1999, 1999, 1980, 454, 1500, 1501, 1999]</td>\n",
       "    </tr>\n",
       "    <tr>\n",
       "      <th>1</th>\n",
       "      <td>[202099, 202099, 216266, 216266, 344752, 34475...</td>\n",
       "      <td>[1999, 1999, 1999, 1999, 1999, 1999, 1999, 199...</td>\n",
       "    </tr>\n",
       "    <tr>\n",
       "      <th>2</th>\n",
       "      <td>[266376, 266376, 266376, 266376, 266376, 26637...</td>\n",
       "      <td>[1273, 1273, 1273, 1273, 1273, 1273, 1273, 199...</td>\n",
       "    </tr>\n",
       "    <tr>\n",
       "      <th>3</th>\n",
       "      <td>[153634, 191123, 175761, 318259, 41200, 16930,...</td>\n",
       "      <td>[1999, 1999, 1999, 1488, 1999, 1999, 1999, 199...</td>\n",
       "    </tr>\n",
       "    <tr>\n",
       "      <th>4</th>\n",
       "      <td>[252032, 446387, 184258, 446387, 305798]</td>\n",
       "      <td>[1999, 1908, 1999, 1908, 1441]</td>\n",
       "    </tr>\n",
       "  </tbody>\n",
       "</table>\n",
       "</div>"
      ],
      "text/plain": [
       "                                         authors_ids  \\\n",
       "0  [283322, 338265, 409167, 460940, 80485, 320708...   \n",
       "1  [202099, 202099, 216266, 216266, 344752, 34475...   \n",
       "2  [266376, 266376, 266376, 266376, 266376, 26637...   \n",
       "3  [153634, 191123, 175761, 318259, 41200, 16930,...   \n",
       "4           [252032, 446387, 184258, 446387, 305798]   \n",
       "\n",
       "                                     new_artists_ids  \n",
       "0    [1355, 1999, 1999, 1980, 454, 1500, 1501, 1999]  \n",
       "1  [1999, 1999, 1999, 1999, 1999, 1999, 1999, 199...  \n",
       "2  [1273, 1273, 1273, 1273, 1273, 1273, 1273, 199...  \n",
       "3  [1999, 1999, 1999, 1488, 1999, 1999, 1999, 199...  \n",
       "4                     [1999, 1908, 1999, 1908, 1441]  "
      ]
     },
     "execution_count": 14,
     "metadata": {},
     "output_type": "execute_result"
    }
   ],
   "source": [
    "playlists_df = pd.read_csv('data/playlist.csv', index_col=0)\n",
    "playlists_df['authors_ids'] = playlists_df['authors_ids'].apply(json.loads)\n",
    "playlists_df['new_artists_ids'] = playlists_df['authors_ids'].apply(old_to_new_artist)\n",
    "\n",
    "playlists_df.head()"
   ]
  },
  {
   "cell_type": "markdown",
   "metadata": {},
   "source": [
    "<a id='training_data'></a>"
   ]
  },
  {
   "cell_type": "markdown",
   "metadata": {},
   "source": [
    "## Training Data Generating \n",
    "Разбиение данных проведем по принципу скользящего окна, как это делается в CBOW или skip-gram. Размер окна установим равным 1 в каждую из сторон."
   ]
  },
  {
   "cell_type": "code",
   "execution_count": 15,
   "metadata": {
    "ExecuteTime": {
     "end_time": "2020-06-23T00:35:26.464574Z",
     "start_time": "2020-06-23T00:35:16.456603Z"
    },
    "scrolled": false
   },
   "outputs": [
    {
     "data": {
      "application/vnd.jupyter.widget-view+json": {
       "model_id": "cd939c9d9a554c39952b0a766e3c73a8",
       "version_major": 2,
       "version_minor": 0
      },
      "text/plain": [
       "  0%|          | 0/1544641 [00:00<?, ?it/s]"
      ]
     },
     "metadata": {},
     "output_type": "display_data"
    },
    {
     "name": "stdout",
     "output_type": "stream",
     "text": [
      "Sizes of X & y: 3182009, 3182009\n",
      "\n",
      "([649, 1292], 1674)\n",
      "([1674, 655], 1292)\n",
      "([1292, 146], 655)\n",
      "([655, 1302], 146)\n",
      "([146, 1432], 1302)\n",
      "([1302, 155], 1432)\n",
      "([1432, 672], 155)\n",
      "([155, 1824], 672)\n",
      "([672, 1325], 1824)\n",
      "([1824, 686], 1325)\n"
     ]
    }
   ],
   "source": [
    "WINDOW_SIZE = 1\n",
    "train_x, train_y = [], []\n",
    "\n",
    "for session in tqdm_notebook(sessions_df['new_artists_ids']):\n",
    "    session = list(set(session))\n",
    "    if len(session) < (1 + WINDOW_SIZE * 2):\n",
    "        continue\n",
    "    \n",
    "    for i in range(len(session) - WINDOW_SIZE * 2): \n",
    "        train_x.append(session[i:i+WINDOW_SIZE] + session[i+WINDOW_SIZE+1:i+WINDOW_SIZE*2+1])\n",
    "        train_y.append(session[i+WINDOW_SIZE])\n",
    "\n",
    "print(f'Sizes of X & y: {len(train_x)}, {len(train_y)}\\n')\n",
    "print(*zip(train_x[:10], train_y[:10]), sep='\\n')"
   ]
  },
  {
   "cell_type": "code",
   "execution_count": 33,
   "metadata": {
    "ExecuteTime": {
     "end_time": "2020-06-23T00:35:28.687408Z",
     "start_time": "2020-06-23T00:35:26.476650Z"
    },
    "scrolled": false
   },
   "outputs": [
    {
     "data": {
      "text/plain": [
       "0"
      ]
     },
     "execution_count": 33,
     "metadata": {},
     "output_type": "execute_result"
    }
   ],
   "source": [
    "del sessions_df\n",
    "del tracks_df\n",
    "del persons_df\n",
    "\n",
    "gc.collect()"
   ]
  },
  {
   "cell_type": "markdown",
   "metadata": {},
   "source": [
    "<a id='model'></a>"
   ]
  },
  {
   "cell_type": "markdown",
   "metadata": {},
   "source": [
    "## Model (initialization & train)\n",
    "У нас имеется уже натренированная модель, которую можно загрузить с помощью следующей команды:\n",
    "\n",
    "```python\n",
    "model = keras.models.load_model('model_initial.hd5')\n",
    "```\n",
    "\n",
    "Размерность для наших эмбеддингов зададим равную 128, а размер словаря, т.е. сколько у нас имеется уникальных артистов равным этому числу. "
   ]
  },
  {
   "cell_type": "code",
   "execution_count": 16,
   "metadata": {
    "ExecuteTime": {
     "end_time": "2020-06-23T07:27:26.869766Z",
     "start_time": "2020-06-23T07:27:26.859582Z"
    },
    "scrolled": false
   },
   "outputs": [
    {
     "name": "stdout",
     "output_type": "stream",
     "text": [
      "VOCAB_SIZE = 2000\n",
      "EMBEDDING_SIZE = 128\n"
     ]
    }
   ],
   "source": [
    "WINDOW_SIZE=1\n",
    "VOCAB_SIZE = len(artist_encoder.classes_) + 1\n",
    "EMBEDDING_SIZE = 128\n",
    "\n",
    "print(f'VOCAB_SIZE = {VOCAB_SIZE}')\n",
    "print(f'EMBEDDING_SIZE = {EMBEDDING_SIZE}')"
   ]
  },
  {
   "cell_type": "markdown",
   "metadata": {},
   "source": [
    "У модели будет несколько слоев: "
   ]
  },
  {
   "cell_type": "markdown",
   "metadata": {},
   "source": [
    "## PyTorch"
   ]
  },
  {
   "cell_type": "code",
   "execution_count": 45,
   "metadata": {},
   "outputs": [],
   "source": [
    "import torch\n",
    "from torch import nn\n",
    "from torch.autograd import Variable\n",
    "from torch.optim import SGD\n",
    "import torch.nn.functional as F\n",
    "\n",
    "class CBOW(nn.Module):\n",
    "    def __init__(self, vocab_size, embedding_size, context_size):\n",
    "        super(CBOW, self).__init__()\n",
    "        self.vocab_size = vocab_size\n",
    "        self.embedding_size = embedding_size\n",
    "        self.context_size = context_size\n",
    "        self.embeddings = nn.Embedding(self.vocab_size, self.embedding_size)\n",
    "        # return vector size will be context_size*2*embedding_size\n",
    "        self.lin1 = nn.Linear(self.context_size * 2 * self.embedding_size, 512)\n",
    "        self.lin2 = nn.Linear(512, self.vocab_size)\n",
    "    \n",
    "    def forward(self, inp):\n",
    "        out = self.embeddings(inp).view(1, -1)\n",
    "        out = out.view(1, -1)\n",
    "        out = self.lin1(out)\n",
    "        out = F.relu(out)\n",
    "        out = self.lin2(out)\n",
    "        out = F.log_softmax(out, dim=1)\n",
    "        return out\n",
    "    \n",
    "    def get_word_vector(self, word_idx):\n",
    "        word = Variable(torch.LongTensor([word_idx]))\n",
    "        return self.embeddings(word).view(1, -1)\n",
    "\n",
    "\n",
    "def train_cbow(data, epochs, device, verbose=5):\n",
    "    cbow = CBOW(VOCAB_SIZE, EMBEDDING_SIZE, WINDOW_SIZE)\n",
    "    \n",
    "    nll_loss = nn.NLLLoss()  # loss function\n",
    "    optimizer = SGD(cbow.parameters(), lr=0.001)\n",
    "    \n",
    "    print(len(data))\n",
    "    \n",
    "    for epoch in range(epochs):\n",
    "        total_loss = 0\n",
    "        for context, target in data:            \n",
    "            inp_var = Variable(torch.LongTensor(context))\n",
    "            inp_var.to(device)\n",
    "            \n",
    "            target_var = Variable(torch.LongTensor([target]))\n",
    "            target_var.to(device)\n",
    "            \n",
    "            cbow.zero_grad()\n",
    "            log_prob = cbow(inp_var)\n",
    "            loss = nll_loss(log_prob, target_var)\n",
    "            loss.backward()\n",
    "            optimizer.step()\n",
    "            total_loss += loss.data\n",
    "        \n",
    "        if epoch % verbose == 0:\n",
    "            loss_avg = float(total_loss / len(data))\n",
    "            print(\"{}/{} loss {:.2f}\".format(epoch, epochs, loss_avg))\n",
    "    return cbow\n",
    "\n",
    "\n",
    "def test_cbow(cbow, unique_vocab, word_to_idx):\n",
    "    # test word similarity\n",
    "    word_1 = unique_vocab[2]\n",
    "    word_2 = unique_vocab[3]\n",
    "    \n",
    "    word_1_vec = cbow.get_word_vector(word_to_idx[word_1])\n",
    "    word_2_vec = cbow.get_word_vector(word_to_idx[word_2])\n",
    "    \n",
    "    word_similarity = (word_1_vec.dot(word_2_vec) / (torch.norm(word_1_vec) * torch.norm(word_2_vec))).data.numpy()[0]\n",
    "    print(\"Similarity between '{}' & '{}' : {:0.4f}\".format(word_1, word_2, word_similarity))"
   ]
  },
  {
   "cell_type": "code",
   "execution_count": 47,
   "metadata": {
    "scrolled": true
   },
   "outputs": [
    {
     "name": "stdout",
     "output_type": "stream",
     "text": [
      "cuda:0\n",
      "10000\n",
      "0/10 loss 6.99\n",
      "1/10 loss 6.55\n",
      "2/10 loss 6.29\n",
      "3/10 loss 6.09\n"
     ]
    },
    {
     "ename": "KeyboardInterrupt",
     "evalue": "",
     "output_type": "error",
     "traceback": [
      "\u001b[0;31m---------------------------------------------------------------------------\u001b[0m",
      "\u001b[0;31mKeyboardInterrupt\u001b[0m                         Traceback (most recent call last)",
      "\u001b[0;32m<ipython-input-47-89552d9c5172>\u001b[0m in \u001b[0;36m<module>\u001b[0;34m\u001b[0m\n\u001b[1;32m      8\u001b[0m \u001b[0;31m# Train model\u001b[0m\u001b[0;34m\u001b[0m\u001b[0;34m\u001b[0m\u001b[0;34m\u001b[0m\u001b[0m\n\u001b[1;32m      9\u001b[0m train_cbow(data=data[:10_000], epochs=10,\n\u001b[0;32m---> 10\u001b[0;31m            device=device, verbose=1)\n\u001b[0m",
      "\u001b[0;32m<ipython-input-45-f5abfb37a4ed>\u001b[0m in \u001b[0;36mtrain_cbow\u001b[0;34m(data, epochs, device, verbose)\u001b[0m\n\u001b[1;32m     42\u001b[0m         \u001b[0;32mfor\u001b[0m \u001b[0mcontext\u001b[0m\u001b[0;34m,\u001b[0m \u001b[0mtarget\u001b[0m \u001b[0;32min\u001b[0m \u001b[0mdata\u001b[0m\u001b[0;34m:\u001b[0m\u001b[0;34m\u001b[0m\u001b[0;34m\u001b[0m\u001b[0m\n\u001b[1;32m     43\u001b[0m             \u001b[0minp_var\u001b[0m \u001b[0;34m=\u001b[0m \u001b[0mVariable\u001b[0m\u001b[0;34m(\u001b[0m\u001b[0mtorch\u001b[0m\u001b[0;34m.\u001b[0m\u001b[0mLongTensor\u001b[0m\u001b[0;34m(\u001b[0m\u001b[0mcontext\u001b[0m\u001b[0;34m)\u001b[0m\u001b[0;34m)\u001b[0m\u001b[0;34m\u001b[0m\u001b[0;34m\u001b[0m\u001b[0m\n\u001b[0;32m---> 44\u001b[0;31m             \u001b[0minp_var\u001b[0m\u001b[0;34m.\u001b[0m\u001b[0mto\u001b[0m\u001b[0;34m(\u001b[0m\u001b[0mdevice\u001b[0m\u001b[0;34m)\u001b[0m\u001b[0;34m\u001b[0m\u001b[0;34m\u001b[0m\u001b[0m\n\u001b[0m\u001b[1;32m     45\u001b[0m \u001b[0;34m\u001b[0m\u001b[0m\n\u001b[1;32m     46\u001b[0m             \u001b[0mtarget_var\u001b[0m \u001b[0;34m=\u001b[0m \u001b[0mVariable\u001b[0m\u001b[0;34m(\u001b[0m\u001b[0mtorch\u001b[0m\u001b[0;34m.\u001b[0m\u001b[0mLongTensor\u001b[0m\u001b[0;34m(\u001b[0m\u001b[0;34m[\u001b[0m\u001b[0mtarget\u001b[0m\u001b[0;34m]\u001b[0m\u001b[0;34m)\u001b[0m\u001b[0;34m)\u001b[0m\u001b[0;34m\u001b[0m\u001b[0;34m\u001b[0m\u001b[0m\n",
      "\u001b[0;31mKeyboardInterrupt\u001b[0m: "
     ]
    }
   ],
   "source": [
    "# Pytorch check device\n",
    "device = torch.device(\"cuda:0\" if torch.cuda.is_available() else \"cpu\")\n",
    "print(device)\n",
    "\n",
    "# Prepare training data by connecting context with target\n",
    "data = list(zip(train_x, train_y))\n",
    "\n",
    "# Train model\n",
    "train_cbow(data=data[:10_000], epochs=10,\n",
    "           device=device, verbose=1)"
   ]
  },
  {
   "cell_type": "code",
   "execution_count": 50,
   "metadata": {},
   "outputs": [
    {
     "data": {
      "text/plain": [
       "torch.Size([2000, 128])"
      ]
     },
     "execution_count": 50,
     "metadata": {},
     "output_type": "execute_result"
    }
   ],
   "source": [
    "cbow.embeddings.weight.shape"
   ]
  },
  {
   "cell_type": "markdown",
   "metadata": {},
   "source": [
    "## TensorFlow"
   ]
  },
  {
   "cell_type": "code",
   "execution_count": 26,
   "metadata": {
    "ExecuteTime": {
     "end_time": "2020-06-23T00:44:57.451863Z",
     "start_time": "2020-06-23T00:44:57.284168Z"
    },
    "scrolled": true
   },
   "outputs": [
    {
     "name": "stdout",
     "output_type": "stream",
     "text": [
      "Model: \"model_1\"\n",
      "_________________________________________________________________\n",
      "Layer (type)                 Output Shape              Param #   \n",
      "=================================================================\n",
      "input (InputLayer)           [(None, 2)]               0         \n",
      "_________________________________________________________________\n",
      "embedding_1 (Embedding)      (None, 2, 128)            256000    \n",
      "_________________________________________________________________\n",
      "lambda_1 (Lambda)            (None, 2, 128)            0         \n",
      "_________________________________________________________________\n",
      "global_average_pooling1d_1 ( (None, 128)               0         \n",
      "_________________________________________________________________\n",
      "dense_1 (Dense)              (None, 2000)              258000    \n",
      "=================================================================\n",
      "Total params: 514,000\n",
      "Trainable params: 514,000\n",
      "Non-trainable params: 0\n",
      "_________________________________________________________________\n"
     ]
    }
   ],
   "source": [
    "input_layer = Input(shape=(WINDOW_SIZE * 2,), name='input')\n",
    "\n",
    "embedding = Embedding(input_dim=VOCAB_SIZE, output_dim=EMBEDDING_SIZE,\n",
    "                      input_length=WINDOW_SIZE * 2)(input_layer)\n",
    "embedding_norm = Lambda(lambda x: K.l2_normalize(x, axis=2))(embedding)\n",
    "embedding_avg = GlobalAveragePooling1D()(embedding_norm)\n",
    "\n",
    "softmax = Dense(VOCAB_SIZE, activation='softmax')(embedding_avg)\n",
    "\n",
    "model = Model(inputs=[input_layer], outputs=[softmax])\n",
    "model.summary()\n",
    "model.compile(loss='categorical_crossentropy', optimizer=Adam(), metrics=['accuracy'])"
   ]
  },
  {
   "cell_type": "code",
   "execution_count": 22,
   "metadata": {},
   "outputs": [],
   "source": [
    "model.load_weights('model_initial.hd5')"
   ]
  },
  {
   "cell_type": "markdown",
   "metadata": {},
   "source": [
    "**Training**\n",
    "\n",
    "При тренировке возможна MemoryError, для того, чтобы ее избежать требовалось разбивать тренировочные данные на куски и тренировать отдельно"
   ]
  },
  {
   "cell_type": "code",
   "execution_count": 27,
   "metadata": {
    "ExecuteTime": {
     "end_time": "2020-06-23T05:36:44.697773Z",
     "start_time": "2020-06-23T05:31:46.049146Z"
    },
    "scrolled": true
   },
   "outputs": [
    {
     "name": "stdout",
     "output_type": "stream",
     "text": [
      "Epoch 1/10\n",
      "11250/11250 [==============================] - 38s 3ms/step - loss: 6.2403 - accuracy: 0.1125 - val_loss: 5.3875 - val_accuracy: 0.1365\n",
      "\n",
      "Epoch 00001: saving model to training_3/cp.ckpt\n",
      "Epoch 2/10\n",
      "11250/11250 [==============================] - 36s 3ms/step - loss: 5.3169 - accuracy: 0.1337 - val_loss: 5.1665 - val_accuracy: 0.1420\n",
      "\n",
      "Epoch 00002: saving model to training_3/cp.ckpt\n",
      "Epoch 3/10\n",
      "11250/11250 [==============================] - 36s 3ms/step - loss: 5.1108 - accuracy: 0.1418 - val_loss: 5.0778 - val_accuracy: 0.1476\n",
      "\n",
      "Epoch 00003: saving model to training_3/cp.ckpt\n",
      "Epoch 4/10\n",
      "11250/11250 [==============================] - 36s 3ms/step - loss: 4.9986 - accuracy: 0.1504 - val_loss: 5.0228 - val_accuracy: 0.1544\n",
      "\n",
      "Epoch 00004: saving model to training_3/cp.ckpt\n",
      "Epoch 5/10\n",
      "11250/11250 [==============================] - 37s 3ms/step - loss: 4.9309 - accuracy: 0.1552 - val_loss: 4.9898 - val_accuracy: 0.1572\n",
      "\n",
      "Epoch 00005: saving model to training_3/cp.ckpt\n",
      "Epoch 6/10\n",
      "11250/11250 [==============================] - 37s 3ms/step - loss: 4.8742 - accuracy: 0.1591 - val_loss: 4.9706 - val_accuracy: 0.1576\n",
      "\n",
      "Epoch 00006: saving model to training_3/cp.ckpt\n",
      "Epoch 7/10\n",
      "11250/11250 [==============================] - 36s 3ms/step - loss: 4.8256 - accuracy: 0.1631 - val_loss: 4.9567 - val_accuracy: 0.1597\n",
      "\n",
      "Epoch 00007: saving model to training_3/cp.ckpt\n",
      "Epoch 8/10\n",
      "11250/11250 [==============================] - 37s 3ms/step - loss: 4.7896 - accuracy: 0.1651 - val_loss: 4.9453 - val_accuracy: 0.1615\n",
      "\n",
      "Epoch 00008: saving model to training_3/cp.ckpt\n",
      "Epoch 9/10\n",
      "11250/11250 [==============================] - 38s 3ms/step - loss: 4.7477 - accuracy: 0.1671 - val_loss: 4.9395 - val_accuracy: 0.1606\n",
      "\n",
      "Epoch 00009: saving model to training_3/cp.ckpt\n",
      "Epoch 10/10\n",
      "11250/11250 [==============================] - 36s 3ms/step - loss: 4.7133 - accuracy: 0.1694 - val_loss: 4.9361 - val_accuracy: 0.1614\n",
      "\n",
      "Epoch 00010: saving model to training_3/cp.ckpt\n"
     ]
    },
    {
     "data": {
      "text/plain": [
       "<tensorflow.python.keras.callbacks.History at 0x7f52ecec14a8>"
      ]
     },
     "execution_count": 27,
     "metadata": {},
     "output_type": "execute_result"
    }
   ],
   "source": [
    "checkpoint_path = \"training_3/cp.ckpt\"\n",
    "checkpoint_dir = os.path.dirname(checkpoint_path)\n",
    "\n",
    "cp_callback = ModelCheckpoint(filepath=checkpoint_path,\n",
    "                              save_weights_only=True,\n",
    "                              verbose=1)\n",
    "\n",
    "model.fit(np.array(train_x[100000:500000]), to_categorical(train_y[100000:500000], num_classes=VOCAB_SIZE),\n",
    "          validation_split=0.1, epochs=10, verbose=True,\n",
    "          callbacks=[EarlyStopping(monitor='val_loss', min_delta=0.001), cp_callback])"
   ]
  },
  {
   "cell_type": "code",
   "execution_count": 70,
   "metadata": {
    "ExecuteTime": {
     "end_time": "2020-06-23T06:38:58.204533Z",
     "start_time": "2020-06-23T06:38:58.027305Z"
    }
   },
   "outputs": [],
   "source": [
    "# model.save_weights('model_weights')\n",
    "# model.save('model_initial.hd5')"
   ]
  },
  {
   "cell_type": "markdown",
   "metadata": {},
   "source": [
    "<a id='model_interpretation'></a>"
   ]
  },
  {
   "cell_type": "markdown",
   "metadata": {},
   "source": [
    "## Model Interpretation\n",
    "После того, как модель обучилась мы можем интерпретировать ее результаты. То есть докапаемся до того самого слоя, в котором зашиты наши векторные представления артистов."
   ]
  },
  {
   "cell_type": "code",
   "execution_count": 37,
   "metadata": {
    "ExecuteTime": {
     "end_time": "2020-06-23T10:08:27.711374Z",
     "start_time": "2020-06-23T10:08:27.630350Z"
    }
   },
   "outputs": [
    {
     "name": "stdout",
     "output_type": "stream",
     "text": [
      "(9136, 4)\n"
     ]
    },
    {
     "data": {
      "text/html": [
       "<div>\n",
       "<style scoped>\n",
       "    .dataframe tbody tr th:only-of-type {\n",
       "        vertical-align: middle;\n",
       "    }\n",
       "\n",
       "    .dataframe tbody tr th {\n",
       "        vertical-align: top;\n",
       "    }\n",
       "\n",
       "    .dataframe thead th {\n",
       "        text-align: right;\n",
       "    }\n",
       "</style>\n",
       "<table border=\"1\" class=\"dataframe\">\n",
       "  <thead>\n",
       "    <tr style=\"text-align: right;\">\n",
       "      <th></th>\n",
       "      <th>artist_id</th>\n",
       "      <th>MBID</th>\n",
       "      <th>artist_name</th>\n",
       "      <th>encoded_artist_id</th>\n",
       "    </tr>\n",
       "  </thead>\n",
       "  <tbody>\n",
       "    <tr>\n",
       "      <th>99</th>\n",
       "      <td>109097</td>\n",
       "      <td>4279aba0-1bde-40a9-8fb2-c63d165dc554</td>\n",
       "      <td>Delerium</td>\n",
       "      <td>553</td>\n",
       "    </tr>\n",
       "    <tr>\n",
       "      <th>178</th>\n",
       "      <td>66552</td>\n",
       "      <td>NaN</td>\n",
       "      <td>Camille Saint-Saëns</td>\n",
       "      <td>378</td>\n",
       "    </tr>\n",
       "    <tr>\n",
       "      <th>260</th>\n",
       "      <td>396749</td>\n",
       "      <td>NaN</td>\n",
       "      <td>W &amp; Whale</td>\n",
       "      <td>1754</td>\n",
       "    </tr>\n",
       "    <tr>\n",
       "      <th>329</th>\n",
       "      <td>229444</td>\n",
       "      <td>NaN</td>\n",
       "      <td>M. Jackson &amp; Minnie Ripperton</td>\n",
       "      <td>1113</td>\n",
       "    </tr>\n",
       "    <tr>\n",
       "      <th>367</th>\n",
       "      <td>26802</td>\n",
       "      <td>NaN</td>\n",
       "      <td>Antonio Carlos Jobim &amp; Vinicius De Moraes</td>\n",
       "      <td>128</td>\n",
       "    </tr>\n",
       "  </tbody>\n",
       "</table>\n",
       "</div>"
      ],
      "text/plain": [
       "     artist_id                                  MBID  \\\n",
       "99      109097  4279aba0-1bde-40a9-8fb2-c63d165dc554   \n",
       "178      66552                                   NaN   \n",
       "260     396749                                   NaN   \n",
       "329     229444                                   NaN   \n",
       "367      26802                                   NaN   \n",
       "\n",
       "                                   artist_name  encoded_artist_id  \n",
       "99                                    Delerium                553  \n",
       "178                        Camille Saint-Saëns                378  \n",
       "260                                  W & Whale               1754  \n",
       "329              M. Jackson & Minnie Ripperton               1113  \n",
       "367  Antonio Carlos Jobim & Vinicius De Moraes                128  "
      ]
     },
     "execution_count": 37,
     "metadata": {},
     "output_type": "execute_result"
    }
   ],
   "source": [
    "persons_df = pd.read_csv('data/persons.csv', index_col=0)\n",
    "\n",
    "print(persons_df.shape)\n",
    "persons_df.head()"
   ]
  },
  {
   "cell_type": "code",
   "execution_count": 38,
   "metadata": {},
   "outputs": [
    {
     "data": {
      "text/plain": [
       "generator"
      ]
     },
     "execution_count": 38,
     "metadata": {},
     "output_type": "execute_result"
    }
   ],
   "source": [
    "type(persons_df.iterrows())"
   ]
  },
  {
   "cell_type": "code",
   "execution_count": 29,
   "metadata": {
    "ExecuteTime": {
     "end_time": "2020-06-23T10:08:27.975345Z",
     "start_time": "2020-06-23T10:08:27.882168Z"
    },
    "scrolled": true
   },
   "outputs": [
    {
     "data": {
      "text/plain": [
       "(2000, 128)"
      ]
     },
     "execution_count": 29,
     "metadata": {},
     "output_type": "execute_result"
    }
   ],
   "source": [
    "emb_weights = model.get_weights()[0]\n",
    "emb_weights.shape"
   ]
  },
  {
   "cell_type": "markdown",
   "metadata": {},
   "source": [
    "Для более наглядной визуализации я выбрал несколько артистов и нарисовал `heatmap`, где на пересечении двух значений цвет чем светлее - тем более похожи объекты, и наоборот."
   ]
  },
  {
   "cell_type": "code",
   "execution_count": 30,
   "metadata": {
    "ExecuteTime": {
     "end_time": "2020-06-23T10:34:30.671935Z",
     "start_time": "2020-06-23T10:34:30.619650Z"
    }
   },
   "outputs": [],
   "source": [
    "artists = [[37589], [91265], [440070], [76474],\n",
    "           [46787], [55251], [260323], [89928]]\n",
    "artists_names = [get_artist_name(artist[0], persons_df) for artist in artists]\n",
    "artists_encoded = list(map(old_to_new_artist, artists))"
   ]
  },
  {
   "cell_type": "markdown",
   "metadata": {},
   "source": [
    "Отнормируем векторы, чтобы можно было сравнивать схожесть векторов перемножая их.\n",
    "\n",
    "Если нормировка прошла успешно, то произведение вектора на самого себя должно давать 1, что значит, что он похож сам на себя."
   ]
  },
  {
   "cell_type": "code",
   "execution_count": 31,
   "metadata": {
    "ExecuteTime": {
     "end_time": "2020-06-23T10:34:31.054060Z",
     "start_time": "2020-06-23T10:34:31.038963Z"
    },
    "scrolled": false
   },
   "outputs": [
    {
     "name": "stdout",
     "output_type": "stream",
     "text": [
      "(8, 128)\n",
      "[1.0, 0.99999994, 1.0, 1.0, 0.99999994, 0.9999999, 0.9999998, 1.0]\n"
     ]
    }
   ],
   "source": [
    "artists_embedded = emb_weights[artists_encoded, :][:, 0, :]\n",
    "artists_embedded = [x / np.linalg.norm(x) for x in artists_embedded]\n",
    "\n",
    "print(np.shape(artists_embedded))\n",
    "print([np.sum(a ** 2) for a in artists_embedded])"
   ]
  },
  {
   "cell_type": "code",
   "execution_count": 33,
   "metadata": {
    "ExecuteTime": {
     "end_time": "2020-06-23T11:01:25.489972Z",
     "start_time": "2020-06-23T11:01:24.658642Z"
    },
    "scrolled": false
   },
   "outputs": [
    {
     "data": {
      "image/png": "[encoded data removed]",
      "text/plain": [
       "<Figure size 1008x720 with 2 Axes>"
      ]
     },
     "metadata": {
      "needs_background": "light"
     },
     "output_type": "display_data"
    }
   ],
   "source": [
    "plt.figure(figsize=(14, 10))\n",
    "sns.heatmap(np.dot(artists_embedded, np.transpose(artists_embedded, [1, 0])),\n",
    "            xticklabels=artists_names,\n",
    "            yticklabels=artists_names,\n",
    "            square=True,\n",
    "            annot=True\n",
    "           )\n",
    "plt.title('Схожесть авторов')\n",
    "plt.savefig('artists_heatmap.png')\n",
    "plt.show()"
   ]
  },
  {
   "cell_type": "markdown",
   "metadata": {},
   "source": [
    "<a id='indexing'></a>"
   ]
  },
  {
   "cell_type": "markdown",
   "metadata": {},
   "source": [
    "## Indexing\n",
    "Создадим поисковый индекс, который будет выдавать ближайшие вектора к данному"
   ]
  },
  {
   "cell_type": "code",
   "execution_count": 34,
   "metadata": {
    "ExecuteTime": {
     "end_time": "2020-06-23T10:34:39.537858Z",
     "start_time": "2020-06-23T10:34:39.531500Z"
    }
   },
   "outputs": [],
   "source": [
    "index = faiss.IndexFlatL2(EMBEDDING_SIZE)\n",
    "index.add(emb_weights)"
   ]
  },
  {
   "cell_type": "code",
   "execution_count": 1,
   "metadata": {},
   "outputs": [
    {
     "data": {
      "text/plain": [
       "'1.6.5'"
      ]
     },
     "execution_count": 1,
     "metadata": {},
     "output_type": "execute_result"
    }
   ],
   "source": [
    "import faiss\n",
    "faiss.__version__"
   ]
  },
  {
   "cell_type": "markdown",
   "metadata": {},
   "source": [
    "<a id='recommendation'></a>"
   ]
  },
  {
   "cell_type": "markdown",
   "metadata": {},
   "source": [
    "## Recommendation\n",
    "\n",
    "Посмотрим какие рекомендации мы получим для таких исполнителей как: `Ария`, `One Direction`, `J.S. Bach`"
   ]
  },
  {
   "cell_type": "code",
   "execution_count": 35,
   "metadata": {
    "ExecuteTime": {
     "end_time": "2020-06-23T10:40:13.616782Z",
     "start_time": "2020-06-23T10:40:13.612807Z"
    }
   },
   "outputs": [],
   "source": [
    "def get_recommendations(artist, num=20):\n",
    "    artist = old_to_new_artist([artist])\n",
    "\n",
    "    recommends = []\n",
    "    D, I = index.search(emb_weights[artist, :], num+1)\n",
    "    for idx in artist_encoder.inverse_transform(I[0])[1:]:\n",
    "        recommends.append(get_artist_name(idx, persons_df))\n",
    "    \n",
    "    return recommends"
   ]
  },
  {
   "cell_type": "markdown",
   "metadata": {},
   "source": [
    "**Ария**"
   ]
  },
  {
   "cell_type": "code",
   "execution_count": 36,
   "metadata": {
    "ExecuteTime": {
     "end_time": "2020-06-23T10:40:14.593172Z",
     "start_time": "2020-06-23T10:40:14.563708Z"
    }
   },
   "outputs": [
    {
     "name": "stdout",
     "output_type": "stream",
     "text": [
      "Ария 89928\n",
      "Ария 89928\n",
      "Ария 89928\n",
      "[89928]\n"
     ]
    }
   ],
   "source": [
    "artist = find_artist('Ария', persons_df)\n",
    "print(artist)"
   ]
  },
  {
   "cell_type": "code",
   "execution_count": 273,
   "metadata": {
    "ExecuteTime": {
     "end_time": "2020-06-23T10:40:15.009093Z",
     "start_time": "2020-06-23T10:40:14.953355Z"
    },
    "scrolled": false
   },
   "outputs": [
    {
     "name": "stdout",
     "output_type": "stream",
     "text": [
      "Алиса\n",
      "Гражданская Оборона\n",
      "Владимир Высоцкий\n",
      "Би-2\n",
      "Аквариум  & Дживан Гаспарян\n",
      "DDT\n",
      "Алла Пугачева & София Ротару\n",
      "5'nizza\n",
      "Агата Кристи\n",
      "Cause For Effect\n",
      "Баста\n",
      "Пранкота\n",
      "Король и шут\n",
      "Земфира & Billy's band & Esthetic Education\n",
      "Blackmores Night\n",
      "Кино\n",
      "Bathory\n",
      "Manowar\n",
      "Дельфин (Dolphin)\n",
      "Элизиум\n"
     ]
    }
   ],
   "source": [
    "print(*get_recommendations(89928) ,sep='\\n')"
   ]
  },
  {
   "cell_type": "markdown",
   "metadata": {},
   "source": [
    "Видим исполнителей, чьи названия написаны на русском и знакомы нам, это хороший знак того, что векторы относительно языков собраны нормально и отделяются."
   ]
  },
  {
   "cell_type": "markdown",
   "metadata": {},
   "source": [
    "**One Direction**"
   ]
  },
  {
   "cell_type": "code",
   "execution_count": 262,
   "metadata": {
    "ExecuteTime": {
     "end_time": "2020-06-23T10:37:09.464671Z",
     "start_time": "2020-06-23T10:37:09.438707Z"
    }
   },
   "outputs": [
    {
     "name": "stdout",
     "output_type": "stream",
     "text": [
      "Hardwell & Joey Dale 427612\n",
      "One Direction 260323\n",
      "[260323, 427612]\n"
     ]
    }
   ],
   "source": [
    "artist = find_artist('Direction', persons_df)\n",
    "print(artist)"
   ]
  },
  {
   "cell_type": "code",
   "execution_count": 274,
   "metadata": {
    "ExecuteTime": {
     "end_time": "2020-06-23T10:40:43.517340Z",
     "start_time": "2020-06-23T10:40:43.461046Z"
    },
    "scrolled": true
   },
   "outputs": [
    {
     "name": "stdout",
     "output_type": "stream",
     "text": [
      "Fall Out Boy\n",
      "Imagine Dragons & Fall Out Boy\n",
      "OneRepublic & Alesso\n",
      "Paramore\n",
      "Jason Derulo\n",
      "Iggy Azalea feat. Rita Ora\n",
      "Glee Cast\n",
      "The Cranberries\n",
      "Simple Plan\n",
      "Passenger Official\n",
      "Backstreet Boys\n",
      "Twit\n",
      "Wale\n",
      "Michael W. Smith\n",
      "Christina Aguilera feat. CeeLo Green\n",
      "The Economist\n",
      "Tiësto & Firebeatz feat. Ladyhawke\n",
      "TBS RADIO 954kHz\n",
      "Boyce Avenue & Tiffany Alvord acoustic cover\n",
      "Catherine Coulter\n"
     ]
    }
   ],
   "source": [
    "print(*get_recommendations(260323) ,sep='\\n')"
   ]
  },
  {
   "cell_type": "markdown",
   "metadata": {},
   "source": [
    "Топ-15 артистов я когда-либо слышал, что тоже хорошо и стиль у этих артистов похожий"
   ]
  },
  {
   "cell_type": "markdown",
   "metadata": {},
   "source": [
    "**J.S. Bach**"
   ]
  },
  {
   "cell_type": "code",
   "execution_count": 275,
   "metadata": {
    "ExecuteTime": {
     "end_time": "2020-06-23T10:41:22.790266Z",
     "start_time": "2020-06-23T10:41:22.743677Z"
    },
    "scrolled": false
   },
   "outputs": [
    {
     "name": "stdout",
     "output_type": "stream",
     "text": [
      "J.S. Bach 37589\n",
      "J.S. Bach 37589\n",
      "J.S. Bach 37589\n",
      "Medeski Martin and Wood 225577\n",
      "Luciano Pavarotti & Sting 208250\n",
      "J.S. Bach 37589\n",
      "Neil Young 248009\n",
      "J.S. Bach 37589\n",
      "エルヴィス・コステロ & ザ・ルーツ 124041\n",
      "J.S. Bach 37589\n",
      "Dionne Warwick 114529\n",
      "J.S. Bach 37589\n",
      "J.S. Bach 37589\n",
      "[114529, 124041, 225577, 248009, 37589, 208250]\n"
     ]
    }
   ],
   "source": [
    "artist = find_artist('Bach', persons_df)\n",
    "print(artist)"
   ]
  },
  {
   "cell_type": "code",
   "execution_count": 276,
   "metadata": {
    "ExecuteTime": {
     "end_time": "2020-06-23T10:41:40.667698Z",
     "start_time": "2020-06-23T10:41:40.616983Z"
    },
    "scrolled": true
   },
   "outputs": [
    {
     "name": "stdout",
     "output_type": "stream",
     "text": [
      "Nikolaus Harnoncourt & Zürich Opera Orchestra\n",
      "Gabriel Fauré & Oxford Camerata\n",
      "Giacomo Puccini\n",
      "Maria Callas\n",
      "Jordi Savall & Hespèrion XX\n",
      "Giuseppe Verdi\n",
      "Georg Philipp Telemann\n",
      "Chopin (Angela Hewitt)\n",
      "Sviatoslav Richter & Wiener Symphoniker & Herbert von Karajan\n",
      "Vladimir Horowitz & Sergei Rachmaninoff\n",
      "Frederic Chopin & André Laplante\n",
      "Michael Nyman\n",
      "Luigi Boccherini\n",
      "Vladimir Ashkenazy [Piano]\n",
      "TKKG\n",
      "Dmitri Shostakovich\n",
      "Catherine Coulter\n",
      "Amanda Quick\n",
      "MarthaDebayle\n",
      "TBS RADIO 954kHz\n"
     ]
    }
   ],
   "source": [
    "print(*get_recommendations(37589) ,sep='\\n')"
   ]
  },
  {
   "cell_type": "markdown",
   "metadata": {},
   "source": [
    "В классической музыке я не разбираюсь, но Рахманинов, Шостакович и Шопен их этой сферы тоже на слуху у многих."
   ]
  },
  {
   "cell_type": "markdown",
   "metadata": {},
   "source": [
    "<a id='metric_eval'></a>"
   ]
  },
  {
   "cell_type": "markdown",
   "metadata": {},
   "source": [
    "## Metric evaluation"
   ]
  },
  {
   "cell_type": "code",
   "execution_count": 192,
   "metadata": {
    "ExecuteTime": {
     "end_time": "2020-06-23T09:24:11.314089Z",
     "start_time": "2020-06-23T09:23:13.122457Z"
    },
    "scrolled": true
   },
   "outputs": [
    {
     "data": {
      "application/vnd.jupyter.widget-view+json": {
       "model_id": "20ba88e81bf44e4e84cd296e2d07033b",
       "version_major": 2,
       "version_minor": 0
      },
      "text/plain": [
       "HBox(children=(IntProgress(value=0, max=57561), HTML(value='')))"
      ]
     },
     "metadata": {},
     "output_type": "display_data"
    },
    {
     "name": "stdout",
     "output_type": "stream",
     "text": [
      "\n",
      "0.016399993050851193\n"
     ]
    }
   ],
   "source": [
    "summ = 0\n",
    "\n",
    "for playlist in tqdm_notebook(playlists_df['new_artists_ids']):\n",
    "    playlist = list(set(playlist))\n",
    "    summ += metric(playlist, index, emb_weights, k=5)\n",
    "\n",
    "print(summ / len(playlists_df))"
   ]
  },
  {
   "cell_type": "markdown",
   "metadata": {},
   "source": [
    "<a id='conclusion'></a>"
   ]
  },
  {
   "cell_type": "markdown",
   "metadata": {},
   "source": [
    "## Conclusion\n",
    "\n",
    "Подводя итоги можно сказать, что метод построеня векторного представления артистов, основанный на CBOW/skip-gram методах показал себя довольно хорошо, даже визуально очевидно качество такого представления.\n",
    "\n",
    "У модели есть потенциал для обучения, есть еще несколько методов генерации тренировочных данных для такого рода природы данных.\n",
    "\n",
    "Также не были использованы данные из фацлов с тегами, действиями и пользователями. Их тоже можно добавить для повышения качества модели.\n"
   ]
  }
 ],
 "metadata": {
  "kernelspec": {
   "display_name": "Python 3",
   "language": "python",
   "name": "python3"
  },
  "language_info": {
   "codemirror_mode": {
    "name": "ipython",
    "version": 3
   },
   "file_extension": ".py",
   "mimetype": "text/x-python",
   "name": "python",
   "nbconvert_exporter": "python",
   "pygments_lexer": "ipython3",
   "version": "3.6.12"
  }
 },
 "nbformat": 4,
 "nbformat_minor": 2
}
