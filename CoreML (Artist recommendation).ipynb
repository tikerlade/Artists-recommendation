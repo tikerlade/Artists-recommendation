{
 "cells": [
  {
   "cell_type": "markdown",
   "metadata": {},
   "source": [
    "# CoreML (Artist recommendation)\n",
    "\n",
    "### Table of contents\n",
    "\n",
    "- <a href='#setup'>Setup</a>\n",
    "- <a href='#metric'>Metric</a>\n",
    "- <a href='#preprocessing'>Data Preprocessing</a>\n",
    "- <a href='#training_data'>Training Data Generating</a>\n",
    "- <a href='#model'>Model (initialization & train)</a>\n",
    "- <a href='#model_interpretation'>Model Interpretation</a>\n",
    "- <a href='#indexing'>Indexing</a>\n",
    "- <a href='#recommendation'>Recommendation</a>\n",
    "- <a href='#metric_eval'>Metric Evaluation</a>\n",
    "- <a href='#conclusion'>Conclusion</a>\n",
    "\n",
    "### Задача\n",
    "Передо мной была поставлена задача научиться искать похожих музыкальных исполнителей. В терминах машинного обучения это означает, что для каждого исполнителя нужно построить векторное представление таким образом, чтобы похожие исполнители оказались близко в векторном пространстве, тогда задача поиска похожих исполнителей сведётся к задаче поиска ближайших соседей.\n",
    "\n",
    "Оценивать качество полученных векторных представлений будем на задаче *Artist Recommendation* — рекомендация исполнителя для пользователя.\n",
    "\n",
    "\n",
    "### Как решалось ?\n",
    "\n",
    "#### Метрика\n",
    "В качестве метрики будем использовать следующее. Разобьем сессию треков на две части: первую, по котрой будем предсказывать новых авторов и вторую, по которой будем сверять количество совпавших авторов. Результатом будем считать число: $\\frac{количество-совпавших-авторов}{количество-рекомендованных-авторов}$. Эту метрику можно считать accuracy-подобной.\n",
    "\n",
    "При такой оценке метрики мы немного отходим от задачи рекомендации исполнителя для пользователя, и рекомендуем исполнителя для плейлиста, однако у пользователей можно собирать их плейлисты и на их основе выдавать рекомендации. Но для оценки качества было решено, что проще работать с плейлистами, а не с пользователями.\n",
    "\n",
    "\n",
    "#### Методы\n",
    "\n",
    "Главным способом построения векторных представлений для артистов будем использовать **CBOW/skip-gram**. То есть будем по контексту авторов угадывать еще одного автора. При решении такой задачи нейронная сеть будет иметь внутри себя таблицу весов, которая по своей сути и будет давать нам векторные представления для артистов.\n",
    "\n",
    "Векторы являются 128-размерными.\n",
    "\n",
    "#### Обучение\n",
    "\n",
    "Для обучения были взяты сессии прослушиваний, у которых количество прослушанных композиций не меньше 4. После чего разбиты на тренировочные данные, оставив только тех авторов, кто входил в топ-2000 самых публикующих (наибольшее количество треков). Это позволяет оставить в датасете треков наибольшее количество примеров и при этом задать словарь для модели из 2000 элементов, что хорошо при использовании малого количества оперативной памяти.\n",
    "\n",
    "#### Качество методов\n",
    "\n",
    "Качество векторного представления было оценено как визуально, так и измерив метрику, которая дала резльтат в *0.016*. Замер метрики производился на данных из датасета `playlists`, который модель прежде не видела.\n"
   ]
  },
  {
   "cell_type": "markdown",
   "metadata": {},
   "source": [
    "<a id='setup'></a>"
   ]
  },
  {
   "cell_type": "markdown",
   "metadata": {},
   "source": [
    "## Setup\n",
    "В `Setup.ipynb` содержатся различные import'ы, которые захламляют основной файл, поэтому они вынесены. Также там содержатся полезные функции, которые делают разработку внутри данного файла более удобной и быстрой."
   ]
  },
  {
   "cell_type": "code",
   "execution_count": 83,
   "metadata": {
    "ExecuteTime": {
     "end_time": "2020-06-23T08:32:08.207097Z",
     "start_time": "2020-06-23T08:32:08.190082Z"
    },
    "scrolled": false
   },
   "outputs": [
    {
     "name": "stdout",
     "output_type": "stream",
     "text": [
      "Imports done!\n"
     ]
    }
   ],
   "source": [
    "run Setup.ipynb"
   ]
  },
  {
   "cell_type": "markdown",
   "metadata": {},
   "source": [
    "<a id='metric'></a>"
   ]
  },
  {
   "cell_type": "markdown",
   "metadata": {},
   "source": [
    "## Metric\n",
    "\n",
    "Запишем функцию, которая будет вычислять качество наших рекомендаций, т.е. метрику"
   ]
  },
  {
   "cell_type": "code",
   "execution_count": 191,
   "metadata": {
    "ExecuteTime": {
     "end_time": "2020-06-23T09:23:03.906222Z",
     "start_time": "2020-06-23T09:23:03.900409Z"
    }
   },
   "outputs": [],
   "source": [
    "def metric(playlist, index, embeddings, k=5):\n",
    "    try:\n",
    "        train_artists, test_artists = train_test_split(playlist, train_size=0.4)\n",
    "\n",
    "        suggested = np.array([])\n",
    "        for artist in train_artists:\n",
    "            D, I = index.search(embeddings[[artist], :], k+1)\n",
    "            ids = I[0][1:]\n",
    "\n",
    "            suggested = np.concatenate([suggested, ids])\n",
    "        suggested = list(map(lambda x: x[0], Counter(suggested).most_common(k)))\n",
    "        summ = sum([int(s) in test_artists for s in suggested])\n",
    "\n",
    "        return summ / k or 0\n",
    "    \n",
    "    except ValueError:\n",
    "        return 0"
   ]
  },
  {
   "cell_type": "markdown",
   "metadata": {},
   "source": [
    "<a id='preprocessing'></a>"
   ]
  },
  {
   "cell_type": "markdown",
   "metadata": {},
   "source": [
    "## Data Preprocessing\n",
    "\n",
    "Вся предварительная обработка данных ведется в файле `Preprocessing.ipynb`. На данный момент данные предобработаны, но при наличие новых идей по обработке данных, а также при отсутствии исходных данных следует запустить следующий код:\n",
    "\n",
    "`run Preprocessing.ipynb`"
   ]
  },
  {
   "cell_type": "code",
   "execution_count": 3,
   "metadata": {
    "ExecuteTime": {
     "end_time": "2020-06-23T07:23:11.713768Z",
     "start_time": "2020-06-23T07:23:10.603329Z"
    }
   },
   "outputs": [],
   "source": [
    "with open('data/track_to_artist.pickle', 'rb') as f:\n",
    "    track_to_artist = pickle.load(f)"
   ]
  },
  {
   "cell_type": "code",
   "execution_count": 4,
   "metadata": {
    "ExecuteTime": {
     "end_time": "2020-06-23T07:23:11.879481Z",
     "start_time": "2020-06-23T07:23:11.843105Z"
    }
   },
   "outputs": [
    {
     "data": {
      "text/html": [
       "<div>\n",
       "<style scoped>\n",
       "    .dataframe tbody tr th:only-of-type {\n",
       "        vertical-align: middle;\n",
       "    }\n",
       "\n",
       "    .dataframe tbody tr th {\n",
       "        vertical-align: top;\n",
       "    }\n",
       "\n",
       "    .dataframe thead th {\n",
       "        text-align: right;\n",
       "    }\n",
       "</style>\n",
       "<table border=\"1\" class=\"dataframe\">\n",
       "  <thead>\n",
       "    <tr style=\"text-align: right;\">\n",
       "      <th></th>\n",
       "      <th>artist_id</th>\n",
       "      <th>MBID</th>\n",
       "      <th>artist_name</th>\n",
       "    </tr>\n",
       "  </thead>\n",
       "  <tbody>\n",
       "    <tr>\n",
       "      <th>99</th>\n",
       "      <td>109097</td>\n",
       "      <td>4279aba0-1bde-40a9-8fb2-c63d165dc554</td>\n",
       "      <td>Delerium</td>\n",
       "    </tr>\n",
       "    <tr>\n",
       "      <th>178</th>\n",
       "      <td>66552</td>\n",
       "      <td>NaN</td>\n",
       "      <td>Camille+Saint-Saëns</td>\n",
       "    </tr>\n",
       "    <tr>\n",
       "      <th>260</th>\n",
       "      <td>396749</td>\n",
       "      <td>NaN</td>\n",
       "      <td>W+&amp;+Whale</td>\n",
       "    </tr>\n",
       "    <tr>\n",
       "      <th>329</th>\n",
       "      <td>229444</td>\n",
       "      <td>NaN</td>\n",
       "      <td>M.+Jackson+&amp;+Minnie+Ripperton</td>\n",
       "    </tr>\n",
       "    <tr>\n",
       "      <th>367</th>\n",
       "      <td>26802</td>\n",
       "      <td>NaN</td>\n",
       "      <td>Antonio+Carlos+Jobim+&amp;+Vinicius+De+Moraes</td>\n",
       "    </tr>\n",
       "  </tbody>\n",
       "</table>\n",
       "</div>"
      ],
      "text/plain": [
       "     artist_id                                  MBID  \\\n",
       "99      109097  4279aba0-1bde-40a9-8fb2-c63d165dc554   \n",
       "178      66552                                   NaN   \n",
       "260     396749                                   NaN   \n",
       "329     229444                                   NaN   \n",
       "367      26802                                   NaN   \n",
       "\n",
       "                                   artist_name  \n",
       "99                                    Delerium  \n",
       "178                        Camille+Saint-Saëns  \n",
       "260                                  W+&+Whale  \n",
       "329              M.+Jackson+&+Minnie+Ripperton  \n",
       "367  Antonio+Carlos+Jobim+&+Vinicius+De+Moraes  "
      ]
     },
     "execution_count": 4,
     "metadata": {},
     "output_type": "execute_result"
    }
   ],
   "source": [
    "persons_df = pd.read_csv('data/persons.csv', index_col=0)\n",
    "\n",
    "persons_df.head()"
   ]
  },
  {
   "cell_type": "code",
   "execution_count": 5,
   "metadata": {
    "ExecuteTime": {
     "end_time": "2020-06-23T07:23:13.111717Z",
     "start_time": "2020-06-23T07:23:12.228843Z"
    },
    "scrolled": true
   },
   "outputs": [
    {
     "data": {
      "text/html": [
       "<div>\n",
       "<style scoped>\n",
       "    .dataframe tbody tr th:only-of-type {\n",
       "        vertical-align: middle;\n",
       "    }\n",
       "\n",
       "    .dataframe tbody tr th {\n",
       "        vertical-align: top;\n",
       "    }\n",
       "\n",
       "    .dataframe thead th {\n",
       "        text-align: right;\n",
       "    }\n",
       "</style>\n",
       "<table border=\"1\" class=\"dataframe\">\n",
       "  <thead>\n",
       "    <tr style=\"text-align: right;\">\n",
       "      <th></th>\n",
       "      <th>track_id</th>\n",
       "      <th>playcount</th>\n",
       "      <th>MBID</th>\n",
       "      <th>artist</th>\n",
       "    </tr>\n",
       "  </thead>\n",
       "  <tbody>\n",
       "    <tr>\n",
       "      <th>4</th>\n",
       "      <td>2247780</td>\n",
       "      <td>35.0</td>\n",
       "      <td>3b3faa59-e657-4127-b886-d344d0655b67</td>\n",
       "      <td>31464</td>\n",
       "    </tr>\n",
       "    <tr>\n",
       "      <th>7</th>\n",
       "      <td>1611689</td>\n",
       "      <td>124.0</td>\n",
       "      <td>70f2a497-98f3-468d-a749-1d761161338b</td>\n",
       "      <td>202442</td>\n",
       "    </tr>\n",
       "    <tr>\n",
       "      <th>13</th>\n",
       "      <td>1231115</td>\n",
       "      <td>304.0</td>\n",
       "      <td>NaN</td>\n",
       "      <td>48929</td>\n",
       "    </tr>\n",
       "    <tr>\n",
       "      <th>17</th>\n",
       "      <td>3583293</td>\n",
       "      <td>139.0</td>\n",
       "      <td>NaN</td>\n",
       "      <td>447579</td>\n",
       "    </tr>\n",
       "    <tr>\n",
       "      <th>20</th>\n",
       "      <td>4933896</td>\n",
       "      <td>0.0</td>\n",
       "      <td>NaN</td>\n",
       "      <td>175645</td>\n",
       "    </tr>\n",
       "  </tbody>\n",
       "</table>\n",
       "</div>"
      ],
      "text/plain": [
       "    track_id  playcount                                  MBID  artist\n",
       "4    2247780       35.0  3b3faa59-e657-4127-b886-d344d0655b67   31464\n",
       "7    1611689      124.0  70f2a497-98f3-468d-a749-1d761161338b  202442\n",
       "13   1231115      304.0                                   NaN   48929\n",
       "17   3583293      139.0                                   NaN  447579\n",
       "20   4933896        0.0                                   NaN  175645"
      ]
     },
     "execution_count": 5,
     "metadata": {},
     "output_type": "execute_result"
    }
   ],
   "source": [
    "tracks_df = pd.read_csv('data/tracks.csv', index_col=0)\n",
    "\n",
    "tracks_df.head()"
   ]
  },
  {
   "cell_type": "code",
   "execution_count": 6,
   "metadata": {
    "ExecuteTime": {
     "end_time": "2020-06-23T07:24:16.080139Z",
     "start_time": "2020-06-23T07:23:13.114336Z"
    },
    "scrolled": false
   },
   "outputs": [
    {
     "data": {
      "text/html": [
       "<div>\n",
       "<style scoped>\n",
       "    .dataframe tbody tr th:only-of-type {\n",
       "        vertical-align: middle;\n",
       "    }\n",
       "\n",
       "    .dataframe tbody tr th {\n",
       "        vertical-align: top;\n",
       "    }\n",
       "\n",
       "    .dataframe thead th {\n",
       "        text-align: right;\n",
       "    }\n",
       "</style>\n",
       "<table border=\"1\" class=\"dataframe\">\n",
       "  <thead>\n",
       "    <tr style=\"text-align: right;\">\n",
       "      <th></th>\n",
       "      <th>tracks_ids</th>\n",
       "      <th>play_ratios</th>\n",
       "      <th>artists_ids</th>\n",
       "      <th>user</th>\n",
       "      <th>numtracks</th>\n",
       "      <th>playtime</th>\n",
       "    </tr>\n",
       "  </thead>\n",
       "  <tbody>\n",
       "    <tr>\n",
       "      <th>2276205</th>\n",
       "      <td>[440094, 440870, 440094, 1175085, 234832, 1569...</td>\n",
       "      <td>[0.25, 0.31, 0.24, 0.66, 1.02, 1.0, 0.24, 1.02...</td>\n",
       "      <td>[53169, 53169, 53169, 149679, 29575, 197007, 1...</td>\n",
       "      <td>34397.0</td>\n",
       "      <td>29.0</td>\n",
       "      <td>5801.0</td>\n",
       "    </tr>\n",
       "    <tr>\n",
       "      <th>271697</th>\n",
       "      <td>[4472052, 4472053, 4472054, 4472055, 4472056, ...</td>\n",
       "      <td>[1.0, 1.0, 1.0, 1.0, 1.0, 1.0, 1.0]</td>\n",
       "      <td>[32845, 516728, 516673, 464651, 183272, 516727...</td>\n",
       "      <td>42258.0</td>\n",
       "      <td>7.0</td>\n",
       "      <td>1174.0</td>\n",
       "    </tr>\n",
       "    <tr>\n",
       "      <th>1535535</th>\n",
       "      <td>[88747, 1654424, 280988, 3352710, 1539952, 237...</td>\n",
       "      <td>[0.69, 1.01, 1.01, 1.07, 1.01, 1.0, 1.03, 1.0,...</td>\n",
       "      <td>[12141, 208145, 34930, 416320, 192908, 296331,...</td>\n",
       "      <td>44236.0</td>\n",
       "      <td>22.0</td>\n",
       "      <td>4415.0</td>\n",
       "    </tr>\n",
       "    <tr>\n",
       "      <th>953127</th>\n",
       "      <td>[2572652, 2572654, 2572653, 2572657, 2572656]</td>\n",
       "      <td>[0.76, 0.99, 1.38, 1.28, 1.0]</td>\n",
       "      <td>[322745, 322745, 322745, 322745, 322745]</td>\n",
       "      <td>29514.0</td>\n",
       "      <td>5.0</td>\n",
       "      <td>1578.0</td>\n",
       "    </tr>\n",
       "    <tr>\n",
       "      <th>2380101</th>\n",
       "      <td>[2035490, 3035337, 3590890, 3300329, 3739026, ...</td>\n",
       "      <td>[1.0, 1.0, 1.0, 1.24, 1.0, 1.12, 0.67, 1.0, 1....</td>\n",
       "      <td>[254745, 374349, 448656, 408323, 447098, 11461...</td>\n",
       "      <td>20401.0</td>\n",
       "      <td>14.0</td>\n",
       "      <td>3580.0</td>\n",
       "    </tr>\n",
       "  </tbody>\n",
       "</table>\n",
       "</div>"
      ],
      "text/plain": [
       "                                                tracks_ids  \\\n",
       "2276205  [440094, 440870, 440094, 1175085, 234832, 1569...   \n",
       "271697   [4472052, 4472053, 4472054, 4472055, 4472056, ...   \n",
       "1535535  [88747, 1654424, 280988, 3352710, 1539952, 237...   \n",
       "953127       [2572652, 2572654, 2572653, 2572657, 2572656]   \n",
       "2380101  [2035490, 3035337, 3590890, 3300329, 3739026, ...   \n",
       "\n",
       "                                               play_ratios  \\\n",
       "2276205  [0.25, 0.31, 0.24, 0.66, 1.02, 1.0, 0.24, 1.02...   \n",
       "271697                 [1.0, 1.0, 1.0, 1.0, 1.0, 1.0, 1.0]   \n",
       "1535535  [0.69, 1.01, 1.01, 1.07, 1.01, 1.0, 1.03, 1.0,...   \n",
       "953127                       [0.76, 0.99, 1.38, 1.28, 1.0]   \n",
       "2380101  [1.0, 1.0, 1.0, 1.24, 1.0, 1.12, 0.67, 1.0, 1....   \n",
       "\n",
       "                                               artists_ids     user  \\\n",
       "2276205  [53169, 53169, 53169, 149679, 29575, 197007, 1...  34397.0   \n",
       "271697   [32845, 516728, 516673, 464651, 183272, 516727...  42258.0   \n",
       "1535535  [12141, 208145, 34930, 416320, 192908, 296331,...  44236.0   \n",
       "953127            [322745, 322745, 322745, 322745, 322745]  29514.0   \n",
       "2380101  [254745, 374349, 448656, 408323, 447098, 11461...  20401.0   \n",
       "\n",
       "         numtracks  playtime  \n",
       "2276205       29.0    5801.0  \n",
       "271697         7.0    1174.0  \n",
       "1535535       22.0    4415.0  \n",
       "953127         5.0    1578.0  \n",
       "2380101       14.0    3580.0  "
      ]
     },
     "execution_count": 6,
     "metadata": {},
     "output_type": "execute_result"
    }
   ],
   "source": [
    "sessions_df = pd.read_csv('data/sessions.csv', index_col=0)\n",
    "sessions_df = sessions_df.sample(frac=1.0)\n",
    "for column in sessions_df.columns[:3]:\n",
    "    sessions_df[column] = sessions_df[column].apply(json.loads)\n",
    "    \n",
    "sessions_df.head()"
   ]
  },
  {
   "cell_type": "code",
   "execution_count": 72,
   "metadata": {
    "ExecuteTime": {
     "end_time": "2020-06-23T08:13:55.373989Z",
     "start_time": "2020-06-23T08:13:55.301479Z"
    }
   },
   "outputs": [
    {
     "data": {
      "text/plain": [
       "43882"
      ]
     },
     "execution_count": 72,
     "metadata": {},
     "output_type": "execute_result"
    }
   ],
   "source": [
    "sessions_df['user'].nunique()"
   ]
  },
  {
   "cell_type": "code",
   "execution_count": 73,
   "metadata": {
    "ExecuteTime": {
     "end_time": "2020-06-23T08:14:11.596380Z",
     "start_time": "2020-06-23T08:14:11.583379Z"
    }
   },
   "outputs": [
    {
     "data": {
      "text/plain": [
       "(1544641,)"
      ]
     },
     "execution_count": 73,
     "metadata": {},
     "output_type": "execute_result"
    }
   ],
   "source": [
    "sessions_df['user'].shape"
   ]
  },
  {
   "cell_type": "markdown",
   "metadata": {},
   "source": [
    "Далее мы закодируем `id` авторов, чтобы нумерация начиналась с 0 и мы могли бы легко представить автора как вектор, у которого 1 стоит на компоненте, номер которой равен `id`. Для этого воспользуемся LabelEnocder'ом."
   ]
  },
  {
   "cell_type": "code",
   "execution_count": 7,
   "metadata": {
    "ExecuteTime": {
     "end_time": "2020-06-23T07:24:16.370693Z",
     "start_time": "2020-06-23T07:24:16.085110Z"
    },
    "scrolled": false
   },
   "outputs": [
    {
     "data": {
      "text/html": [
       "<div>\n",
       "<style scoped>\n",
       "    .dataframe tbody tr th:only-of-type {\n",
       "        vertical-align: middle;\n",
       "    }\n",
       "\n",
       "    .dataframe tbody tr th {\n",
       "        vertical-align: top;\n",
       "    }\n",
       "\n",
       "    .dataframe thead th {\n",
       "        text-align: right;\n",
       "    }\n",
       "</style>\n",
       "<table border=\"1\" class=\"dataframe\">\n",
       "  <thead>\n",
       "    <tr style=\"text-align: right;\">\n",
       "      <th></th>\n",
       "      <th>track_id</th>\n",
       "      <th>playcount</th>\n",
       "      <th>MBID</th>\n",
       "      <th>artist</th>\n",
       "    </tr>\n",
       "  </thead>\n",
       "  <tbody>\n",
       "    <tr>\n",
       "      <th>4</th>\n",
       "      <td>2247780</td>\n",
       "      <td>35.0</td>\n",
       "      <td>3b3faa59-e657-4127-b886-d344d0655b67</td>\n",
       "      <td>157</td>\n",
       "    </tr>\n",
       "    <tr>\n",
       "      <th>7</th>\n",
       "      <td>1611689</td>\n",
       "      <td>124.0</td>\n",
       "      <td>70f2a497-98f3-468d-a749-1d761161338b</td>\n",
       "      <td>992</td>\n",
       "    </tr>\n",
       "    <tr>\n",
       "      <th>13</th>\n",
       "      <td>1231115</td>\n",
       "      <td>304.0</td>\n",
       "      <td>NaN</td>\n",
       "      <td>262</td>\n",
       "    </tr>\n",
       "    <tr>\n",
       "      <th>17</th>\n",
       "      <td>3583293</td>\n",
       "      <td>139.0</td>\n",
       "      <td>NaN</td>\n",
       "      <td>1919</td>\n",
       "    </tr>\n",
       "    <tr>\n",
       "      <th>20</th>\n",
       "      <td>4933896</td>\n",
       "      <td>0.0</td>\n",
       "      <td>NaN</td>\n",
       "      <td>873</td>\n",
       "    </tr>\n",
       "  </tbody>\n",
       "</table>\n",
       "</div>"
      ],
      "text/plain": [
       "    track_id  playcount                                  MBID  artist\n",
       "4    2247780       35.0  3b3faa59-e657-4127-b886-d344d0655b67     157\n",
       "7    1611689      124.0  70f2a497-98f3-468d-a749-1d761161338b     992\n",
       "13   1231115      304.0                                   NaN     262\n",
       "17   3583293      139.0                                   NaN    1919\n",
       "20   4933896        0.0                                   NaN     873"
      ]
     },
     "execution_count": 7,
     "metadata": {},
     "output_type": "execute_result"
    }
   ],
   "source": [
    "artist_encoder = LabelEncoder()\n",
    "\n",
    "tracks_df['artist'] = artist_encoder.fit_transform(tracks_df['artist'])\n",
    "tracks_df.head()"
   ]
  },
  {
   "cell_type": "code",
   "execution_count": 8,
   "metadata": {
    "ExecuteTime": {
     "end_time": "2020-06-23T07:24:16.383568Z",
     "start_time": "2020-06-23T07:24:16.374072Z"
    }
   },
   "outputs": [],
   "source": [
    "def old_to_new_artist(old_artists):\n",
    "    new_artists = []\n",
    "\n",
    "    for artist in old_artists:\n",
    "        new_artists.append(ae_dict.get(artist, len(artist_encoder.classes_)))\n",
    "    \n",
    "    return new_artists\n",
    "\n",
    "ae_dict = dict(zip(artist_encoder.classes_, artist_encoder.transform(artist_encoder.classes_)))"
   ]
  },
  {
   "cell_type": "code",
   "execution_count": 9,
   "metadata": {
    "ExecuteTime": {
     "end_time": "2020-06-23T07:24:33.792900Z",
     "start_time": "2020-06-23T07:24:16.387075Z"
    },
    "scrolled": false
   },
   "outputs": [
    {
     "data": {
      "text/html": [
       "<div>\n",
       "<style scoped>\n",
       "    .dataframe tbody tr th:only-of-type {\n",
       "        vertical-align: middle;\n",
       "    }\n",
       "\n",
       "    .dataframe tbody tr th {\n",
       "        vertical-align: top;\n",
       "    }\n",
       "\n",
       "    .dataframe thead th {\n",
       "        text-align: right;\n",
       "    }\n",
       "</style>\n",
       "<table border=\"1\" class=\"dataframe\">\n",
       "  <thead>\n",
       "    <tr style=\"text-align: right;\">\n",
       "      <th></th>\n",
       "      <th>tracks_ids</th>\n",
       "      <th>play_ratios</th>\n",
       "      <th>artists_ids</th>\n",
       "      <th>user</th>\n",
       "      <th>numtracks</th>\n",
       "      <th>playtime</th>\n",
       "      <th>new_artists_ids</th>\n",
       "    </tr>\n",
       "  </thead>\n",
       "  <tbody>\n",
       "    <tr>\n",
       "      <th>2276205</th>\n",
       "      <td>[440094, 440870, 440094, 1175085, 234832, 1569...</td>\n",
       "      <td>[0.25, 0.31, 0.24, 0.66, 1.02, 1.0, 0.24, 1.02...</td>\n",
       "      <td>[53169, 53169, 53169, 149679, 29575, 197007, 1...</td>\n",
       "      <td>34397.0</td>\n",
       "      <td>29.0</td>\n",
       "      <td>5801.0</td>\n",
       "      <td>[288, 288, 288, 740, 145, 967, 1999, 1233, 164...</td>\n",
       "    </tr>\n",
       "    <tr>\n",
       "      <th>271697</th>\n",
       "      <td>[4472052, 4472053, 4472054, 4472055, 4472056, ...</td>\n",
       "      <td>[1.0, 1.0, 1.0, 1.0, 1.0, 1.0, 1.0]</td>\n",
       "      <td>[32845, 516728, 516673, 464651, 183272, 516727...</td>\n",
       "      <td>42258.0</td>\n",
       "      <td>7.0</td>\n",
       "      <td>1174.0</td>\n",
       "      <td>[1999, 1999, 1999, 1999, 1999, 1999, 1999]</td>\n",
       "    </tr>\n",
       "    <tr>\n",
       "      <th>1535535</th>\n",
       "      <td>[88747, 1654424, 280988, 3352710, 1539952, 237...</td>\n",
       "      <td>[0.69, 1.01, 1.01, 1.07, 1.01, 1.0, 1.03, 1.0,...</td>\n",
       "      <td>[12141, 208145, 34930, 416320, 192908, 296331,...</td>\n",
       "      <td>44236.0</td>\n",
       "      <td>22.0</td>\n",
       "      <td>4415.0</td>\n",
       "      <td>[51, 1999, 1999, 1999, 1999, 1999, 1999, 1999,...</td>\n",
       "    </tr>\n",
       "    <tr>\n",
       "      <th>953127</th>\n",
       "      <td>[2572652, 2572654, 2572653, 2572657, 2572656]</td>\n",
       "      <td>[0.76, 0.99, 1.38, 1.28, 1.0]</td>\n",
       "      <td>[322745, 322745, 322745, 322745, 322745]</td>\n",
       "      <td>29514.0</td>\n",
       "      <td>5.0</td>\n",
       "      <td>1578.0</td>\n",
       "      <td>[1999, 1999, 1999, 1999, 1999]</td>\n",
       "    </tr>\n",
       "    <tr>\n",
       "      <th>2380101</th>\n",
       "      <td>[2035490, 3035337, 3590890, 3300329, 3739026, ...</td>\n",
       "      <td>[1.0, 1.0, 1.0, 1.24, 1.0, 1.12, 0.67, 1.0, 1....</td>\n",
       "      <td>[254745, 374349, 448656, 408323, 447098, 11461...</td>\n",
       "      <td>20401.0</td>\n",
       "      <td>14.0</td>\n",
       "      <td>3580.0</td>\n",
       "      <td>[1999, 1683, 1922, 1801, 1914, 1999, 799, 1999...</td>\n",
       "    </tr>\n",
       "  </tbody>\n",
       "</table>\n",
       "</div>"
      ],
      "text/plain": [
       "                                                tracks_ids  \\\n",
       "2276205  [440094, 440870, 440094, 1175085, 234832, 1569...   \n",
       "271697   [4472052, 4472053, 4472054, 4472055, 4472056, ...   \n",
       "1535535  [88747, 1654424, 280988, 3352710, 1539952, 237...   \n",
       "953127       [2572652, 2572654, 2572653, 2572657, 2572656]   \n",
       "2380101  [2035490, 3035337, 3590890, 3300329, 3739026, ...   \n",
       "\n",
       "                                               play_ratios  \\\n",
       "2276205  [0.25, 0.31, 0.24, 0.66, 1.02, 1.0, 0.24, 1.02...   \n",
       "271697                 [1.0, 1.0, 1.0, 1.0, 1.0, 1.0, 1.0]   \n",
       "1535535  [0.69, 1.01, 1.01, 1.07, 1.01, 1.0, 1.03, 1.0,...   \n",
       "953127                       [0.76, 0.99, 1.38, 1.28, 1.0]   \n",
       "2380101  [1.0, 1.0, 1.0, 1.24, 1.0, 1.12, 0.67, 1.0, 1....   \n",
       "\n",
       "                                               artists_ids     user  \\\n",
       "2276205  [53169, 53169, 53169, 149679, 29575, 197007, 1...  34397.0   \n",
       "271697   [32845, 516728, 516673, 464651, 183272, 516727...  42258.0   \n",
       "1535535  [12141, 208145, 34930, 416320, 192908, 296331,...  44236.0   \n",
       "953127            [322745, 322745, 322745, 322745, 322745]  29514.0   \n",
       "2380101  [254745, 374349, 448656, 408323, 447098, 11461...  20401.0   \n",
       "\n",
       "         numtracks  playtime  \\\n",
       "2276205       29.0    5801.0   \n",
       "271697         7.0    1174.0   \n",
       "1535535       22.0    4415.0   \n",
       "953127         5.0    1578.0   \n",
       "2380101       14.0    3580.0   \n",
       "\n",
       "                                           new_artists_ids  \n",
       "2276205  [288, 288, 288, 740, 145, 967, 1999, 1233, 164...  \n",
       "271697          [1999, 1999, 1999, 1999, 1999, 1999, 1999]  \n",
       "1535535  [51, 1999, 1999, 1999, 1999, 1999, 1999, 1999,...  \n",
       "953127                      [1999, 1999, 1999, 1999, 1999]  \n",
       "2380101  [1999, 1683, 1922, 1801, 1914, 1999, 799, 1999...  "
      ]
     },
     "execution_count": 9,
     "metadata": {},
     "output_type": "execute_result"
    }
   ],
   "source": [
    "sessions_df['new_artists_ids'] = sessions_df['artists_ids'].apply(old_to_new_artist)\n",
    "sessions_df.head(10)"
   ]
  },
  {
   "cell_type": "code",
   "execution_count": 10,
   "metadata": {
    "ExecuteTime": {
     "end_time": "2020-06-23T07:24:35.176115Z",
     "start_time": "2020-06-23T07:24:33.796536Z"
    }
   },
   "outputs": [
    {
     "data": {
      "text/html": [
       "<div>\n",
       "<style scoped>\n",
       "    .dataframe tbody tr th:only-of-type {\n",
       "        vertical-align: middle;\n",
       "    }\n",
       "\n",
       "    .dataframe tbody tr th {\n",
       "        vertical-align: top;\n",
       "    }\n",
       "\n",
       "    .dataframe thead th {\n",
       "        text-align: right;\n",
       "    }\n",
       "</style>\n",
       "<table border=\"1\" class=\"dataframe\">\n",
       "  <thead>\n",
       "    <tr style=\"text-align: right;\">\n",
       "      <th></th>\n",
       "      <th>authors_ids</th>\n",
       "      <th>new_artists_ids</th>\n",
       "    </tr>\n",
       "  </thead>\n",
       "  <tbody>\n",
       "    <tr>\n",
       "      <th>0</th>\n",
       "      <td>[283322, 338265, 409167, 460940, 80485, 320708...</td>\n",
       "      <td>[1355, 1999, 1999, 1980, 454, 1500, 1501, 1999]</td>\n",
       "    </tr>\n",
       "    <tr>\n",
       "      <th>1</th>\n",
       "      <td>[202099, 202099, 216266, 216266, 344752, 34475...</td>\n",
       "      <td>[1999, 1999, 1999, 1999, 1999, 1999, 1999, 199...</td>\n",
       "    </tr>\n",
       "    <tr>\n",
       "      <th>2</th>\n",
       "      <td>[266376, 266376, 266376, 266376, 266376, 26637...</td>\n",
       "      <td>[1273, 1273, 1273, 1273, 1273, 1273, 1273, 199...</td>\n",
       "    </tr>\n",
       "    <tr>\n",
       "      <th>3</th>\n",
       "      <td>[153634, 191123, 175761, 318259, 41200, 16930,...</td>\n",
       "      <td>[1999, 1999, 1999, 1488, 1999, 1999, 1999, 199...</td>\n",
       "    </tr>\n",
       "    <tr>\n",
       "      <th>4</th>\n",
       "      <td>[252032, 446387, 184258, 446387, 305798]</td>\n",
       "      <td>[1999, 1908, 1999, 1908, 1441]</td>\n",
       "    </tr>\n",
       "  </tbody>\n",
       "</table>\n",
       "</div>"
      ],
      "text/plain": [
       "                                         authors_ids  \\\n",
       "0  [283322, 338265, 409167, 460940, 80485, 320708...   \n",
       "1  [202099, 202099, 216266, 216266, 344752, 34475...   \n",
       "2  [266376, 266376, 266376, 266376, 266376, 26637...   \n",
       "3  [153634, 191123, 175761, 318259, 41200, 16930,...   \n",
       "4           [252032, 446387, 184258, 446387, 305798]   \n",
       "\n",
       "                                     new_artists_ids  \n",
       "0    [1355, 1999, 1999, 1980, 454, 1500, 1501, 1999]  \n",
       "1  [1999, 1999, 1999, 1999, 1999, 1999, 1999, 199...  \n",
       "2  [1273, 1273, 1273, 1273, 1273, 1273, 1273, 199...  \n",
       "3  [1999, 1999, 1999, 1488, 1999, 1999, 1999, 199...  \n",
       "4                     [1999, 1908, 1999, 1908, 1441]  "
      ]
     },
     "execution_count": 10,
     "metadata": {},
     "output_type": "execute_result"
    }
   ],
   "source": [
    "playlists_df = pd.read_csv('data/playlist.csv', index_col=0)\n",
    "playlists_df['authors_ids'] = playlists_df['authors_ids'].apply(json.loads)\n",
    "playlists_df['new_artists_ids'] = playlists_df['authors_ids'].apply(old_to_new_artist)\n",
    "\n",
    "playlists_df.head()"
   ]
  },
  {
   "cell_type": "markdown",
   "metadata": {},
   "source": [
    "<a id='training_data'></a>"
   ]
  },
  {
   "cell_type": "markdown",
   "metadata": {},
   "source": [
    "## Training Data Generating \n",
    "Разбиение данных проведем по принципу скользящего окна, как это делается в CBOW или skip-gram. Размер окна установим равным 1 в каждую из сторон."
   ]
  },
  {
   "cell_type": "code",
   "execution_count": 9,
   "metadata": {
    "ExecuteTime": {
     "end_time": "2020-06-23T00:35:26.464574Z",
     "start_time": "2020-06-23T00:35:16.456603Z"
    },
    "scrolled": false
   },
   "outputs": [
    {
     "data": {
      "application/vnd.jupyter.widget-view+json": {
       "model_id": "06426b6717eb4395a41efa3eb16f9557",
       "version_major": 2,
       "version_minor": 0
      },
      "text/plain": [
       "HBox(children=(IntProgress(value=0, max=1544641), HTML(value='')))"
      ]
     },
     "metadata": {},
     "output_type": "display_data"
    },
    {
     "name": "stdout",
     "output_type": "stream",
     "text": [
      "\n",
      "Sizes of X & y: 3182009, 3182009\n",
      "\n",
      "([1250, 1999], 142)\n",
      "([142, 1177], 1999)\n",
      "([1999, 1146], 1177)\n",
      "([857, 1999], 858)\n",
      "([1384, 1170], 1999)\n",
      "([1999, 19], 1170)\n",
      "([1170, 1276], 19)\n",
      "([118, 1342], 1551)\n",
      "([1551, 1999], 1342)\n",
      "([1218, 1163], 649)\n"
     ]
    }
   ],
   "source": [
    "WINDOW_SIZE = 1\n",
    "train_x, train_y = [], []\n",
    "\n",
    "for session in tqdm_notebook(sessions_df['new_artists_ids']):\n",
    "    session = list(set(session))\n",
    "    if len(session) < (1 + WINDOW_SIZE * 2):\n",
    "        continue\n",
    "    \n",
    "    for i in range(len(session) - WINDOW_SIZE * 2): \n",
    "        train_x.append(session[i:i+WINDOW_SIZE] + session[i+WINDOW_SIZE+1:i+WINDOW_SIZE*2+1])\n",
    "        train_y.append(session[i+WINDOW_SIZE])\n",
    "\n",
    "print(f'Sizes of X & y: {len(train_x)}, {len(train_y)}\\n')\n",
    "print(*zip(train_x[:10], train_y[:10]), sep='\\n')"
   ]
  },
  {
   "cell_type": "code",
   "execution_count": 11,
   "metadata": {
    "ExecuteTime": {
     "end_time": "2020-06-23T00:35:28.687408Z",
     "start_time": "2020-06-23T00:35:26.476650Z"
    },
    "scrolled": true
   },
   "outputs": [
    {
     "data": {
      "text/plain": [
       "0"
      ]
     },
     "execution_count": 11,
     "metadata": {},
     "output_type": "execute_result"
    }
   ],
   "source": [
    "del sessions_df\n",
    "del tracks_df\n",
    "del persons_df\n",
    "\n",
    "gc.collect()"
   ]
  },
  {
   "cell_type": "markdown",
   "metadata": {},
   "source": [
    "<a id='model'></a>"
   ]
  },
  {
   "cell_type": "markdown",
   "metadata": {},
   "source": [
    "## Model (initialization & train)\n",
    "У нас имеется уже натренированная модель, которую можно загрузить с помощью следующей команды:\n",
    "\n",
    "```python\n",
    "model = keras.models.load_model('model_initial.hd5')\n",
    "```\n",
    "\n",
    "Размерность для наших эмбеддингов зададим равную 128, а размер словаря, т.е. сколько у нас имеется уникальных артистов равным этому числу. "
   ]
  },
  {
   "cell_type": "code",
   "execution_count": 21,
   "metadata": {
    "ExecuteTime": {
     "end_time": "2020-06-23T07:27:26.869766Z",
     "start_time": "2020-06-23T07:27:26.859582Z"
    },
    "scrolled": true
   },
   "outputs": [
    {
     "name": "stdout",
     "output_type": "stream",
     "text": [
      "VOCAB_SIZE = 2000\n",
      "EMBEDDING_SIZE = 128\n"
     ]
    }
   ],
   "source": [
    "WINDOW_SIZE=1\n",
    "VOCAB_SIZE = len(artist_encoder.classes_) + 1\n",
    "EMBEDDING_SIZE = 128\n",
    "\n",
    "print(f'VOCAB_SIZE = {VOCAB_SIZE}')\n",
    "print(f'EMBEDDING_SIZE = {EMBEDDING_SIZE}')"
   ]
  },
  {
   "cell_type": "markdown",
   "metadata": {},
   "source": [
    "У модели будет несколько слоев: "
   ]
  },
  {
   "cell_type": "code",
   "execution_count": 4,
   "metadata": {
    "ExecuteTime": {
     "end_time": "2020-06-23T00:44:57.451863Z",
     "start_time": "2020-06-23T00:44:57.284168Z"
    }
   },
   "outputs": [
    {
     "name": "stdout",
     "output_type": "stream",
     "text": [
      "WARNING:tensorflow:From /home/ivan/miniconda3/envs/py36/lib/python3.6/site-packages/tensorflow/python/framework/op_def_library.py:263: colocate_with (from tensorflow.python.framework.ops) is deprecated and will be removed in a future version.\n",
      "Instructions for updating:\n",
      "Colocations handled automatically by placer.\n",
      "_________________________________________________________________\n",
      "Layer (type)                 Output Shape              Param #   \n",
      "=================================================================\n",
      "input (InputLayer)           (None, 2)                 0         \n",
      "_________________________________________________________________\n",
      "embedding_1 (Embedding)      (None, 2, 128)            256000    \n",
      "_________________________________________________________________\n",
      "lambda_1 (Lambda)            (None, 2, 128)            0         \n",
      "_________________________________________________________________\n",
      "global_average_pooling1d_1 ( (None, 128)               0         \n",
      "_________________________________________________________________\n",
      "dense_1 (Dense)              (None, 2000)              258000    \n",
      "=================================================================\n",
      "Total params: 514,000\n",
      "Trainable params: 514,000\n",
      "Non-trainable params: 0\n",
      "_________________________________________________________________\n"
     ]
    }
   ],
   "source": [
    "input_layer = Input(shape=(WINDOW_SIZE * 2,), name='input')\n",
    "\n",
    "embedding = Embedding(input_dim=VOCAB_SIZE, output_dim=EMBEDDING_SIZE,\n",
    "                      input_length=WINDOW_SIZE * 2)(input_layer)\n",
    "embedding_norm = Lambda(lambda x: K.l2_normalize(x, axis=2))(embedding)\n",
    "embedding_avg = GlobalAveragePooling1D()(embedding_norm)\n",
    "\n",
    "softmax = Dense(VOCAB_SIZE, activation='softmax')(embedding_avg)\n",
    "\n",
    "model = Model(inputs=[input_layer], outputs=[softmax])\n",
    "model.summary()\n",
    "model.compile(loss='categorical_crossentropy', optimizer=Adam(), metrics=['accuracy'])"
   ]
  },
  {
   "cell_type": "markdown",
   "metadata": {},
   "source": [
    "**Training**\n",
    "\n",
    "При тренировке возможна MemoryError, для того, чтобы ее избежать требовалось разбивать тренировочные данные на куски и тренировать отдельно"
   ]
  },
  {
   "cell_type": "code",
   "execution_count": 52,
   "metadata": {
    "ExecuteTime": {
     "end_time": "2020-06-23T05:36:44.697773Z",
     "start_time": "2020-06-23T05:31:46.049146Z"
    }
   },
   "outputs": [
    {
     "name": "stdout",
     "output_type": "stream",
     "text": [
      "Train on 360000 samples, validate on 40000 samples\n",
      "Epoch 1/10\n",
      "360000/360000 [==============================] - 142s 395us/step - loss: 4.7769 - acc: 0.1662 - val_loss: 4.7526 - val_acc: 0.1678\n",
      "\n",
      "Epoch 00001: saving model to training_2/cp.ckpt\n",
      "Epoch 2/10\n",
      "360000/360000 [==============================] - 148s 410us/step - loss: 4.7152 - acc: 0.1697 - val_loss: 4.7661 - val_acc: 0.1675\n",
      "\n",
      "Epoch 00002: saving model to training_2/cp.ckpt\n"
     ]
    },
    {
     "data": {
      "text/plain": [
       "<keras.callbacks.History at 0x7f50c0148cf8>"
      ]
     },
     "execution_count": 52,
     "metadata": {},
     "output_type": "execute_result"
    }
   ],
   "source": [
    "checkpoint_path = \"training_2/cp.ckpt\"\n",
    "checkpoint_dir = os.path.dirname(checkpoint_path)\n",
    "\n",
    "cp_callback = ModelCheckpoint(filepath=checkpoint_path,\n",
    "                              save_weights_only=True,\n",
    "                              verbose=1)\n",
    "\n",
    "model.fit(np.array(train_x), to_categorical(train_y, num_classes=VOCAB_SIZE),\n",
    "          validation_split=0.1, epochs=10, verbose=True,\n",
    "          callbacks=[EarlyStopping(monitor='val_loss', min_delta=0.001), cp_callback])"
   ]
  },
  {
   "cell_type": "code",
   "execution_count": 70,
   "metadata": {
    "ExecuteTime": {
     "end_time": "2020-06-23T06:38:58.204533Z",
     "start_time": "2020-06-23T06:38:58.027305Z"
    }
   },
   "outputs": [],
   "source": [
    "# model.save_weights('model_weights')\n",
    "# model.save('model_initial.hd5')"
   ]
  },
  {
   "cell_type": "markdown",
   "metadata": {},
   "source": [
    "<a id='model_interpretation'></a>"
   ]
  },
  {
   "cell_type": "markdown",
   "metadata": {},
   "source": [
    "## Model Interpretation\n",
    "После того, как модель обучилась мы можем интерпретировать ее результаты. То есть докапаемся до того самого слоя, в котором зашиты наши векторные представления артистов."
   ]
  },
  {
   "cell_type": "code",
   "execution_count": 193,
   "metadata": {
    "ExecuteTime": {
     "end_time": "2020-06-23T10:08:27.711374Z",
     "start_time": "2020-06-23T10:08:27.630350Z"
    }
   },
   "outputs": [],
   "source": [
    "persons_df = pd.read_csv('data/persons.csv', index_col=0)"
   ]
  },
  {
   "cell_type": "code",
   "execution_count": 194,
   "metadata": {
    "ExecuteTime": {
     "end_time": "2020-06-23T10:08:27.975345Z",
     "start_time": "2020-06-23T10:08:27.882168Z"
    },
    "scrolled": true
   },
   "outputs": [
    {
     "data": {
      "text/plain": [
       "(2000, 128)"
      ]
     },
     "execution_count": 194,
     "metadata": {},
     "output_type": "execute_result"
    }
   ],
   "source": [
    "emb_weights = model.get_weights()[0]\n",
    "emb_weights.shape"
   ]
  },
  {
   "cell_type": "markdown",
   "metadata": {},
   "source": [
    "Для более наглядной визуализации я выбрал несколько артистов и нарисовал `heatmap`, где на пересечении двух значений цвет чем светлее - тем более похожи объекты, и наоборот."
   ]
  },
  {
   "cell_type": "code",
   "execution_count": 257,
   "metadata": {
    "ExecuteTime": {
     "end_time": "2020-06-23T10:34:30.671935Z",
     "start_time": "2020-06-23T10:34:30.619650Z"
    }
   },
   "outputs": [],
   "source": [
    "artists = [[37589], [91265], [440070], [76474],\n",
    "           [46787], [55251], [260323], [89928]]\n",
    "artists_names = [get_artist_name(artist, persons_df) for artist in artists]\n",
    "artists_encoded = list(map(old_to_new_artist, artists))"
   ]
  },
  {
   "cell_type": "markdown",
   "metadata": {},
   "source": [
    "Отнормируем векторы, чтобы можно было сравнивать схожесть векторов перемножая их.\n",
    "\n",
    "Если нормировка прошла успешно, то произведение вектора на самого себя должно давать 1, что значит, что он похож сам на себя."
   ]
  },
  {
   "cell_type": "code",
   "execution_count": 258,
   "metadata": {
    "ExecuteTime": {
     "end_time": "2020-06-23T10:34:31.054060Z",
     "start_time": "2020-06-23T10:34:31.038963Z"
    },
    "scrolled": false
   },
   "outputs": [
    {
     "name": "stdout",
     "output_type": "stream",
     "text": [
      "(8, 128)\n",
      "[1.0, 1.0000001, 0.99999994, 1.0000001, 0.99999994, 1.0000001, 1.0, 1.0]\n"
     ]
    }
   ],
   "source": [
    "artists_embedded = emb_weights[artists_encoded, :][:, 0, :]\n",
    "artists_embedded = [x / np.linalg.norm(x) for x in artists_embedded]\n",
    "\n",
    "print(np.shape(artists_embedded))\n",
    "print([np.sum(a ** 2) for a in artists_embedded])"
   ]
  },
  {
   "cell_type": "code",
   "execution_count": 277,
   "metadata": {
    "ExecuteTime": {
     "end_time": "2020-06-23T11:01:25.489972Z",
     "start_time": "2020-06-23T11:01:24.658642Z"
    },
    "scrolled": false
   },
   "outputs": [
    {
     "data": {
      "image/png": "[encoded data removed]",
      "text/plain": [
       "<Figure size 1008x720 with 2 Axes>"
      ]
     },
     "metadata": {
      "needs_background": "light"
     },
     "output_type": "display_data"
    }
   ],
   "source": [
    "plt.figure(figsize=(14, 10))\n",
    "sns.heatmap(np.dot(artists_embedded, np.transpose(artists_embedded, [1, 0])),\n",
    "            xticklabels=artists_names,\n",
    "            yticklabels=artists_names,\n",
    "            square=True\n",
    "           )\n",
    "plt.title('Схожесть авторов')\n",
    "plt.savefig('artists_heatmap.png')\n",
    "plt.show()"
   ]
  },
  {
   "cell_type": "markdown",
   "metadata": {},
   "source": [
    "<a id='indexing'></a>"
   ]
  },
  {
   "cell_type": "markdown",
   "metadata": {},
   "source": [
    "## Indexing\n",
    "Создадим поисковый индекс, который будет выдавать ближайшие вектора к данному"
   ]
  },
  {
   "cell_type": "code",
   "execution_count": 260,
   "metadata": {
    "ExecuteTime": {
     "end_time": "2020-06-23T10:34:39.537858Z",
     "start_time": "2020-06-23T10:34:39.531500Z"
    }
   },
   "outputs": [],
   "source": [
    "index = faiss.IndexFlatL2(EMBEDDING_SIZE)\n",
    "index.add(emb_weights)"
   ]
  },
  {
   "cell_type": "markdown",
   "metadata": {},
   "source": [
    "<a id='recommendation'></a>"
   ]
  },
  {
   "cell_type": "markdown",
   "metadata": {},
   "source": [
    "## Recommendation\n",
    "\n",
    "Посмотрим какие рекомендации мы получим для таких исполнителей как: `Ария`, `One Direction`, `J.S. Bach`"
   ]
  },
  {
   "cell_type": "code",
   "execution_count": 271,
   "metadata": {
    "ExecuteTime": {
     "end_time": "2020-06-23T10:40:13.616782Z",
     "start_time": "2020-06-23T10:40:13.612807Z"
    }
   },
   "outputs": [],
   "source": [
    "def get_recommendations(artist, num=20):\n",
    "    artist = old_to_new_artist([artist])\n",
    "\n",
    "    recommends = []\n",
    "    D, I = index.search(emb_weights[artist, :], num+1)\n",
    "    for idx in artist_encoder.inverse_transform(I[0])[1:]:\n",
    "        recommends.append(get_artist_name(idx, persons_df))\n",
    "    \n",
    "    return recommends"
   ]
  },
  {
   "cell_type": "markdown",
   "metadata": {},
   "source": [
    "**Ария**"
   ]
  },
  {
   "cell_type": "code",
   "execution_count": 272,
   "metadata": {
    "ExecuteTime": {
     "end_time": "2020-06-23T10:40:14.593172Z",
     "start_time": "2020-06-23T10:40:14.563708Z"
    }
   },
   "outputs": [
    {
     "name": "stdout",
     "output_type": "stream",
     "text": [
      "Ария 89928\n",
      "Ария 89928\n",
      "Ария 89928\n",
      "[89928]\n"
     ]
    }
   ],
   "source": [
    "artist = find_artist('Ария', persons_df)\n",
    "print(artist)"
   ]
  },
  {
   "cell_type": "code",
   "execution_count": 273,
   "metadata": {
    "ExecuteTime": {
     "end_time": "2020-06-23T10:40:15.009093Z",
     "start_time": "2020-06-23T10:40:14.953355Z"
    },
    "scrolled": false
   },
   "outputs": [
    {
     "name": "stdout",
     "output_type": "stream",
     "text": [
      "Алиса\n",
      "Гражданская Оборона\n",
      "Владимир Высоцкий\n",
      "Би-2\n",
      "Аквариум  & Дживан Гаспарян\n",
      "DDT\n",
      "Алла Пугачева & София Ротару\n",
      "5'nizza\n",
      "Агата Кристи\n",
      "Cause For Effect\n",
      "Баста\n",
      "Пранкота\n",
      "Король и шут\n",
      "Земфира & Billy's band & Esthetic Education\n",
      "Blackmores Night\n",
      "Кино\n",
      "Bathory\n",
      "Manowar\n",
      "Дельфин (Dolphin)\n",
      "Элизиум\n"
     ]
    }
   ],
   "source": [
    "print(*get_recommendations(89928) ,sep='\\n')"
   ]
  },
  {
   "cell_type": "markdown",
   "metadata": {},
   "source": [
    "Видим исполнителей, чьи названия написаны на русском и знакомы нам, это хороший знак того, что векторы относительно языков собраны нормально и отделяются."
   ]
  },
  {
   "cell_type": "markdown",
   "metadata": {},
   "source": [
    "**One Direction**"
   ]
  },
  {
   "cell_type": "code",
   "execution_count": 262,
   "metadata": {
    "ExecuteTime": {
     "end_time": "2020-06-23T10:37:09.464671Z",
     "start_time": "2020-06-23T10:37:09.438707Z"
    }
   },
   "outputs": [
    {
     "name": "stdout",
     "output_type": "stream",
     "text": [
      "Hardwell & Joey Dale 427612\n",
      "One Direction 260323\n",
      "[260323, 427612]\n"
     ]
    }
   ],
   "source": [
    "artist = find_artist('Direction', persons_df)\n",
    "print(artist)"
   ]
  },
  {
   "cell_type": "code",
   "execution_count": 274,
   "metadata": {
    "ExecuteTime": {
     "end_time": "2020-06-23T10:40:43.517340Z",
     "start_time": "2020-06-23T10:40:43.461046Z"
    },
    "scrolled": true
   },
   "outputs": [
    {
     "name": "stdout",
     "output_type": "stream",
     "text": [
      "Fall Out Boy\n",
      "Imagine Dragons & Fall Out Boy\n",
      "OneRepublic & Alesso\n",
      "Paramore\n",
      "Jason Derulo\n",
      "Iggy Azalea feat. Rita Ora\n",
      "Glee Cast\n",
      "The Cranberries\n",
      "Simple Plan\n",
      "Passenger Official\n",
      "Backstreet Boys\n",
      "Twit\n",
      "Wale\n",
      "Michael W. Smith\n",
      "Christina Aguilera feat. CeeLo Green\n",
      "The Economist\n",
      "Tiësto & Firebeatz feat. Ladyhawke\n",
      "TBS RADIO 954kHz\n",
      "Boyce Avenue & Tiffany Alvord acoustic cover\n",
      "Catherine Coulter\n"
     ]
    }
   ],
   "source": [
    "print(*get_recommendations(260323) ,sep='\\n')"
   ]
  },
  {
   "cell_type": "markdown",
   "metadata": {},
   "source": [
    "Топ-15 артистов я когда-либо слышал, что тоже хорошо и стиль у этих артистов похожий"
   ]
  },
  {
   "cell_type": "markdown",
   "metadata": {},
   "source": [
    "**J.S. Bach**"
   ]
  },
  {
   "cell_type": "code",
   "execution_count": 275,
   "metadata": {
    "ExecuteTime": {
     "end_time": "2020-06-23T10:41:22.790266Z",
     "start_time": "2020-06-23T10:41:22.743677Z"
    },
    "scrolled": false
   },
   "outputs": [
    {
     "name": "stdout",
     "output_type": "stream",
     "text": [
      "J.S. Bach 37589\n",
      "J.S. Bach 37589\n",
      "J.S. Bach 37589\n",
      "Medeski Martin and Wood 225577\n",
      "Luciano Pavarotti & Sting 208250\n",
      "J.S. Bach 37589\n",
      "Neil Young 248009\n",
      "J.S. Bach 37589\n",
      "エルヴィス・コステロ & ザ・ルーツ 124041\n",
      "J.S. Bach 37589\n",
      "Dionne Warwick 114529\n",
      "J.S. Bach 37589\n",
      "J.S. Bach 37589\n",
      "[114529, 124041, 225577, 248009, 37589, 208250]\n"
     ]
    }
   ],
   "source": [
    "artist = find_artist('Bach', persons_df)\n",
    "print(artist)"
   ]
  },
  {
   "cell_type": "code",
   "execution_count": 276,
   "metadata": {
    "ExecuteTime": {
     "end_time": "2020-06-23T10:41:40.667698Z",
     "start_time": "2020-06-23T10:41:40.616983Z"
    },
    "scrolled": true
   },
   "outputs": [
    {
     "name": "stdout",
     "output_type": "stream",
     "text": [
      "Nikolaus Harnoncourt & Zürich Opera Orchestra\n",
      "Gabriel Fauré & Oxford Camerata\n",
      "Giacomo Puccini\n",
      "Maria Callas\n",
      "Jordi Savall & Hespèrion XX\n",
      "Giuseppe Verdi\n",
      "Georg Philipp Telemann\n",
      "Chopin (Angela Hewitt)\n",
      "Sviatoslav Richter & Wiener Symphoniker & Herbert von Karajan\n",
      "Vladimir Horowitz & Sergei Rachmaninoff\n",
      "Frederic Chopin & André Laplante\n",
      "Michael Nyman\n",
      "Luigi Boccherini\n",
      "Vladimir Ashkenazy [Piano]\n",
      "TKKG\n",
      "Dmitri Shostakovich\n",
      "Catherine Coulter\n",
      "Amanda Quick\n",
      "MarthaDebayle\n",
      "TBS RADIO 954kHz\n"
     ]
    }
   ],
   "source": [
    "print(*get_recommendations(37589) ,sep='\\n')"
   ]
  },
  {
   "cell_type": "markdown",
   "metadata": {},
   "source": [
    "В классической музыке я не разбираюсь, но Рахманинов, Шостакович и Шопен их этой сферы тоже на слуху у многих."
   ]
  },
  {
   "cell_type": "markdown",
   "metadata": {},
   "source": [
    "<a id='metric_eval'></a>"
   ]
  },
  {
   "cell_type": "markdown",
   "metadata": {},
   "source": [
    "## Metric evaluation"
   ]
  },
  {
   "cell_type": "code",
   "execution_count": 192,
   "metadata": {
    "ExecuteTime": {
     "end_time": "2020-06-23T09:24:11.314089Z",
     "start_time": "2020-06-23T09:23:13.122457Z"
    },
    "scrolled": true
   },
   "outputs": [
    {
     "data": {
      "application/vnd.jupyter.widget-view+json": {
       "model_id": "20ba88e81bf44e4e84cd296e2d07033b",
       "version_major": 2,
       "version_minor": 0
      },
      "text/plain": [
       "HBox(children=(IntProgress(value=0, max=57561), HTML(value='')))"
      ]
     },
     "metadata": {},
     "output_type": "display_data"
    },
    {
     "name": "stdout",
     "output_type": "stream",
     "text": [
      "\n",
      "0.016399993050851193\n"
     ]
    }
   ],
   "source": [
    "summ = 0\n",
    "\n",
    "for playlist in tqdm_notebook(playlists_df['new_artists_ids']):\n",
    "    playlist = list(set(playlist))\n",
    "    summ += metric(playlist, index, emb_weights, k=5)\n",
    "\n",
    "print(summ / len(playlists_df))"
   ]
  },
  {
   "cell_type": "markdown",
   "metadata": {},
   "source": [
    "<a id='conclusion'></a>"
   ]
  },
  {
   "cell_type": "markdown",
   "metadata": {},
   "source": [
    "## Conclusion\n",
    "\n",
    "Подводя итоги можно сказать, что метод построеня векторного представления артистов, основанный на CBOW/skip-gram методах показал себя довольно хорошо, даже визуально очевидно качество такого представления.\n",
    "\n",
    "У модели есть потенциал для обучения, есть еще несколько методов генерации тренировочных данных для такого рода природы данных.\n",
    "\n",
    "Также не были использованы данные из фацлов с тегами, действиями и пользователями. Их тоже можно добавить для повышения качества модели.\n"
   ]
  }
 ],
 "metadata": {
  "kernelspec": {
   "display_name": "Python 3",
   "language": "python",
   "name": "python3"
  },
  "language_info": {
   "codemirror_mode": {
    "name": "ipython",
    "version": 3
   },
   "file_extension": ".py",
   "mimetype": "text/x-python",
   "name": "python",
   "nbconvert_exporter": "python",
   "pygments_lexer": "ipython3",
   "version": "3.6.8"
  }
 },
 "nbformat": 4,
 "nbformat_minor": 2
}
